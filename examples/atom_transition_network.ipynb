{
 "cells": [
  {
   "cell_type": "markdown",
   "id": "2b87602b-4757-4ad3-8c3a-4bc543a343b3",
   "metadata": {},
   "source": [
    "# Atom transition network\n",
    "\n",
    "For theoretical background, see [article](https://doi.org/10.1371/journal.pcbi.1004999):\n",
    "\n",
    "Identification of Conserved Moieties in Metabolic Networks by Graph Theoretical Analysis of Atom Transition Networks\n",
    "Haraldsdóttir HS, Fleming RMT (2016) PLOS Computational Biology 12(11): e1004999. https://doi.org/10.1371/journal.pcbi.1004999 \n",
    "\n",
    "From the article:\n",
    "\n",
    "_Metabolic reactions conserve mass and chemical elements. Therefore, there must exist a mapping from each atom in a reactant metabolite to a single atom of the same element in a product metabolite. An atom transition is a single mapping from a substrate to a product atom. An atom transition network contains information about all atom transitions in a metabolic network. It is a mathematical structure that enables one to trace the paths of each individual atom through a metabolic network._"
   ]
  },
  {
   "cell_type": "markdown",
   "id": "5fa2e447-bcc7-4204-a8ce-37269f838607",
   "metadata": {},
   "source": [
    "**Lets construct Atom Transition Network for Rhea reactions.**"
   ]
  },
  {
   "cell_type": "markdown",
   "id": "bc7b3d21-3bad-45c2-a713-2d7154878c2a",
   "metadata": {},
   "source": [
    "1. Initiate RheaDB class: load Rhea data into memory"
   ]
  },
  {
   "cell_type": "code",
   "execution_count": null,
   "id": "de325445-0c43-4eb1-9eef-4b82b0732e08",
   "metadata": {},
   "outputs": [],
   "source": [
    "from pyrheadb.RheaDB import RheaDB\n",
    "rdb = RheaDB()"
   ]
  },
  {
   "cell_type": "markdown",
   "id": "20989861-542c-4e93-befe-6e011757dd69",
   "metadata": {},
   "source": [
    "Drop reactions with * (R-compound reactions, not used in atom-transition network)"
   ]
  },
  {
   "cell_type": "markdown",
   "id": "7a6ecaf3-f982-420b-9522-4f3496791f8c",
   "metadata": {},
   "source": [
    "2. Initiate AtomTransitionNetwork class: class that transforms Rhea data into transition network using AtomMapper"
   ]
  },
  {
   "cell_type": "code",
   "execution_count": null,
   "id": "34baecb9-6aa3-4135-962f-42fe215a2803",
   "metadata": {},
   "outputs": [],
   "source": [
    "from pyrheadb.AtomTransitionNetwork import AtomTransitionNetwork\n",
    "atn = AtomTransitionNetwork(rheadata=rdb)"
   ]
  },
  {
   "cell_type": "code",
   "execution_count": null,
   "id": "67c59d3a-a055-4bed-a036-c57b80677ecc",
   "metadata": {},
   "outputs": [],
   "source": [
    "atn.create_atom_transition_network()"
   ]
  },
  {
   "cell_type": "code",
   "execution_count": null,
   "id": "222d9834-4604-4270-9451-499dcbfdd7f9",
   "metadata": {},
   "outputs": [],
   "source": [
    "atn.plot_subgraph_size_vs_count(plotid='default')"
   ]
  },
  {
   "cell_type": "code",
   "execution_count": null,
   "id": "cacb726d-a854-434a-b408-0ea3fc8913c2",
   "metadata": {},
   "outputs": [],
   "source": [
    "from IPython.display import Image\n",
    "import os"
   ]
  },
  {
   "cell_type": "code",
   "execution_count": null,
   "id": "5a50ca84-4cc9-4b99-8965-7f796c1d178c",
   "metadata": {},
   "outputs": [],
   "source": [
    "Image(filename=os.path.join('plots', 'atom_transition_network_subgraphs_size_vs_count_default.png'), width=600)"
   ]
  },
  {
   "cell_type": "code",
   "execution_count": null,
   "id": "9229e4c7-f9c8-4d47-b90c-463cfc38f33e",
   "metadata": {},
   "outputs": [],
   "source": [
    "# This snippet is needed if you modified the atn.G and now you want to lead the original one from the pickle file\n",
    "\n",
    "import pandas as pd\n",
    "import networkx as nx\n",
    "atn.load_networkx_graph()"
   ]
  },
  {
   "cell_type": "code",
   "execution_count": null,
   "id": "7a059f47-976b-4cf2-bdd3-9a447b93368e",
   "metadata": {},
   "outputs": [],
   "source": [
    "# This snippet prints a list of all compound-items that are lonely - result of transport reactions and polymer reactions\n",
    "\n",
    "# for subgraph in nx.connected_components(atn.G):\n",
    "#     if len(subgraph)==1:\n",
    "#         print(subgraph)"
   ]
  },
  {
   "cell_type": "code",
   "execution_count": null,
   "id": "592253df-30ef-4610-9192-2826c134368c",
   "metadata": {},
   "outputs": [],
   "source": [
    "non_polymers = [node for node in atn.G.nodes() if not node.startswith('POLYMER')]"
   ]
  },
  {
   "cell_type": "code",
   "execution_count": null,
   "id": "7aed2500-145a-44ce-97e9-e6a442b34a14",
   "metadata": {},
   "outputs": [],
   "source": [
    "print('Total compound-atoms:', len(atn.G.nodes()))\n",
    "print('Non polymer compound-atoms:', len(non_polymers))\n",
    "print('Polymer compound-atoms (excluded):', len(atn.G.nodes())-len(non_polymers))\n",
    "non_polymer_subgraph = atn.G.subgraph(non_polymers).copy()\n",
    "atn.G = non_polymer_subgraph"
   ]
  },
  {
   "cell_type": "code",
   "execution_count": null,
   "id": "aebcca29-7a9b-4293-b2b2-6cf5eb762b8d",
   "metadata": {},
   "outputs": [],
   "source": [
    "print(atn.G)"
   ]
  },
  {
   "cell_type": "code",
   "execution_count": null,
   "id": "049b3fd5-2e61-4398-88a9-b80d08c47239",
   "metadata": {},
   "outputs": [],
   "source": [
    "atn.plot_subgraph_size_vs_count(plotid='no_polymers')"
   ]
  },
  {
   "cell_type": "code",
   "execution_count": null,
   "id": "97d558e8-982a-44ae-9de8-efb9cc0cc5f6",
   "metadata": {},
   "outputs": [],
   "source": [
    "Image(filename=os.path.join('plots', 'atom_transition_network_subgraphs_size_vs_count_no_polymers.png'), width=600)"
   ]
  },
  {
   "cell_type": "code",
   "execution_count": null,
   "id": "4700b72d-4652-4050-9547-0485269184cc",
   "metadata": {},
   "outputs": [],
   "source": [
    "# This snippet prints a list of all compound-items that are lonely - result of transport reactions and polymer reactions\n",
    "\n",
    "for subgraph in nx.connected_components(atn.G):\n",
    "    if len(subgraph)==1:\n",
    "        print(subgraph)"
   ]
  },
  {
   "cell_type": "code",
   "execution_count": null,
   "id": "9bfecd69-2e92-44e8-94c4-e97c2f2cf4d7",
   "metadata": {},
   "outputs": [],
   "source": []
  }
 ],
 "metadata": {
  "kernelspec": {
   "display_name": "pyrheadbenv",
   "language": "python",
   "name": "pyrheadbenv"
  },
  "language_info": {
   "codemirror_mode": {
    "name": "ipython",
    "version": 3
   },
   "file_extension": ".py",
   "mimetype": "text/x-python",
   "name": "python",
   "nbconvert_exporter": "python",
   "pygments_lexer": "ipython3",
   "version": "3.9.13"
  }
 },
 "nbformat": 4,
 "nbformat_minor": 5
}
