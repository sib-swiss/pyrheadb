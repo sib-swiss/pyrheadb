{
 "cells": [
  {
   "cell_type": "markdown",
   "id": "2b87602b-4757-4ad3-8c3a-4bc543a343b3",
   "metadata": {},
   "source": [
    "# Atom transition network\n",
    "\n",
    "For theoretical background, see [article](https://doi.org/10.1371/journal.pcbi.1004999):\n",
    "\n",
    "Identification of Conserved Moieties in Metabolic Networks by Graph Theoretical Analysis of Atom Transition Networks\n",
    "Haraldsdóttir HS, Fleming RMT (2016) PLOS Computational Biology 12(11): e1004999. https://doi.org/10.1371/journal.pcbi.1004999 \n",
    "\n",
    "From the article:\n",
    "\n",
    "_Metabolic reactions conserve mass and chemical elements. Therefore, there must exist a mapping from each atom in a reactant metabolite to a single atom of the same element in a product metabolite. An atom transition is a single mapping from a substrate to a product atom. An atom transition network contains information about all atom transitions in a metabolic network. It is a mathematical structure that enables one to trace the paths of each individual atom through a metabolic network._"
   ]
  },
  {
   "cell_type": "markdown",
   "id": "5fa2e447-bcc7-4204-a8ce-37269f838607",
   "metadata": {},
   "source": [
    "**Lets construct Atom Transition Network for Rhea reactions.**"
   ]
  },
  {
   "cell_type": "markdown",
   "id": "bc7b3d21-3bad-45c2-a713-2d7154878c2a",
   "metadata": {},
   "source": [
    "1. Initiate RheaDB class: load Rhea data into memory"
   ]
  },
  {
   "cell_type": "code",
   "execution_count": null,
   "id": "de325445-0c43-4eb1-9eef-4b82b0732e08",
   "metadata": {},
   "outputs": [],
   "source": [
    "from pyrheadb.RheaDB import RheaDB\n",
    "rdb = RheaDB()"
   ]
  },
  {
   "cell_type": "markdown",
   "id": "20989861-542c-4e93-befe-6e011757dd69",
   "metadata": {},
   "source": [
    "Drop reactions with * (R-compound reactions, not used in atom-transition network)"
   ]
  },
  {
   "cell_type": "markdown",
   "id": "7a6ecaf3-f982-420b-9522-4f3496791f8c",
   "metadata": {},
   "source": [
    "2. Initiate AtomTransitionNetwork class: class that transforms Rhea data into transition network using AtomMapper"
   ]
  },
  {
   "cell_type": "code",
   "execution_count": null,
   "id": "34baecb9-6aa3-4135-962f-42fe215a2803",
   "metadata": {},
   "outputs": [],
   "source": [
    "from pyrheadb.AtomTransitionNetwork import AtomTransitionNetwork\n",
    "atn = AtomTransitionNetwork(rheadata=rdb)"
   ]
  },
  {
   "cell_type": "code",
   "execution_count": null,
   "id": "66de4b28-5b4c-4fd8-870e-a707b4be8eef",
   "metadata": {},
   "outputs": [],
   "source": [
    "dict_compid_to_smiles = atn.get_dict_compid_to_smiles()"
   ]
  },
  {
   "cell_type": "code",
   "execution_count": null,
   "id": "9861f7b4-6d20-400c-8fde-3acc98d34141",
   "metadata": {},
   "outputs": [],
   "source": [
    "dict_numbered =  atn.number_atoms_in_dict(dict_compid_to_smiles)"
   ]
  },
  {
   "cell_type": "code",
   "execution_count": null,
   "id": "67c59d3a-a055-4bed-a036-c57b80677ecc",
   "metadata": {},
   "outputs": [],
   "source": [
    "atn.create_atom_transition_network()"
   ]
  },
  {
   "cell_type": "code",
   "execution_count": null,
   "id": "222d9834-4604-4270-9451-499dcbfdd7f9",
   "metadata": {},
   "outputs": [],
   "source": [
    "atn.analyze_atom_mapped_graph()"
   ]
  },
  {
   "cell_type": "code",
   "execution_count": null,
   "id": "3fb9ea3c-47c9-4c5a-91ce-7987d4ca8c29",
   "metadata": {},
   "outputs": [],
   "source": []
  }
 ],
 "metadata": {
  "kernelspec": {
   "display_name": "pyrheadbenv",
   "language": "python",
   "name": "pyrheadbenv"
  },
  "language_info": {
   "codemirror_mode": {
    "name": "ipython",
    "version": 3
   },
   "file_extension": ".py",
   "mimetype": "text/x-python",
   "name": "python",
   "nbconvert_exporter": "python",
   "pygments_lexer": "ipython3",
   "version": "3.9.13"
  }
 },
 "nbformat": 4,
 "nbformat_minor": 5
}
