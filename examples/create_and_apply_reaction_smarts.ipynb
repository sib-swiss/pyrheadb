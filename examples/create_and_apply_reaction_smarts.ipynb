{
 "cells": [
  {
   "cell_type": "markdown",
   "id": "421f6bee-e7ce-4e22-8568-c9a083375c83",
   "metadata": {
    "tags": []
   },
   "source": [
    "# Predicting reactions"
   ]
  },
  {
   "cell_type": "markdown",
   "id": "d9db02a6-238a-4f7d-a406-d0995be58602",
   "metadata": {
    "tags": []
   },
   "source": [
    "## Intro\n",
    "Predicting reactions based on reaction templates is important for synthetic biology, biotechnology, and other areas that need to establish connections between molecules that are not currently annotated in existing databases.\n",
    "Examples of existing tools for application of reaction templates are:\n",
    "* [BNICE](https://doi.org/10.1093/bioinformatics/bti213)\n",
    "* [Pickaxe](https://github.com/tyo-nu/MINE-Database)\n",
    "\n",
    "The basic mechanism of action is as follows:\n",
    "1. Take template (e.g. R-C=O -> R-C-OH)\n",
    "2. Take compound (e.g. C-C-C-C=O)\n",
    "3. Apply template to compound and get the reaction (e.g. C-C-C-C=O -> C-C-C-C-OH)\n",
    "\n",
    "A common way to represent reaction templates is [reaction SMARTS](https://www.daylight.com/dayhtml/doc/theory/theory.smarts.html). SMARTS serve as a substructure search linear molecule expression (analagous to regular expressions in text).\n",
    "\n",
    "One of the existing python libraries for application of reaction SMARTS to compounds for reaction generation is [rdkit](https://www.rdkit.org/docs/source/rdkit.Chem.rdChemReactions.html)."
   ]
  },
  {
   "cell_type": "markdown",
   "id": "0fd88d0e-0b15-43f8-a3df-d0051cf0e9b9",
   "metadata": {},
   "source": [
    "## Predicting reactions using Rhea templates"
   ]
  },
  {
   "cell_type": "markdown",
   "id": "6e9242df-80dc-41e8-8bbc-f3b6b7049941",
   "metadata": {},
   "source": [
    "This notebook generates SMARTS from generic Rhea reactions (reactions with R-compounds or star(\\*)-compounds) and applies them as reactions."
   ]
  },
  {
   "cell_type": "markdown",
   "id": "a8651d7d-80d2-4e62-be60-ba8ac1027ffb",
   "metadata": {},
   "source": [
    "1. Use RheaDB class to access the RheaDB data "
   ]
  },
  {
   "cell_type": "code",
   "execution_count": 1,
   "id": "03752494-44e9-4b5d-9dc9-8d899401715b",
   "metadata": {},
   "outputs": [
    {
     "name": "stdout",
     "output_type": "stream",
     "text": [
      "Your Rhea DB version is 135\n",
      "Using previously downloaded Rhea version\n"
     ]
    }
   ],
   "source": [
    "from pyrheadb.RheaDB import RheaDB\n",
    "rdb = RheaDB()"
   ]
  },
  {
   "cell_type": "code",
   "execution_count": 2,
   "id": "f1d0b889",
   "metadata": {},
   "outputs": [
    {
     "name": "stdout",
     "output_type": "stream",
     "text": [
      "Reactions with * : 2394\n",
      "Reactions with compounds defined : 14568\n"
     ]
    }
   ],
   "source": [
    "print('Reactions with * :',  len(rdb.df_reactions[rdb.df_reactions['class_reaction_flag']==True]))\n",
    "print('Reactions with compounds defined :',  len(rdb.df_reactions[rdb.df_reactions['class_reaction_flag']==False]))"
   ]
  },
  {
   "cell_type": "markdown",
   "id": "4663c1dd-8355-40f5-b4e1-1ff3f0b30b77",
   "metadata": {},
   "source": [
    "2. Use ReactionSmartsConverter class to identify Rhea reactions that can act as templates (class reactions) and convert them to SMARTS using atom mapping with [RXNMapper](https://github.com/rxn4chemistry/rxnmapper)"
   ]
  },
  {
   "cell_type": "code",
   "execution_count": 3,
   "id": "4ab9673c-fa86-482c-aaaf-ed70b6adbf67",
   "metadata": {},
   "outputs": [],
   "source": [
    "from pyrheadb.ReactionSmartsConverter import ReactionSmartsConverter\n",
    "rxn_smarts_cvrt = ReactionSmartsConverter(rdb)"
   ]
  },
  {
   "cell_type": "code",
   "execution_count": 4,
   "id": "7283a62a-0c87-4dc8-a50d-5746ea89de7c",
   "metadata": {},
   "outputs": [
    {
     "name": "stdout",
     "output_type": "stream",
     "text": [
      "Converting reaction SMILES into SMARTS\n"
     ]
    },
    {
     "name": "stderr",
     "output_type": "stream",
     "text": [
      " 21%|████████▍                               | 389/1849 [00:13<00:41, 35.60it/s]Token indices sequence length is longer than the specified maximum sequence length for this model (539 > 512). Running this sequence through the model will result in indexing errors\n",
      "100%|███████████████████████████████████████| 1849/1849 [01:05<00:00, 28.12it/s]"
     ]
    },
    {
     "name": "stdout",
     "output_type": "stream",
     "text": [
      "{'6'}\n",
      "{'1'}\n",
      "{'1'}\n",
      "{'1'}\n",
      "{'1'}\n",
      "{'1'}\n",
      "{'1'}\n",
      "{'56'}\n"
     ]
    },
    {
     "name": "stderr",
     "output_type": "stream",
     "text": [
      "\n"
     ]
    }
   ],
   "source": [
    "rxn_smarts_cvrt.convert_all_rhea_smiles_to_smarts()"
   ]
  },
  {
   "cell_type": "markdown",
   "id": "6b227778-86ff-487d-9b22-b03374476eb0",
   "metadata": {},
   "source": [
    "3. Use ReactionPrediction class to apply the resulting reaction SMARTS to desired compounds"
   ]
  },
  {
   "cell_type": "code",
   "execution_count": 5,
   "id": "b3437664-8c51-4415-81d6-22173fac08da",
   "metadata": {},
   "outputs": [],
   "source": [
    "from pyrheadb.ReactionPrediction import ReactionPrediction"
   ]
  },
  {
   "cell_type": "code",
   "execution_count": 6,
   "id": "5c88fd83-6de5-4b4b-88fd-e89b21d54e09",
   "metadata": {},
   "outputs": [],
   "source": [
    "# Initiate ReactionPrediction class - do not forget to initiate it with RheaDB to be able to access Rhea data from the class\n",
    "rxnpred = ReactionPrediction(rdb)"
   ]
  },
  {
   "cell_type": "markdown",
   "id": "4a613eee-d0b5-4eaf-aaf6-3d952936de11",
   "metadata": {},
   "source": [
    "There are two possibilities to interpret reaction SMARTS:\n",
    "1. All compounds are included into SMARTS. SMARTS will try to find a pattern match in provided compounds for every necessary reactant, including fully defined cofactors/cosubstrates (e.g. NADH, ATP, etc.)\n",
    "2. Only use star (*/R) compounds in SMARTS. The default compounds will be added after product structure calculation for balance\n",
    "\n",
    "* set_star_smarts_only: False - option 1 (reaction SMARTS applied as a whole)\n",
    "* set_star_smarts_only: True - option 2 (only the star-compounds used)"
   ]
  },
  {
   "cell_type": "markdown",
   "id": "5ede0d7b-e084-49e1-a44f-fa4ba08a637f",
   "metadata": {},
   "source": [
    "**First, do the analysis with the full SMARTS**"
   ]
  },
  {
   "cell_type": "code",
   "execution_count": 7,
   "id": "e3669aa4-4cbe-4b1d-beff-7bcf6ffb6ebd",
   "metadata": {},
   "outputs": [],
   "source": [
    "rxnpred.set_star_smarts_only(False)"
   ]
  },
  {
   "cell_type": "markdown",
   "id": "0aa244b4-abd8-448c-8019-878143b5352f",
   "metadata": {},
   "source": [
    "Now lets load SMARTS data that was generated with ReactionSmartsConverter"
   ]
  },
  {
   "cell_type": "code",
   "execution_count": 8,
   "id": "b1f64db1-8ca9-40a5-909f-728fda3ca941",
   "metadata": {},
   "outputs": [],
   "source": [
    "rxnpred.load_smarts_data()"
   ]
  },
  {
   "cell_type": "code",
   "execution_count": 9,
   "id": "6bfc66e6-7bec-4d2c-9c5a-15a27d0912b2",
   "metadata": {},
   "outputs": [
    {
     "name": "stdout",
     "output_type": "stream",
     "text": [
      "Total SMARTS: 1653\n"
     ]
    }
   ],
   "source": [
    "print('Total SMARTS:', len(rxnpred.smarts_data))"
   ]
  },
  {
   "cell_type": "code",
   "execution_count": 10,
   "id": "d650efbb",
   "metadata": {},
   "outputs": [
    {
     "data": {
      "text/plain": [
       "dict_keys(['10092', '10100', '10144', '10216', '10272', '10324', '10328', '10332', '10344', '10352', '10396', '10448', '10520', '10592', '10604', '10652', '10736', '10740', '10832', '10856', '10868', '10872', '10900', '10968', '11000', '11036', '11044', '11048', '11136', '11164', '11192', '11216', '11272', '11316', '11332', '11344', '11388', '11472', '11484', '11488', '11540', '11552', '11580', '11628', '11640', '11644', '11660', '11664', '11716', '11804', '11888', '11924', '11988', '12008', '12020', '12032', '12072', '12076', '12088', '12136', '12140', '12164', '12280', '12288', '12316', '12364', '12484', '12588', '12593', '12657', '12665', '12673', '12709', '12713', '12745', '12833', '12937', '12957', '12969', '13013', '13057', '13093', '13189', '13205', '13269', '13273', '13301', '13329', '13381', '13421', '13425', '13569', '13577', '13609', '13733', '13737', '13749', '13781', '13805', '13877', '13881', '13905', '14233', '14257', '14269', '14289', '14297', '14333', '14349', '14389', '14425', '14441', '14445', '14473', '14477', '14489', '14513', '14597', '14637', '14653', '14673', '14685', '14709', '14785', '14789', '14869', '14945', '14965', '15017', '15085', '15177', '15181', '15205', '15221', '15317', '15325', '15409', '15421', '15437', '15565', '15621', '15629', '15661', '15713', '15801', '15829', '15917', '15921', '15937', '15965', '16025', '16045', '16073', '16105', '16153', '16185', '16193', '16213', '16229', '16241', '16245', '16273', '16337', '16421', '16437', '16613', '16641', '16725', '16741', '16773', '16781', '16789', '16829', '16837', '16905', '16913', '16937', '17093', '17101', '17149', '17181', '17193', '17229', '17241', '17261', '17285', '17309', '17357', '17413', '17505', '17517', '17521', '17533', '17541', '17549', '17581', '17633', '17657', '17721', '17729', '17761', '17777', '17873', '17877', '17929', '17933', '17977', '18001', '18021', '18045', '18113', '18121', '18125', '18129', '18177', '18221', '18277', '18285', '18297', '18309', '18317', '18345', '18373', '18413', '18417', '18461', '18469', '18557', '18569', '18621', '18689', '18693', '18705', '18765', '18777', '18797', '18849', '18861', '18893', '18913', '18937', '18941', '18969', '18977', '19009', '19021', '19033', '19037', '19057', '19081', '19121', '19165', '19181', '19213', '19229', '19253', '19257', '19285', '19313', '19429', '19605', '19621', '19645', '19701', '19709', '19805', '19813', '19829', '19857', '19861', '19869', '19877', '19953', '19961', '20005', '20061', '20085', '20093', '20141', '20165', '20181', '20185', '20233', '20277', '20297', '20401', '20461', '20493', '20497', '20505', '20513', '20613', '20704', '20724', '20828', '20856', '20972', '20976', '20984', '21032', '21088', '21112', '21164', '21204', '21244', '21292', '21300', '21436', '21440', '21552', '21564', '21616', '21724', '21816', '21864', '21916', '21964', '21996', '22060', '22140', '22160', '22164', '22188', '22252', '22256', '22276', '22288', '22300', '22424', '22432', '22460', '22524', '22528', '22544', '22552', '22576', '22708', '22724', '22728', '22756', '22764', '22932', '22956', '23004', '23012', '23060', '23064', '23088', '23120', '23136', '23164', '23180', '23272', '23328', '23344', '23524', '23544', '23628', '23664', '23672', '23680', '23768', '23784', '23832', '23932', '23992', '23996', '24036', '24076', '24136', '24172', '24336', '24356', '24380', '24480', '24548', '24564', '24568', '25017', '25037', '25041', '25375', '25516', '25520', '25528', '25674', '25686', '25828', '25852', '25948', '26414', '26490', '26526', '27429', '27449', '27606', '30187', '30299', '30355', '30911', '30915', '30955', '30959', '30963', '31303', '31451', '31495', '31499', '31739', '31743', '31763', '31771', '31779', '32175', '32655', '32711', '32727', '32735', '32739', '32831', '32843', '32847', '32851', '32855', '32859', '32863', '32871', '32875', '32907', '32927', '32931', '32935', '32939', '32943', '32947', '32955', '32967', '32971', '32975', '32979', '32983', '32987', '32991', '32995', '33155', '33159', '33167', '33179', '33191', '33195', '33203', '33271', '33275', '33315', '33319', '33323', '33359', '33375', '33471', '33475', '33479', '33483', '33535', '33539', '33551', '33555', '33559', '33575', '33719', '33723', '33727', '33731', '33743', '33747', '33751', '33759', '33763', '33767', '33771', '33775', '33855', '33911', '34019', '34075', '34079', '34083', '34087', '34359', '34555', '34603', '34607', '34611', '34687', '34711', '34727', '34731', '34735', '34739', '34751', '34755', '34771', '34775', '34779', '34783', '34787', '34827', '34831', '34835', '35263', '35271', '35411', '35415', '35419', '35423', '35443', '35635', '35643', '35651', '35659', '35663', '35667', '35735', '35839', '35843', '36055', '36079', '36083', '36167', '36171', '36175', '36179', '36183', '36187', '36191', '36195', '36199', '36203', '36207', '36211', '36215', '36219', '36223', '36227', '36231', '36235', '36239', '36255', '36259', '36403', '36431', '36435', '36439', '36543', '36587', '36715', '36719', '36743', '36795', '36799', '36855', '37011', '37015', '37123', '37427', '37435', '37439', '37559', '37563', '37567', '37571', '37575', '37579', '37611', '37615', '37619', '37623', '37627', '37631', '37635', '37675', '37679', '37683', '37687', '37691', '37695', '37711', '37715', '37723', '37727', '37731', '37735', '37739', '37755', '37759', '37763', '37767', '37771', '37775', '37803', '37807', '37819', '38039', '38047', '38099', '38443', '38459', '38463', '38467', '38483', '38495', '38499', '38503', '38555', '38567', '38571', '38583', '38623', '38627', '38631', '38635', '38639', '38663', '38691', '38695', '38855', '38879', '38883', '38895', '38899', '38903', '38943', '38955', '38959', '38967', '38995', '38999', '39003', '39007', '39011', '39019', '39023', '39027', '39031', '39035', '39039', '39283', '39431', '39659', '39663', '39667', '39707', '39723', '39727', '39743', '39839', '39843', '39847', '39851', '39855', '39859', '39863', '39871', '39875', '39879', '39915', '39919', '39927', '39943', '39983', '39991', '39995', '39999', '40123', '40127', '40391', '40495', '40503', '40507', '40523', '40599', '40639', '40643', '40647', '40651', '40727', '40935', '41147', '41167', '41171', '41207', '41239', '41243', '41352', '41364', '41396', '41456', '41460', '41476', '41480', '41588', '41632', '41636', '41712', '41716', '41720', '41736', '41744', '41748', '41760', '41764', '41780', '41796', '41816', '41936', '41944', '41948', '41952', '41960', '41968', '41996', '42000', '42040', '42044', '42128', '42136', '42140', '42144', '42148', '42152', '42212', '42316', '42320', '42364', '42768', '42972', '43016', '43024', '43104', '43216', '43268', '43272', '43276', '43300', '43304', '43320', '43324', '43360', '43364', '43372', '43412', '43484', '43532', '43588', '43732', '43776', '43868', '43892', '43960', '43964', '43996', '44004', '44008', '44068', '44072', '44176', '44304', '44336', '44376', '44408', '44416', '44420', '44424', '44428', '44432', '44436', '44440', '44456', '44508', '44512', '44532', '44536', '44544', '44548', '44600', '44604', '44616', '44620', '44640', '44644', '44648', '44652', '44660', '44672', '44680', '44684', '44688', '44692', '44696', '44700', '44704', '44708', '44712', '44720', '44724', '44836', '44864', '44868', '44876', '44884', '44888', '44892', '44896', '44940', '44944', '44948', '45068', '45088', '45188', '45192', '45228', '45232', '45240', '45296', '45300', '45344', '45420', '45460', '45812', '45892', '45896', '45900', '45912', '45996', '46012', '46020', '46148', '46160', '46164', '46188', '46236', '46240', '46252', '46256', '46260', '46264', '46268', '46272', '46280', '46284', '46288', '46332', '46360', '46364', '46368', '46372', '46376', '46396', '46404', '46408', '46412', '46440', '46468', '46512', '46520', '46532', '46536', '46540', '46544', '46548', '46552', '46624', '46756', '46764', '46768', '46772', '46776', '46780', '46784', '46788', '46792', '46796', '46804', '46864', '46868', '46872', '46896', '46900', '46904', '46908', '46928', '47048', '47196', '47244', '47348', '47352', '47356', '47360', '47364', '47368', '47372', '47388', '47392', '47396', '47412', '47416', '47560', '47564', '47568', '47576', '47600', '47612', '47796', '47800', '47828', '47832', '47852', '47856', '47860', '47868', '47872', '47876', '47880', '47884', '47888', '47900', '47940', '47968', '48020', '48036', '48040', '48048', '48056', '48060', '48064', '48068', '48072', '48076', '48120', '48124', '48136', '48172', '48212', '48224', '48244', '48252', '48260', '48276', '48280', '48284', '48288', '48292', '48304', '48316', '48320', '48324', '48328', '48332', '48336', '48340', '48344', '48360', '48364', '48368', '48376', '48380', '48384', '48392', '48412', '48416', '48420', '48436', '48440', '48444', '48448', '48452', '48464', '48468', '48472', '48476', '48484', '48580', '48592', '48608', '48680', '48792', '48800', '48824', '48872', '48880', '48916', '48924', '48928', '48940', '49060', '49164', '49180', '49188', '49304', '49308', '49452', '49468', '49596', '49796', '49808', '49832', '49840', '49844', '49848', '49864', '49868', '49872', '49924', '50044', '50092', '50148', '50252', '50372', '50376', '50664', '50668', '50736', '50760', '50876', '50884', '50888', '50916', '51004', '51020', '51072', '51128', '51132', '51148', '51200', '51416', '51420', '51468', '51476', '51496', '51504', '51580', '51636', '51660', '51740', '51744', '51748', '51752', '51756', '51760', '51920', '52028', '52104', '52252', '52256', '52260', '52316', '52336', '52380', '52436', '52440', '52444', '52512', '52628', '52632', '52656', '52664', '52668', '52696', '52816', '52860', '52864', '53020', '53116', '53132', '53160', '53164', '53176', '53328', '53424', '53432', '53452', '53496', '53500', '53636', '53736', '53748', '53752', '53896', '53924', '53928', '54028', '54132', '54184', '54320', '54384', '54412', '54432', '54436', '54440', '54444', '54536', '54660', '54796', '54820', '54832', '54996', '55028', '55032', '55036', '55056', '55060', '55068', '55148', '55156', '55332', '55336', '55376', '55448', '55476', '55536', '55588', '55596', '55600', '55604', '55608', '55616', '55620', '55652', '55656', '55688', '55692', '55696', '55700', '55756', '55772', '55800', '55808', '55812', '55816', '55820', '55824', '55952', '55980', '56068', '56072', '56076', '56088', '56136', '56144', '56184', '56284', '56320', '56344', '56544', '56548', '56568', '56572', '56576', '56588', '56592', '56740', '56748', '56752', '56816', '56836', '56856', '56880', '56896', '56900', '56904', '56920', '56960', '56964', '57584', '57600', '57604', '57652', '57680', '57852', '57888', '57892', '57908', '57912', '57916', '57920', '58044', '58264', '58296', '58312', '58364', '58464', '58476', '58664', '58796', '59296', '59388', '59452', '59468', '59816', '59956', '59984', '60044', '60052', '60056', '60060', '60064', '60084', '60088', '60168', '60444', '60448', '60504', '60648', '60652', '60700', '60704', '60936', '61060', '61064', '61444', '61472', '61476', '61480', '61492', '61496', '61564', '61568', '61720', '61724', '61728', '61892', '61960', '61964', '61968', '62004', '62032', '62036', '62044', '62048', '62052', '62124', '62128', '62132', '62172', '62420', '62516', '62548', '62552', '62616', '62628', '62632', '62904', '63032', '63152', '63276', '63280', '63320', '63376', '63380', '63508', '63596', '63688', '63692', '63708', '63712', '63772', '63780', '63784', '63928', '63944', '63952', '64032', '64112', '64120', '64140', '64148', '64156', '64180', '64188', '64196', '64200', '64208', '64212', '64244', '64376', '64392', '64400', '64532', '64536', '64540', '64592', '64596', '64600', '64912', '64916', '64920', '65032', '65096', '65372', '65432', '65436', '65540', '65544', '65548', '65552', '65556', '65576', '65632', '65716', '65768', '65848', '65852', '65856', '65952', '65972', '66036', '66132', '66272', '66288', '66292', '66300', '66304', '66308', '66312', '66316', '66344', '66456', '66504', '66508', '66512', '66516', '66520', '66660', '67072', '67080', '67188', '67192', '67272', '67420', '67424', '67428', '67444', '67452', '67660', '67668', '67672', '67676', '67680', '67684', '67728', '67744', '67748', '67788', '67816', '67824', '67828', '67840', '67844', '67908', '67920', '67936', '67952', '68044', '68060', '68064', '68068', '68120', '68128', '68152', '68180', '68184', '68396', '68460', '68476', '69216', '69220', '69224', '69228', '69264', '69268', '69284', '69336', '69392', '69480', '69691', '69763', '69771', '70235', '70239', '70243', '70359', '70423', '70527', '70583', '70595', '70599', '71191', '71423', '71427', '71431', '71435', '71491', '71503', '71647', '71659', '72107', '72283', '72447', '72451', '72623', '73487', '73495', '73683', '73823', '73831', '73971', '73975', '74067', '74115', '74171', '74175', '74179', '74247', '74251', '74271', '74275', '74279', '74283', '74347', '74371', '74435', '74439', '74443', '74447', '74455', '74467', '74519', '74687', '74843', '74915', '74931', '74939', '74943', '74967', '75279', '75899', '75911', '75983', '75987', '75991', '75995', '76067', '76071', '76075', '76079', '76087', '76099', '76119', '76123', '76127', '76131', '76135', '76179', '76187', '76407', '76487', '76539', '76563', '76595', '76675', '76731', '76967', '76987', '77191', '77255', '77259', '77295', '77387', '77443', '77555', '77559', '77571', '77619', '77627', '77663', '77667', '77671', '77675', '77679', '77683', '77695', '77703', '77715', '77719', '77723', '77739', '77743', '77747', '77759', '77767', '77771', '77787', '77791', '77795', '77879', '77959', '77983', '77987', '77991', '77995', '77999', '78007', '78011', '78015', '78019', '78023', '78027', '78031', '78035', '78039', '78043', '78047', '78051', '78055', '78059', '78063', '78067', '78071', '78075', '78079', '78083', '78087', '78095', '78099', '78103', '78107', '78111', '78115', '78119', '78127', '78131', '78135', '78139', '78143', '78147', '78151', '78155', '78159', '78163', '78175', '78179', '78183', '78187', '78191', '78195', '78199', '78263', '78267', '78319', '78347', '78351', '78355', '78359', '78363', '78431', '78435', '78439', '78443', '78447', '78451', '78463', '78467', '78531', '78695', '78699', '78747', '78751', '78799', '78803', '78843', '78847', '78851', '78855', '78859', '78863', '78867', '78871', '78875', '78879', '78895', '78899', '78903', '78907', '78911', '78915', '78919', '78923', '78927', '78931', '78935', '78951', '78963', '78967', '79087', '79091', '79095', '79199', '79203', '79215', '79339', '79367', '79371', '79375', '79379', '79383', '79387', '79435', '79495', '79499', '79515', '79519', '79523', '79527', '79575', '79579', '79607', '79611', '79639', '79643', '79647', '79675', '79679', '79683', '79707', '79715', '79719', '79739', '79767', '79779', '79783', '79787', '79791', '79815', '79823', '79827', '79831', '79879', '79883', '79887', '80007', '80535', '80643', '80647', '80651'])"
      ]
     },
     "execution_count": 10,
     "metadata": {},
     "output_type": "execute_result"
    }
   ],
   "source": [
    "rxnpred.smarts_data.keys()"
   ]
  },
  {
   "cell_type": "code",
   "execution_count": 11,
   "id": "fe7daea6-8fa0-4b8d-8e19-f6370decda3d",
   "metadata": {},
   "outputs": [],
   "source": [
    "# Uncommit if you want to see all the smarts_data\n",
    "#rxnpred.smarts_data"
   ]
  },
  {
   "cell_type": "code",
   "execution_count": 12,
   "id": "58a6fe9a-0ab7-429e-8ebd-b7a90d1b8e94",
   "metadata": {},
   "outputs": [
    {
     "name": "stdout",
     "output_type": "stream",
     "text": [
      "Example SMARTS: [O:33]=[C:34]([O-:35])[*:36][CH3:37].[CH3:1][c:2]1[cH:3][c:4]2[c:28]([cH:29][c:30]1[CH3:31])[N:14]([CH2:15][C@H:16]([OH:17])[C@H:18]([OH:19])[C@H:20]([OH:21])[CH2:22][O:23][P:24](=[O:25])([O-:26])[O-:27])[c:13]1[c:6]([c:7](=[O:8])[nH:9][c:10](=[O:11])[nH:12]1)[NH:5]2.[O:32]=[O:38]>>[CH3:1][c:2]1[cH:3][c:4]2[n:5][c:6]3[c:7](=[O:8])[n-:9][c:10](=[O:11])[n:12][c:13]-3[n:14]([CH2:15][C@H:16]([OH:17])[C@H:18]([OH:19])[C@H:20]([OH:21])[CH2:22][O:23][P:24](=[O:25])([O-:26])[O-:27])[c:28]2[cH:29][c:30]1[CH3:31].[OH2:32].[O:33]=[C:34]([O-:35])[*:36][CH2:37][OH:38]\n"
     ]
    }
   ],
   "source": [
    "print('Example SMARTS:', rxnpred.smarts_data['39023'])"
   ]
  },
  {
   "cell_type": "markdown",
   "id": "160b9e95-dd3a-4556-9191-1c8872b6972f",
   "metadata": {},
   "source": [
    "**4. Predict products and reactions**\n",
    "\n",
    "You can supply predict_products with:\n",
    "* SMILES string of one compound. Example: \"CCC(=O)[O-]\"\n",
    "* list of SMILES of compounds that are substrates of a single reaction and are reacting with each other. Example: \\[\"CC=O\", \"NH3\"]\n",
    "\n",
    "From the practical point of view, enumerating several substrates for one reaction is required to generate permutations. This operation increases computational time to evaluate all options.\n",
    "From the theoretical point of view, it is unlikely that more than two random molecules meet and react.\n",
    "It was nicely put in words on [Reddit](https://www.reddit.com/r/chemistry/comments/18smdjd/are_there_any_chemical_reactions_that_actually/?rdt=50008): \"It’s unlikely for 3 things to bounce into each other at the exact same time in the correct orientation. There are a lot of multi-component reactions but it usually happens in stages.\"\n",
    "\n",
    "More on Molecularity: [Wikipedia](https://en.m.wikipedia.org/wiki/Molecularity)\n",
    "\n",
    "Here we demonstrate how to test all Rhea reaction templates on one molecule and evaluate which products and which reactions we can get."
   ]
  },
  {
   "cell_type": "markdown",
   "id": "7162b641-8c87-4166-af3e-6a86027943eb",
   "metadata": {},
   "source": [
    "**Predict products**"
   ]
  },
  {
   "cell_type": "code",
   "execution_count": 13,
   "id": "2d28239d-b710-475f-930c-5a6a0d8260e1",
   "metadata": {},
   "outputs": [],
   "source": [
    "rheaid2products=rxnpred.predict_products('CCC(=O)[O-]')"
   ]
  },
  {
   "cell_type": "code",
   "execution_count": 14,
   "id": "3b72d293-1a7e-4f56-88e5-9181204d1ab4",
   "metadata": {},
   "outputs": [
    {
     "name": "stdout",
     "output_type": "stream",
     "text": [
      "Number of possible product sets that were obtained: 3\n"
     ]
    }
   ],
   "source": [
    "product_sets = [i for i in rheaid2products if i[1]]\n",
    "print('Number of possible product sets that were obtained:',len(product_sets))"
   ]
  },
  {
   "cell_type": "code",
   "execution_count": 15,
   "id": "d6f5d63e-4062-4126-b333-c16480132213",
   "metadata": {},
   "outputs": [
    {
     "data": {
      "text/plain": [
       "[('18969', [['[CH]C', 'O=C=O']]),\n",
       " ('38879', [['CCC(=O)[O-]']]),\n",
       " ('39283', [['CCC(=O)[O-]']])]"
      ]
     },
     "execution_count": 15,
     "metadata": {},
     "output_type": "execute_result"
    }
   ],
   "source": [
    "product_sets"
   ]
  },
  {
   "cell_type": "markdown",
   "id": "a99d3c2c-d353-4399-864f-86924a8a2cd6",
   "metadata": {},
   "source": [
    "**Predict reactions**"
   ]
  },
  {
   "cell_type": "code",
   "execution_count": 16,
   "id": "04d8fc50-1b38-4e03-a901-34da5dcdab59",
   "metadata": {},
   "outputs": [
    {
     "name": "stdout",
     "output_type": "stream",
     "text": [
      "QC: number of unbalanced reactions generated: 0\n"
     ]
    }
   ],
   "source": [
    "df_pred_rxns=rxnpred.predict_reactions('CCC(=O)[O-]')"
   ]
  },
  {
   "cell_type": "code",
   "execution_count": 17,
   "id": "b074289f-5339-4acf-8bc8-07519f8a0bf1",
   "metadata": {},
   "outputs": [
    {
     "data": {
      "text/html": [
       "<div>\n",
       "<style scoped>\n",
       "    .dataframe tbody tr th:only-of-type {\n",
       "        vertical-align: middle;\n",
       "    }\n",
       "\n",
       "    .dataframe tbody tr th {\n",
       "        vertical-align: top;\n",
       "    }\n",
       "\n",
       "    .dataframe thead th {\n",
       "        text-align: right;\n",
       "    }\n",
       "</style>\n",
       "<table border=\"1\" class=\"dataframe\">\n",
       "  <thead>\n",
       "    <tr style=\"text-align: right;\">\n",
       "      <th></th>\n",
       "      <th>rheaid</th>\n",
       "      <th>rxnsmiles</th>\n",
       "      <th>balance</th>\n",
       "    </tr>\n",
       "  </thead>\n",
       "  <tbody>\n",
       "    <tr>\n",
       "      <th>0</th>\n",
       "      <td>18969</td>\n",
       "      <td>CCC(=O)[O-]&gt;&gt;[CH]C.O=C=O</td>\n",
       "      <td>True</td>\n",
       "    </tr>\n",
       "    <tr>\n",
       "      <th>1</th>\n",
       "      <td>38879</td>\n",
       "      <td>CCC(=O)[O-]&gt;&gt;CCC(=O)[O-]</td>\n",
       "      <td>True</td>\n",
       "    </tr>\n",
       "    <tr>\n",
       "      <th>2</th>\n",
       "      <td>39283</td>\n",
       "      <td>CCC(=O)[O-]&gt;&gt;CCC(=O)[O-]</td>\n",
       "      <td>True</td>\n",
       "    </tr>\n",
       "  </tbody>\n",
       "</table>\n",
       "</div>"
      ],
      "text/plain": [
       "  rheaid                 rxnsmiles  balance\n",
       "0  18969  CCC(=O)[O-]>>[CH]C.O=C=O     True\n",
       "1  38879  CCC(=O)[O-]>>CCC(=O)[O-]     True\n",
       "2  39283  CCC(=O)[O-]>>CCC(=O)[O-]     True"
      ]
     },
     "execution_count": 17,
     "metadata": {},
     "output_type": "execute_result"
    }
   ],
   "source": [
    "df_pred_rxns"
   ]
  },
  {
   "cell_type": "markdown",
   "id": "8da54036-3b6b-4205-a597-b48088437200",
   "metadata": {},
   "source": [
    "Check smarts for one of the Rhea reactions (18969) which resulted in products for the selected compound"
   ]
  },
  {
   "cell_type": "code",
   "execution_count": 18,
   "id": "01433ff7-1cf2-4bcf-af52-51ae2c9b4d8e",
   "metadata": {},
   "outputs": [
    {
     "data": {
      "text/plain": [
       "'[O:1]=[C:2]([O-:3])[*:4]>>[O:1]=[C:2]=[O:3].[*H:4]'"
      ]
     },
     "execution_count": 18,
     "metadata": {},
     "output_type": "execute_result"
    }
   ],
   "source": [
    "rxnpred.smarts_data['18969']"
   ]
  },
  {
   "cell_type": "markdown",
   "id": "fbb37014-6ca4-4d2e-9103-60af219187cb",
   "metadata": {},
   "source": [
    "**Now, repeat with the star-only SMARTS (default option)**"
   ]
  },
  {
   "cell_type": "code",
   "execution_count": 19,
   "id": "5ce278eb-8b61-4866-957e-ed584ca8ca3d",
   "metadata": {},
   "outputs": [
    {
     "name": "stdout",
     "output_type": "stream",
     "text": [
      "Total SMARTS: 1653\n"
     ]
    }
   ],
   "source": [
    "rxnpred_only_star = ReactionPrediction(rdb)\n",
    "rxnpred_only_star.load_smarts_data()\n",
    "print('Total SMARTS:', len(rxnpred_only_star.smarts_data))"
   ]
  },
  {
   "cell_type": "code",
   "execution_count": 20,
   "id": "e9272de8-9388-46cd-bfcd-5c62817cbf02",
   "metadata": {},
   "outputs": [],
   "source": [
    "rheaid_star_only2products=rxnpred_only_star.predict_products('CCC(=O)[O-]')"
   ]
  },
  {
   "cell_type": "code",
   "execution_count": 21,
   "id": "45c62056-00ab-4368-8f4d-58dc744aed4e",
   "metadata": {},
   "outputs": [
    {
     "name": "stdout",
     "output_type": "stream",
     "text": [
      "Number of possible product sets that were obtained: 36\n"
     ]
    }
   ],
   "source": [
    "product_sets = [i for i in rheaid_star_only2products if i[1]]\n",
    "print('Number of possible product sets that were obtained:', len(product_sets))"
   ]
  },
  {
   "cell_type": "code",
   "execution_count": 22,
   "id": "e607f6d0-1dff-4543-99ac-263f7d0edaad",
   "metadata": {},
   "outputs": [
    {
     "name": "stdout",
     "output_type": "stream",
     "text": [
      "QC: number of unbalanced reactions generated: 0\n"
     ]
    }
   ],
   "source": [
    "df_pred_rxns_only_star=rxnpred_only_star.predict_reactions('CCC(=O)[O-]')"
   ]
  },
  {
   "cell_type": "code",
   "execution_count": 23,
   "id": "2753faae-a5a0-4eb7-940a-9a35faf84e1d",
   "metadata": {},
   "outputs": [
    {
     "data": {
      "text/html": [
       "<div>\n",
       "<style scoped>\n",
       "    .dataframe tbody tr th:only-of-type {\n",
       "        vertical-align: middle;\n",
       "    }\n",
       "\n",
       "    .dataframe tbody tr th {\n",
       "        vertical-align: top;\n",
       "    }\n",
       "\n",
       "    .dataframe thead th {\n",
       "        text-align: right;\n",
       "    }\n",
       "</style>\n",
       "<table border=\"1\" class=\"dataframe\">\n",
       "  <thead>\n",
       "    <tr style=\"text-align: right;\">\n",
       "      <th></th>\n",
       "      <th>rheaid</th>\n",
       "      <th>rxnsmiles</th>\n",
       "      <th>balance</th>\n",
       "    </tr>\n",
       "  </thead>\n",
       "  <tbody>\n",
       "    <tr>\n",
       "      <th>0</th>\n",
       "      <td>10968</td>\n",
       "      <td>CCC(=O)[O-].[CH3]C([CH3])([CH2]OP(=O)([O-])OP(...</td>\n",
       "      <td>True</td>\n",
       "    </tr>\n",
       "    <tr>\n",
       "      <th>1</th>\n",
       "      <td>15421</td>\n",
       "      <td>CCC(=O)[O-].[CH3]C([CH3])([CH2]OP(=O)([O-])OP(...</td>\n",
       "      <td>True</td>\n",
       "    </tr>\n",
       "    <tr>\n",
       "      <th>2</th>\n",
       "      <td>18969</td>\n",
       "      <td>CCC(=O)[O-]&gt;&gt;[CH]C.O=C=O</td>\n",
       "      <td>True</td>\n",
       "    </tr>\n",
       "    <tr>\n",
       "      <th>3</th>\n",
       "      <td>23012</td>\n",
       "      <td>CCC(=O)[O-].[CH3][S+]([CH2][CH2][C@H]([NH3+])C...</td>\n",
       "      <td>True</td>\n",
       "    </tr>\n",
       "    <tr>\n",
       "      <th>4</th>\n",
       "      <td>24336</td>\n",
       "      <td>CCC(=O)[O-].[CH3]C([CH3])([CH2]OP(=O)([O-])OP(...</td>\n",
       "      <td>True</td>\n",
       "    </tr>\n",
       "    <tr>\n",
       "      <th>5</th>\n",
       "      <td>30299</td>\n",
       "      <td>CCC(=O)[O-].O=C([O-])[CH2][CH2]C(=O)C(=O)[O-]....</td>\n",
       "      <td>True</td>\n",
       "    </tr>\n",
       "    <tr>\n",
       "      <th>6</th>\n",
       "      <td>32655</td>\n",
       "      <td>CCC(=O)[O-].C=[CH][CH2]c1[cH][cH]c([OH])c(O[CH...</td>\n",
       "      <td>True</td>\n",
       "    </tr>\n",
       "    <tr>\n",
       "      <th>7</th>\n",
       "      <td>38855</td>\n",
       "      <td>CCC(=O)[O-].O=O.[Fe+2].[Fe+2]&gt;&gt;CC(O)C(=O)[O-]....</td>\n",
       "      <td>True</td>\n",
       "    </tr>\n",
       "    <tr>\n",
       "      <th>8</th>\n",
       "      <td>38879</td>\n",
       "      <td>CCC(=O)[O-]&gt;&gt;CCC(=O)[O-]</td>\n",
       "      <td>True</td>\n",
       "    </tr>\n",
       "    <tr>\n",
       "      <th>9</th>\n",
       "      <td>38883</td>\n",
       "      <td>CCC(=O)[O-].[CH3]C([CH3])([CH2]OP(=O)([O-])OP(...</td>\n",
       "      <td>True</td>\n",
       "    </tr>\n",
       "    <tr>\n",
       "      <th>10</th>\n",
       "      <td>39023</td>\n",
       "      <td>CCC(=O)[O-].[CH3]c1[cH]c2c([cH]c1[CH3])N([CH2]...</td>\n",
       "      <td>True</td>\n",
       "    </tr>\n",
       "    <tr>\n",
       "      <th>11</th>\n",
       "      <td>39283</td>\n",
       "      <td>CCC(=O)[O-]&gt;&gt;CCC(=O)[O-]</td>\n",
       "      <td>True</td>\n",
       "    </tr>\n",
       "    <tr>\n",
       "      <th>12</th>\n",
       "      <td>39983</td>\n",
       "      <td>CCC(=O)[O-].O=O.[Fe+2].[Fe+2]&gt;&gt;CC(O)C(=O)[O-]....</td>\n",
       "      <td>True</td>\n",
       "    </tr>\n",
       "    <tr>\n",
       "      <th>13</th>\n",
       "      <td>40727</td>\n",
       "      <td>CCC(=O)[O-].[CH3][CH2][CH2][CH2][CH2][CH2][CH2...</td>\n",
       "      <td>True</td>\n",
       "    </tr>\n",
       "    <tr>\n",
       "      <th>14</th>\n",
       "      <td>44544</td>\n",
       "      <td>CCC(=O)[O-].[NH2]c1n[cH]nc2c1n[cH]n2[C@@H]1O[C...</td>\n",
       "      <td>True</td>\n",
       "    </tr>\n",
       "    <tr>\n",
       "      <th>15</th>\n",
       "      <td>44600</td>\n",
       "      <td>CCC(=O)[O-].[NH2]c1n[cH]nc2c1n[cH]n2[C@@H]1O[C...</td>\n",
       "      <td>True</td>\n",
       "    </tr>\n",
       "    <tr>\n",
       "      <th>16</th>\n",
       "      <td>48340</td>\n",
       "      <td>CCC(=O)[O-].[CH3]C([CH3])([CH2]OP(=O)([O-])OP(...</td>\n",
       "      <td>True</td>\n",
       "    </tr>\n",
       "    <tr>\n",
       "      <th>17</th>\n",
       "      <td>48360</td>\n",
       "      <td>CCC(=O)[O-].[OH][OH]&gt;&gt;CC(O)C(=O)[O-].O</td>\n",
       "      <td>True</td>\n",
       "    </tr>\n",
       "    <tr>\n",
       "      <th>18</th>\n",
       "      <td>50916</td>\n",
       "      <td>CCC(=O)[O-].[NH2]C(=O)C1=[CH]N([C@@H]2O[C@H]([...</td>\n",
       "      <td>True</td>\n",
       "    </tr>\n",
       "    <tr>\n",
       "      <th>19</th>\n",
       "      <td>51580</td>\n",
       "      <td>CCC(=O)[O-].[CH3]C([CH3])([CH2]OP(=O)([O-])OP(...</td>\n",
       "      <td>True</td>\n",
       "    </tr>\n",
       "    <tr>\n",
       "      <th>20</th>\n",
       "      <td>52336</td>\n",
       "      <td>CCC(=O)[O-].[NH2]c1n[cH]nc2c1n[cH]n2[C@@H]1O[C...</td>\n",
       "      <td>True</td>\n",
       "    </tr>\n",
       "    <tr>\n",
       "      <th>21</th>\n",
       "      <td>52860</td>\n",
       "      <td>CCC(=O)[O-].[CH3]C([CH3])([CH2]OP(=O)([O-])OP(...</td>\n",
       "      <td>True</td>\n",
       "    </tr>\n",
       "    <tr>\n",
       "      <th>22</th>\n",
       "      <td>54536</td>\n",
       "      <td>CCC(=O)[O-].[CH3]C([CH3])([CH2]OP(=O)([O-])OP(...</td>\n",
       "      <td>True</td>\n",
       "    </tr>\n",
       "    <tr>\n",
       "      <th>23</th>\n",
       "      <td>56748</td>\n",
       "      <td>CCC(=O)[O-].[CH3]c1[cH]c2c([cH]c1[CH3])N([CH2]...</td>\n",
       "      <td>True</td>\n",
       "    </tr>\n",
       "    <tr>\n",
       "      <th>24</th>\n",
       "      <td>56896</td>\n",
       "      <td>CCC(=O)[O-].[NH2]c1n[cH]nc2c1n[cH]n2[C@@H]1O[C...</td>\n",
       "      <td>True</td>\n",
       "    </tr>\n",
       "    <tr>\n",
       "      <th>25</th>\n",
       "      <td>56920</td>\n",
       "      <td>CCC(=O)[O-].[NH2]c1n[cH]nc2c1n[cH]n2[C@@H]1O[C...</td>\n",
       "      <td>True</td>\n",
       "    </tr>\n",
       "    <tr>\n",
       "      <th>26</th>\n",
       "      <td>60168</td>\n",
       "      <td>CCC(=O)[O-].[NH2]c1n[cH]nc2c1n[cH]n2[C@@H]1O[C...</td>\n",
       "      <td>True</td>\n",
       "    </tr>\n",
       "    <tr>\n",
       "      <th>27</th>\n",
       "      <td>63376</td>\n",
       "      <td>CCC(=O)[O-].[CH3]c1[cH]c2c([cH]c1[CH3])N([CH2]...</td>\n",
       "      <td>True</td>\n",
       "    </tr>\n",
       "    <tr>\n",
       "      <th>28</th>\n",
       "      <td>63508</td>\n",
       "      <td>CCC(=O)[O-].O=O&gt;&gt;CC(OO)C(=O)[O-]</td>\n",
       "      <td>True</td>\n",
       "    </tr>\n",
       "    <tr>\n",
       "      <th>29</th>\n",
       "      <td>67080</td>\n",
       "      <td>CCC(=O)[O-].[NH2]c1n[cH]nc2c1n[cH]n2[C@@H]1O[C...</td>\n",
       "      <td>True</td>\n",
       "    </tr>\n",
       "    <tr>\n",
       "      <th>30</th>\n",
       "      <td>67684</td>\n",
       "      <td>CCC(=O)[O-].[NH2]c1n[cH]nc2c1n[cH]n2[C@@H]1O[C...</td>\n",
       "      <td>True</td>\n",
       "    </tr>\n",
       "    <tr>\n",
       "      <th>31</th>\n",
       "      <td>67952</td>\n",
       "      <td>CCC(=O)[O-].[CH3]c1[cH]c2c([cH]c1[CH3])N([CH2]...</td>\n",
       "      <td>True</td>\n",
       "    </tr>\n",
       "    <tr>\n",
       "      <th>32</th>\n",
       "      <td>73487</td>\n",
       "      <td>CCC(=O)[O-].O=C([O-])c1[cH]c(=O)[nH]c(=O)[nH]1...</td>\n",
       "      <td>True</td>\n",
       "    </tr>\n",
       "    <tr>\n",
       "      <th>33</th>\n",
       "      <td>74371</td>\n",
       "      <td>CCC(=O)[O-].O=C([O-])c1[cH][cH][cH]n[cH]1&gt;&gt;CCC...</td>\n",
       "      <td>True</td>\n",
       "    </tr>\n",
       "    <tr>\n",
       "      <th>34</th>\n",
       "      <td>75279</td>\n",
       "      <td>CCC(=O)[O-].[CH3]c1[cH]c2c([cH]c1[CH3])N([CH2]...</td>\n",
       "      <td>True</td>\n",
       "    </tr>\n",
       "    <tr>\n",
       "      <th>35</th>\n",
       "      <td>78843</td>\n",
       "      <td>CCC(=O)[O-].[NH2]c1n[cH]nc2c1n[cH]n2[C@@H]1O[C...</td>\n",
       "      <td>True</td>\n",
       "    </tr>\n",
       "  </tbody>\n",
       "</table>\n",
       "</div>"
      ],
      "text/plain": [
       "   rheaid                                          rxnsmiles  balance\n",
       "0   10968  CCC(=O)[O-].[CH3]C([CH3])([CH2]OP(=O)([O-])OP(...     True\n",
       "1   15421  CCC(=O)[O-].[CH3]C([CH3])([CH2]OP(=O)([O-])OP(...     True\n",
       "2   18969                           CCC(=O)[O-]>>[CH]C.O=C=O     True\n",
       "3   23012  CCC(=O)[O-].[CH3][S+]([CH2][CH2][C@H]([NH3+])C...     True\n",
       "4   24336  CCC(=O)[O-].[CH3]C([CH3])([CH2]OP(=O)([O-])OP(...     True\n",
       "5   30299  CCC(=O)[O-].O=C([O-])[CH2][CH2]C(=O)C(=O)[O-]....     True\n",
       "6   32655  CCC(=O)[O-].C=[CH][CH2]c1[cH][cH]c([OH])c(O[CH...     True\n",
       "7   38855  CCC(=O)[O-].O=O.[Fe+2].[Fe+2]>>CC(O)C(=O)[O-]....     True\n",
       "8   38879                           CCC(=O)[O-]>>CCC(=O)[O-]     True\n",
       "9   38883  CCC(=O)[O-].[CH3]C([CH3])([CH2]OP(=O)([O-])OP(...     True\n",
       "10  39023  CCC(=O)[O-].[CH3]c1[cH]c2c([cH]c1[CH3])N([CH2]...     True\n",
       "11  39283                           CCC(=O)[O-]>>CCC(=O)[O-]     True\n",
       "12  39983  CCC(=O)[O-].O=O.[Fe+2].[Fe+2]>>CC(O)C(=O)[O-]....     True\n",
       "13  40727  CCC(=O)[O-].[CH3][CH2][CH2][CH2][CH2][CH2][CH2...     True\n",
       "14  44544  CCC(=O)[O-].[NH2]c1n[cH]nc2c1n[cH]n2[C@@H]1O[C...     True\n",
       "15  44600  CCC(=O)[O-].[NH2]c1n[cH]nc2c1n[cH]n2[C@@H]1O[C...     True\n",
       "16  48340  CCC(=O)[O-].[CH3]C([CH3])([CH2]OP(=O)([O-])OP(...     True\n",
       "17  48360             CCC(=O)[O-].[OH][OH]>>CC(O)C(=O)[O-].O     True\n",
       "18  50916  CCC(=O)[O-].[NH2]C(=O)C1=[CH]N([C@@H]2O[C@H]([...     True\n",
       "19  51580  CCC(=O)[O-].[CH3]C([CH3])([CH2]OP(=O)([O-])OP(...     True\n",
       "20  52336  CCC(=O)[O-].[NH2]c1n[cH]nc2c1n[cH]n2[C@@H]1O[C...     True\n",
       "21  52860  CCC(=O)[O-].[CH3]C([CH3])([CH2]OP(=O)([O-])OP(...     True\n",
       "22  54536  CCC(=O)[O-].[CH3]C([CH3])([CH2]OP(=O)([O-])OP(...     True\n",
       "23  56748  CCC(=O)[O-].[CH3]c1[cH]c2c([cH]c1[CH3])N([CH2]...     True\n",
       "24  56896  CCC(=O)[O-].[NH2]c1n[cH]nc2c1n[cH]n2[C@@H]1O[C...     True\n",
       "25  56920  CCC(=O)[O-].[NH2]c1n[cH]nc2c1n[cH]n2[C@@H]1O[C...     True\n",
       "26  60168  CCC(=O)[O-].[NH2]c1n[cH]nc2c1n[cH]n2[C@@H]1O[C...     True\n",
       "27  63376  CCC(=O)[O-].[CH3]c1[cH]c2c([cH]c1[CH3])N([CH2]...     True\n",
       "28  63508                   CCC(=O)[O-].O=O>>CC(OO)C(=O)[O-]     True\n",
       "29  67080  CCC(=O)[O-].[NH2]c1n[cH]nc2c1n[cH]n2[C@@H]1O[C...     True\n",
       "30  67684  CCC(=O)[O-].[NH2]c1n[cH]nc2c1n[cH]n2[C@@H]1O[C...     True\n",
       "31  67952  CCC(=O)[O-].[CH3]c1[cH]c2c([cH]c1[CH3])N([CH2]...     True\n",
       "32  73487  CCC(=O)[O-].O=C([O-])c1[cH]c(=O)[nH]c(=O)[nH]1...     True\n",
       "33  74371  CCC(=O)[O-].O=C([O-])c1[cH][cH][cH]n[cH]1>>CCC...     True\n",
       "34  75279  CCC(=O)[O-].[CH3]c1[cH]c2c([cH]c1[CH3])N([CH2]...     True\n",
       "35  78843  CCC(=O)[O-].[NH2]c1n[cH]nc2c1n[cH]n2[C@@H]1O[C...     True"
      ]
     },
     "execution_count": 23,
     "metadata": {},
     "output_type": "execute_result"
    }
   ],
   "source": [
    "df_pred_rxns_only_star"
   ]
  },
  {
   "cell_type": "markdown",
   "id": "93c20d7b-c97d-4199-8aef-18c05ea2445a",
   "metadata": {},
   "source": [
    "As you can see, there are more reactions generated with ReactionPrediction.set_star_smarts_only(True). This is because we did not have to add cofactors into the \"mix\" and all the defined cofactors were automatically found and applied to generate valid balanced reactions!\n",
    "\n",
    "Therefore, _star_smarts_only = True_ is the default option. However, we kept the ability to use full SMARTS by resetting this option to False as was shown in the beginning."
   ]
  },
  {
   "cell_type": "markdown",
   "id": "02d35800-d1eb-4eb1-99eb-6a9f6205d67d",
   "metadata": {},
   "source": [
    "**Group reactions based on International chemical identifier for reactions (RInChI).**\n",
    "\n",
    "[Link to article on RInChI](https://jcheminf.biomedcentral.com/articles/10.1186/s13321-018-0277-8)"
   ]
  },
  {
   "cell_type": "code",
   "execution_count": 24,
   "id": "73337d60-49c8-4245-a369-5495edd2eff8",
   "metadata": {},
   "outputs": [
    {
     "name": "stdout",
     "output_type": "stream",
     "text": [
      "Calculating Reaction InChiKeys\n"
     ]
    }
   ],
   "source": [
    "df_grouped_by_rinchikey = rxnpred_only_star.group_predicted_reactions_based_on_rinchikey(df_pred_rxns_only_star)"
   ]
  },
  {
   "cell_type": "code",
   "execution_count": 25,
   "id": "cc3a03c2-c31a-449c-9a1a-8bb0d8813b7e",
   "metadata": {},
   "outputs": [
    {
     "data": {
      "text/html": [
       "<div>\n",
       "<style scoped>\n",
       "    .dataframe tbody tr th:only-of-type {\n",
       "        vertical-align: middle;\n",
       "    }\n",
       "\n",
       "    .dataframe tbody tr th {\n",
       "        vertical-align: top;\n",
       "    }\n",
       "\n",
       "    .dataframe thead th {\n",
       "        text-align: right;\n",
       "    }\n",
       "</style>\n",
       "<table border=\"1\" class=\"dataframe\">\n",
       "  <thead>\n",
       "    <tr style=\"text-align: right;\">\n",
       "      <th></th>\n",
       "      <th>Web-RInChIKey</th>\n",
       "      <th>rheaid</th>\n",
       "      <th>rxnsmiles</th>\n",
       "    </tr>\n",
       "  </thead>\n",
       "  <tbody>\n",
       "    <tr>\n",
       "      <th>0</th>\n",
       "      <td>Web-RInChIKey=AMJUVJCMURZMESFZW-LUHFFFADPSCTJSA</td>\n",
       "      <td>74371</td>\n",
       "      <td>CCC(=O)[O-].O=C([O-])c1[cH][cH][cH]n[cH]1&gt;&gt;CCC...</td>\n",
       "    </tr>\n",
       "    <tr>\n",
       "      <th>1</th>\n",
       "      <td>Web-RInChIKey=CPJBTPNPEMNQHDDBC-DPCSRZTMQPBCTSA</td>\n",
       "      <td>44544, 67080, 67684, 78843</td>\n",
       "      <td>CCC(=O)[O-].[NH2]c1n[cH]nc2c1n[cH]n2[C@@H]1O[C...</td>\n",
       "    </tr>\n",
       "    <tr>\n",
       "      <th>2</th>\n",
       "      <td>Web-RInChIKey=GXCNOXHEWCQIOIVZZ-FQVYYODZYXBIPSA</td>\n",
       "      <td>32655</td>\n",
       "      <td>CCC(=O)[O-].C=[CH][CH2]c1[cH][cH]c([OH])c(O[CH...</td>\n",
       "    </tr>\n",
       "    <tr>\n",
       "      <th>3</th>\n",
       "      <td>Web-RInChIKey=LEZUKENBQKXJNKNFN-LUHFFFADPSCTJSA</td>\n",
       "      <td>63508</td>\n",
       "      <td>CCC(=O)[O-].O=O&gt;&gt;CC(OO)C(=O)[O-]</td>\n",
       "    </tr>\n",
       "    <tr>\n",
       "      <th>4</th>\n",
       "      <td>Web-RInChIKey=LNTVQHFTQCBDCLZMI-LUHFFFADPSCTJSA</td>\n",
       "      <td>38855, 39983</td>\n",
       "      <td>CCC(=O)[O-].O=O.[Fe+2].[Fe+2]&gt;&gt;CC(O)C(=O)[O-]....</td>\n",
       "    </tr>\n",
       "    <tr>\n",
       "      <th>5</th>\n",
       "      <td>Web-RInChIKey=MPSRMLHNVBSKOXPYB-ALDGHLASYPSDQSA</td>\n",
       "      <td>51580</td>\n",
       "      <td>CCC(=O)[O-].[CH3]C([CH3])([CH2]OP(=O)([O-])OP(...</td>\n",
       "    </tr>\n",
       "    <tr>\n",
       "      <th>6</th>\n",
       "      <td>Web-RInChIKey=MUKGCYMTMLIGNJXYJ-HUHFFFADPSCTJSA</td>\n",
       "      <td>40727</td>\n",
       "      <td>CCC(=O)[O-].[CH3][CH2][CH2][CH2][CH2][CH2][CH2...</td>\n",
       "    </tr>\n",
       "    <tr>\n",
       "      <th>7</th>\n",
       "      <td>Web-RInChIKey=OMDJOPNNLQOINANGJ-ARARVLTYBCREUSA</td>\n",
       "      <td>15421, 24336, 38883, 48340, 52860, 54536</td>\n",
       "      <td>CCC(=O)[O-].[CH3]C([CH3])([CH2]OP(=O)([O-])OP(...</td>\n",
       "    </tr>\n",
       "    <tr>\n",
       "      <th>8</th>\n",
       "      <td>Web-RInChIKey=ONGNEYSFPJQDHYMUC-HUHFFFADPSCTJSA</td>\n",
       "      <td>30299</td>\n",
       "      <td>CCC(=O)[O-].O=C([O-])[CH2][CH2]C(=O)C(=O)[O-]....</td>\n",
       "    </tr>\n",
       "    <tr>\n",
       "      <th>9</th>\n",
       "      <td>Web-RInChIKey=PEENSMBOTUETFZVYE-LUHFFFADPSCTJSA</td>\n",
       "      <td>73487</td>\n",
       "      <td>CCC(=O)[O-].O=C([O-])c1[cH]c(=O)[nH]c(=O)[nH]1...</td>\n",
       "    </tr>\n",
       "    <tr>\n",
       "      <th>10</th>\n",
       "      <td>Web-RInChIKey=PEHDUWVWLABLEXARE-NBENUIXBDPKLGSA</td>\n",
       "      <td>23012</td>\n",
       "      <td>CCC(=O)[O-].[CH3][S+]([CH2][CH2][C@H]([NH3+])C...</td>\n",
       "    </tr>\n",
       "    <tr>\n",
       "      <th>11</th>\n",
       "      <td>Web-RInChIKey=PRRLCXQLGOVNFFPHI-EPBUPUUIPXRIQSA</td>\n",
       "      <td>44600, 52336, 56896, 56920</td>\n",
       "      <td>CCC(=O)[O-].[NH2]c1n[cH]nc2c1n[cH]n2[C@@H]1O[C...</td>\n",
       "    </tr>\n",
       "    <tr>\n",
       "      <th>12</th>\n",
       "      <td>Web-RInChIKey=QXBIQSCEAGQDFUKRI-MUHFFFADPSCTJSA</td>\n",
       "      <td>18969</td>\n",
       "      <td>CCC(=O)[O-]&gt;&gt;[CH]C.O=C=O</td>\n",
       "    </tr>\n",
       "    <tr>\n",
       "      <th>13</th>\n",
       "      <td>Web-RInChIKey=RMFJYFNOZLVCKNOXV-ARATUWMQGUAPTSA</td>\n",
       "      <td>10968</td>\n",
       "      <td>CCC(=O)[O-].[CH3]C([CH3])([CH2]OP(=O)([O-])OP(...</td>\n",
       "    </tr>\n",
       "    <tr>\n",
       "      <th>14</th>\n",
       "      <td>Web-RInChIKey=UDHTYFBUGUIBRMRHH-GMNAWVDUIEQUISA</td>\n",
       "      <td>39023, 56748, 63376, 67952, 75279</td>\n",
       "      <td>CCC(=O)[O-].[CH3]c1[cH]c2c([cH]c1[CH3])N([CH2]...</td>\n",
       "    </tr>\n",
       "    <tr>\n",
       "      <th>15</th>\n",
       "      <td>Web-RInChIKey=UIHPWLBIZJYJRQIDF-AMQKYLUCNSCUWSA</td>\n",
       "      <td>50916</td>\n",
       "      <td>CCC(=O)[O-].[NH2]C(=O)C1=[CH]N([C@@H]2O[C@H]([...</td>\n",
       "    </tr>\n",
       "    <tr>\n",
       "      <th>16</th>\n",
       "      <td>Web-RInChIKey=VZRPXPGQNINYPEUXL-DANYQJVFWXDLLSA</td>\n",
       "      <td>60168</td>\n",
       "      <td>CCC(=O)[O-].[NH2]c1n[cH]nc2c1n[cH]n2[C@@H]1O[C...</td>\n",
       "    </tr>\n",
       "    <tr>\n",
       "      <th>17</th>\n",
       "      <td>Web-RInChIKey=XBDQKXXYIPTUBIJTE-MUHFFFADPSCTJSA</td>\n",
       "      <td>38879, 39283</td>\n",
       "      <td>CCC(=O)[O-]&gt;&gt;CCC(=O)[O-]</td>\n",
       "    </tr>\n",
       "    <tr>\n",
       "      <th>18</th>\n",
       "      <td>Web-RInChIKey=XLMBYJMHVVRNKLDVP-LUHFFFADPSCTJSA</td>\n",
       "      <td>48360</td>\n",
       "      <td>CCC(=O)[O-].[OH][OH]&gt;&gt;CC(O)C(=O)[O-].O</td>\n",
       "    </tr>\n",
       "  </tbody>\n",
       "</table>\n",
       "</div>"
      ],
      "text/plain": [
       "                                      Web-RInChIKey  \\\n",
       "0   Web-RInChIKey=AMJUVJCMURZMESFZW-LUHFFFADPSCTJSA   \n",
       "1   Web-RInChIKey=CPJBTPNPEMNQHDDBC-DPCSRZTMQPBCTSA   \n",
       "2   Web-RInChIKey=GXCNOXHEWCQIOIVZZ-FQVYYODZYXBIPSA   \n",
       "3   Web-RInChIKey=LEZUKENBQKXJNKNFN-LUHFFFADPSCTJSA   \n",
       "4   Web-RInChIKey=LNTVQHFTQCBDCLZMI-LUHFFFADPSCTJSA   \n",
       "5   Web-RInChIKey=MPSRMLHNVBSKOXPYB-ALDGHLASYPSDQSA   \n",
       "6   Web-RInChIKey=MUKGCYMTMLIGNJXYJ-HUHFFFADPSCTJSA   \n",
       "7   Web-RInChIKey=OMDJOPNNLQOINANGJ-ARARVLTYBCREUSA   \n",
       "8   Web-RInChIKey=ONGNEYSFPJQDHYMUC-HUHFFFADPSCTJSA   \n",
       "9   Web-RInChIKey=PEENSMBOTUETFZVYE-LUHFFFADPSCTJSA   \n",
       "10  Web-RInChIKey=PEHDUWVWLABLEXARE-NBENUIXBDPKLGSA   \n",
       "11  Web-RInChIKey=PRRLCXQLGOVNFFPHI-EPBUPUUIPXRIQSA   \n",
       "12  Web-RInChIKey=QXBIQSCEAGQDFUKRI-MUHFFFADPSCTJSA   \n",
       "13  Web-RInChIKey=RMFJYFNOZLVCKNOXV-ARATUWMQGUAPTSA   \n",
       "14  Web-RInChIKey=UDHTYFBUGUIBRMRHH-GMNAWVDUIEQUISA   \n",
       "15  Web-RInChIKey=UIHPWLBIZJYJRQIDF-AMQKYLUCNSCUWSA   \n",
       "16  Web-RInChIKey=VZRPXPGQNINYPEUXL-DANYQJVFWXDLLSA   \n",
       "17  Web-RInChIKey=XBDQKXXYIPTUBIJTE-MUHFFFADPSCTJSA   \n",
       "18  Web-RInChIKey=XLMBYJMHVVRNKLDVP-LUHFFFADPSCTJSA   \n",
       "\n",
       "                                      rheaid  \\\n",
       "0                                      74371   \n",
       "1                 44544, 67080, 67684, 78843   \n",
       "2                                      32655   \n",
       "3                                      63508   \n",
       "4                               38855, 39983   \n",
       "5                                      51580   \n",
       "6                                      40727   \n",
       "7   15421, 24336, 38883, 48340, 52860, 54536   \n",
       "8                                      30299   \n",
       "9                                      73487   \n",
       "10                                     23012   \n",
       "11                44600, 52336, 56896, 56920   \n",
       "12                                     18969   \n",
       "13                                     10968   \n",
       "14         39023, 56748, 63376, 67952, 75279   \n",
       "15                                     50916   \n",
       "16                                     60168   \n",
       "17                              38879, 39283   \n",
       "18                                     48360   \n",
       "\n",
       "                                            rxnsmiles  \n",
       "0   CCC(=O)[O-].O=C([O-])c1[cH][cH][cH]n[cH]1>>CCC...  \n",
       "1   CCC(=O)[O-].[NH2]c1n[cH]nc2c1n[cH]n2[C@@H]1O[C...  \n",
       "2   CCC(=O)[O-].C=[CH][CH2]c1[cH][cH]c([OH])c(O[CH...  \n",
       "3                    CCC(=O)[O-].O=O>>CC(OO)C(=O)[O-]  \n",
       "4   CCC(=O)[O-].O=O.[Fe+2].[Fe+2]>>CC(O)C(=O)[O-]....  \n",
       "5   CCC(=O)[O-].[CH3]C([CH3])([CH2]OP(=O)([O-])OP(...  \n",
       "6   CCC(=O)[O-].[CH3][CH2][CH2][CH2][CH2][CH2][CH2...  \n",
       "7   CCC(=O)[O-].[CH3]C([CH3])([CH2]OP(=O)([O-])OP(...  \n",
       "8   CCC(=O)[O-].O=C([O-])[CH2][CH2]C(=O)C(=O)[O-]....  \n",
       "9   CCC(=O)[O-].O=C([O-])c1[cH]c(=O)[nH]c(=O)[nH]1...  \n",
       "10  CCC(=O)[O-].[CH3][S+]([CH2][CH2][C@H]([NH3+])C...  \n",
       "11  CCC(=O)[O-].[NH2]c1n[cH]nc2c1n[cH]n2[C@@H]1O[C...  \n",
       "12                           CCC(=O)[O-]>>[CH]C.O=C=O  \n",
       "13  CCC(=O)[O-].[CH3]C([CH3])([CH2]OP(=O)([O-])OP(...  \n",
       "14  CCC(=O)[O-].[CH3]c1[cH]c2c([cH]c1[CH3])N([CH2]...  \n",
       "15  CCC(=O)[O-].[NH2]C(=O)C1=[CH]N([C@@H]2O[C@H]([...  \n",
       "16  CCC(=O)[O-].[NH2]c1n[cH]nc2c1n[cH]n2[C@@H]1O[C...  \n",
       "17                           CCC(=O)[O-]>>CCC(=O)[O-]  \n",
       "18             CCC(=O)[O-].[OH][OH]>>CC(O)C(=O)[O-].O  "
      ]
     },
     "execution_count": 25,
     "metadata": {},
     "output_type": "execute_result"
    }
   ],
   "source": [
    "df_grouped_by_rinchikey"
   ]
  },
  {
   "cell_type": "markdown",
   "id": "c148926e-0c46-48a8-9d2f-3fb1799405d4",
   "metadata": {},
   "source": [
    "The number of unique reactions descreased and Rhea reaction identifiers are grouped for the same Web-RInChIKey."
   ]
  },
  {
   "cell_type": "markdown",
   "id": "c2bc7fb3-af3f-4fa6-baa9-185fc513ee9e",
   "metadata": {},
   "source": [
    "# Analysis of the reaction templates\n",
    "\n",
    "Above we showed application of the library to predict reactions and products for a single compound. Using pyrheadb.ReactionPrediction it is possible to make several compounds fitting a reaction template to react.\n",
    "\n",
    "Here we are showing the distribution of the number of templates per Rhea reaction (of ~ 3 thousand reactions with at least one R/star-compound).\n",
    "\n",
    "The number of templates should be x2 of the number of Rhea reactions with R group, since they need to be tried as forward and reverse."
   ]
  },
  {
   "cell_type": "code",
   "execution_count": 26,
   "id": "434e7402-4cc0-40d1-b8ad-aee2f7f29a1b",
   "metadata": {},
   "outputs": [],
   "source": [
    "def count_substrate_templates(rxnpredobj):\n",
    "    counts_reactants = []\n",
    "    counts_products = []\n",
    "    counts_together = []\n",
    "    for rheaid, rxn in rxnpredobj.rdkit_stereo_rxn_data.items():\n",
    "        num_reactants = rxn.GetNumReactantTemplates()\n",
    "        num_products = rxn.GetNumProductTemplates()\n",
    "        if num_reactants>=3 or num_products>=3:\n",
    "            print('3+ substrate templates in', rheaid)\n",
    "        counts_products.append(num_products)\n",
    "        counts_reactants.append(num_reactants)\n",
    "        counts_together.extend([num_reactants, num_products])\n",
    "    return counts_reactants, counts_products, counts_together"
   ]
  },
  {
   "cell_type": "code",
   "execution_count": 27,
   "id": "0ce3cf8b-9ca8-43c3-9430-02dc561c69aa",
   "metadata": {},
   "outputs": [],
   "source": [
    "import matplotlib.pyplot as plt\n",
    "from collections import Counter\n",
    "\n",
    "# Data\n",
    "def plot_bar(elements):\n",
    "\n",
    "    # Count the occurrences of each category\n",
    "    counter = Counter(elements)\n",
    "\n",
    "    # Ensure all categories are present\n",
    "    categories = ['1', '2', '3+']\n",
    "    counts = [counter[1], counter[2], sum(v for k, v in counter.items() if k >= 3)]\n",
    "\n",
    "    # Plot\n",
    "    plt.figure(figsize=(10, 6))\n",
    "    bars = plt.bar(categories, counts, color='skyblue')\n",
    "\n",
    "    # Add counts on top of bars\n",
    "    for bar in bars:\n",
    "        height = bar.get_height()\n",
    "        plt.text(bar.get_x() + bar.get_width() / 2, height, str(height), ha='center', va='bottom')\n",
    "\n",
    "    plt.xlabel('Number of substrate templates')\n",
    "    plt.ylabel('Number of Rhea class reactions (R/star-reactions)')\n",
    "    plt.title('Number of Reaction Templates Distribution by Number of Substrate Templates')\n",
    "    plt.show()"
   ]
  },
  {
   "cell_type": "markdown",
   "id": "afc68659-9fb4-48b1-917b-59f8a06d43dd",
   "metadata": {},
   "source": [
    "**WITHOUT defined cofactors included into SMARTS**"
   ]
  },
  {
   "cell_type": "code",
   "execution_count": 28,
   "id": "25d7b6ff-67b3-42b6-b671-e80d1e873f0c",
   "metadata": {},
   "outputs": [
    {
     "name": "stdout",
     "output_type": "stream",
     "text": [
      "3+ substrate templates in 65032\n"
     ]
    }
   ],
   "source": [
    "counts_reactants_1, counts_products_1, counts_together_1 = count_substrate_templates(rxnpred_only_star)"
   ]
  },
  {
   "cell_type": "code",
   "execution_count": 29,
   "id": "6ccb62ad-4805-4584-a6ab-f8c7029fad12",
   "metadata": {},
   "outputs": [
    {
     "data": {
      "image/png": "[encoded data removed]",
      "text/plain": [
       "<Figure size 1000x600 with 1 Axes>"
      ]
     },
     "metadata": {},
     "output_type": "display_data"
    }
   ],
   "source": [
    "plot_bar(counts_together_1)"
   ]
  },
  {
   "cell_type": "code",
   "execution_count": 30,
   "id": "efcfdba2-91c9-42e0-b506-c8b340aa45e7",
   "metadata": {},
   "outputs": [],
   "source": [
    "# Commit two other versions of the plot since they do not add much info\n",
    "#plot_bar(counts_reactants_1)"
   ]
  },
  {
   "cell_type": "code",
   "execution_count": 31,
   "id": "8b2a989b-369d-4be1-a7f3-1355f54ba361",
   "metadata": {},
   "outputs": [],
   "source": [
    "#plot_bar(counts_products_1)"
   ]
  },
  {
   "cell_type": "markdown",
   "id": "e61b2c58-7d04-4294-8490-065bf1bf3fb4",
   "metadata": {},
   "source": [
    "**WITH defined cofactors included into SMARTS**"
   ]
  },
  {
   "cell_type": "code",
   "execution_count": 32,
   "id": "4a52fba4-ff16-4b9a-b912-93b9879e99cc",
   "metadata": {},
   "outputs": [
    {
     "name": "stdout",
     "output_type": "stream",
     "text": [
      "3+ substrate templates in 10396\n",
      "3+ substrate templates in 10448\n",
      "3+ substrate templates in 10592\n",
      "3+ substrate templates in 10652\n",
      "3+ substrate templates in 10832\n",
      "3+ substrate templates in 10968\n",
      "3+ substrate templates in 11000\n",
      "3+ substrate templates in 11036\n",
      "3+ substrate templates in 11472\n",
      "3+ substrate templates in 11484\n",
      "3+ substrate templates in 11640\n",
      "3+ substrate templates in 11644\n",
      "3+ substrate templates in 11804\n",
      "3+ substrate templates in 11888\n",
      "3+ substrate templates in 13189\n",
      "3+ substrate templates in 13421\n",
      "3+ substrate templates in 13781\n",
      "3+ substrate templates in 13881\n",
      "3+ substrate templates in 14269\n",
      "3+ substrate templates in 14289\n",
      "3+ substrate templates in 14513\n",
      "3+ substrate templates in 14673\n",
      "3+ substrate templates in 15181\n",
      "3+ substrate templates in 15205\n",
      "3+ substrate templates in 15221\n",
      "3+ substrate templates in 15421\n",
      "3+ substrate templates in 15437\n",
      "3+ substrate templates in 15629\n",
      "3+ substrate templates in 15965\n",
      "3+ substrate templates in 16073\n",
      "3+ substrate templates in 16153\n",
      "3+ substrate templates in 16185\n",
      "3+ substrate templates in 16337\n",
      "3+ substrate templates in 16421\n",
      "3+ substrate templates in 16829\n",
      "3+ substrate templates in 16837\n",
      "3+ substrate templates in 17149\n",
      "3+ substrate templates in 17181\n",
      "3+ substrate templates in 17357\n",
      "3+ substrate templates in 17521\n",
      "3+ substrate templates in 17581\n",
      "3+ substrate templates in 17873\n",
      "3+ substrate templates in 17977\n",
      "3+ substrate templates in 18121\n",
      "3+ substrate templates in 18129\n",
      "3+ substrate templates in 18569\n",
      "3+ substrate templates in 18621\n",
      "3+ substrate templates in 18797\n",
      "3+ substrate templates in 18849\n",
      "3+ substrate templates in 19057\n",
      "3+ substrate templates in 19121\n",
      "3+ substrate templates in 19229\n",
      "3+ substrate templates in 20461\n",
      "3+ substrate templates in 20976\n",
      "3+ substrate templates in 21088\n",
      "3+ substrate templates in 21440\n",
      "3+ substrate templates in 21724\n",
      "3+ substrate templates in 21816\n",
      "3+ substrate templates in 21864\n",
      "3+ substrate templates in 21916\n",
      "3+ substrate templates in 22060\n",
      "3+ substrate templates in 22276\n",
      "3+ substrate templates in 22424\n",
      "3+ substrate templates in 22708\n",
      "3+ substrate templates in 22956\n",
      "3+ substrate templates in 23060\n",
      "3+ substrate templates in 23064\n",
      "3+ substrate templates in 23120\n",
      "3+ substrate templates in 24136\n",
      "3+ substrate templates in 24336\n",
      "3+ substrate templates in 25041\n",
      "3+ substrate templates in 25828\n",
      "3+ substrate templates in 25852\n",
      "3+ substrate templates in 26414\n",
      "3+ substrate templates in 26490\n",
      "3+ substrate templates in 30299\n",
      "3+ substrate templates in 30355\n",
      "3+ substrate templates in 30955\n",
      "3+ substrate templates in 31303\n",
      "3+ substrate templates in 32655\n",
      "3+ substrate templates in 32727\n",
      "3+ substrate templates in 32907\n",
      "3+ substrate templates in 32967\n",
      "3+ substrate templates in 32971\n",
      "3+ substrate templates in 32975\n",
      "3+ substrate templates in 32979\n",
      "3+ substrate templates in 32983\n",
      "3+ substrate templates in 33911\n",
      "3+ substrate templates in 34687\n",
      "3+ substrate templates in 34771\n",
      "3+ substrate templates in 34775\n",
      "3+ substrate templates in 34827\n",
      "3+ substrate templates in 35419\n",
      "3+ substrate templates in 35423\n",
      "3+ substrate templates in 35443\n",
      "3+ substrate templates in 36199\n",
      "3+ substrate templates in 36203\n",
      "3+ substrate templates in 36219\n",
      "3+ substrate templates in 36223\n",
      "3+ substrate templates in 36255\n",
      "3+ substrate templates in 36439\n",
      "3+ substrate templates in 36795\n",
      "3+ substrate templates in 38039\n",
      "3+ substrate templates in 38047\n",
      "3+ substrate templates in 38567\n",
      "3+ substrate templates in 38583\n",
      "3+ substrate templates in 38855\n",
      "3+ substrate templates in 38883\n",
      "3+ substrate templates in 38903\n",
      "3+ substrate templates in 38943\n",
      "3+ substrate templates in 38967\n",
      "3+ substrate templates in 38999\n",
      "3+ substrate templates in 39003\n",
      "3+ substrate templates in 39023\n",
      "3+ substrate templates in 39039\n",
      "3+ substrate templates in 39983\n",
      "3+ substrate templates in 40123\n",
      "3+ substrate templates in 40127\n",
      "3+ substrate templates in 41716\n",
      "3+ substrate templates in 41948\n",
      "3+ substrate templates in 42316\n",
      "3+ substrate templates in 43104\n",
      "3+ substrate templates in 43996\n",
      "3+ substrate templates in 44004\n",
      "3+ substrate templates in 44008\n",
      "3+ substrate templates in 44336\n",
      "3+ substrate templates in 44544\n",
      "3+ substrate templates in 44548\n",
      "3+ substrate templates in 45996\n",
      "3+ substrate templates in 46188\n",
      "3+ substrate templates in 46236\n",
      "3+ substrate templates in 46240\n",
      "3+ substrate templates in 46252\n",
      "3+ substrate templates in 46256\n",
      "3+ substrate templates in 46260\n",
      "3+ substrate templates in 46264\n",
      "3+ substrate templates in 46268\n",
      "3+ substrate templates in 46272\n",
      "3+ substrate templates in 46280\n",
      "3+ substrate templates in 46284\n",
      "3+ substrate templates in 46288\n",
      "3+ substrate templates in 46332\n",
      "3+ substrate templates in 46360\n",
      "3+ substrate templates in 46364\n",
      "3+ substrate templates in 46368\n",
      "3+ substrate templates in 46372\n",
      "3+ substrate templates in 46376\n",
      "3+ substrate templates in 46396\n",
      "3+ substrate templates in 46404\n",
      "3+ substrate templates in 46408\n",
      "3+ substrate templates in 46412\n",
      "3+ substrate templates in 46440\n",
      "3+ substrate templates in 46468\n",
      "3+ substrate templates in 46512\n",
      "3+ substrate templates in 46520\n",
      "3+ substrate templates in 46532\n",
      "3+ substrate templates in 46536\n",
      "3+ substrate templates in 46540\n",
      "3+ substrate templates in 46544\n",
      "3+ substrate templates in 46548\n",
      "3+ substrate templates in 46552\n",
      "3+ substrate templates in 46756\n",
      "3+ substrate templates in 46764\n",
      "3+ substrate templates in 46768\n",
      "3+ substrate templates in 46772\n",
      "3+ substrate templates in 46776\n",
      "3+ substrate templates in 46780\n",
      "3+ substrate templates in 46784\n",
      "3+ substrate templates in 46788\n",
      "3+ substrate templates in 46792\n",
      "3+ substrate templates in 46796\n",
      "3+ substrate templates in 47796\n",
      "3+ substrate templates in 48340\n",
      "3+ substrate templates in 48880\n",
      "3+ substrate templates in 49060\n",
      "3+ substrate templates in 49164\n",
      "3+ substrate templates in 49832\n",
      "3+ substrate templates in 49840\n",
      "3+ substrate templates in 49848\n",
      "3+ substrate templates in 49864\n",
      "3+ substrate templates in 49872\n",
      "3+ substrate templates in 50044\n",
      "3+ substrate templates in 50252\n",
      "3+ substrate templates in 50376\n",
      "3+ substrate templates in 50736\n",
      "3+ substrate templates in 50760\n",
      "3+ substrate templates in 50876\n",
      "3+ substrate templates in 50916\n",
      "3+ substrate templates in 51004\n",
      "3+ substrate templates in 51020\n",
      "3+ substrate templates in 51148\n",
      "3+ substrate templates in 51416\n",
      "3+ substrate templates in 51420\n",
      "3+ substrate templates in 51476\n",
      "3+ substrate templates in 51580\n",
      "3+ substrate templates in 51636\n",
      "3+ substrate templates in 51660\n",
      "3+ substrate templates in 52252\n",
      "3+ substrate templates in 52256\n",
      "3+ substrate templates in 52668\n",
      "3+ substrate templates in 52860\n",
      "3+ substrate templates in 53020\n",
      "3+ substrate templates in 53328\n",
      "3+ substrate templates in 53736\n",
      "3+ substrate templates in 54028\n",
      "3+ substrate templates in 54320\n",
      "3+ substrate templates in 54432\n",
      "3+ substrate templates in 54436\n",
      "3+ substrate templates in 54536\n",
      "3+ substrate templates in 54832\n",
      "3+ substrate templates in 55056\n",
      "3+ substrate templates in 55060\n",
      "3+ substrate templates in 55068\n",
      "3+ substrate templates in 55156\n",
      "3+ substrate templates in 55376\n",
      "3+ substrate templates in 55448\n",
      "3+ substrate templates in 55476\n",
      "3+ substrate templates in 55756\n",
      "3+ substrate templates in 55772\n",
      "3+ substrate templates in 55800\n",
      "3+ substrate templates in 55808\n",
      "3+ substrate templates in 55812\n",
      "3+ substrate templates in 55816\n",
      "3+ substrate templates in 55820\n",
      "3+ substrate templates in 55980\n",
      "3+ substrate templates in 56136\n",
      "3+ substrate templates in 56144\n",
      "3+ substrate templates in 56748\n",
      "3+ substrate templates in 56752\n",
      "3+ substrate templates in 56836\n",
      "3+ substrate templates in 57584\n",
      "3+ substrate templates in 57600\n",
      "3+ substrate templates in 57604\n",
      "3+ substrate templates in 57680\n",
      "3+ substrate templates in 57888\n",
      "3+ substrate templates in 57892\n",
      "3+ substrate templates in 59296\n",
      "3+ substrate templates in 59956\n",
      "3+ substrate templates in 60052\n",
      "3+ substrate templates in 60056\n",
      "3+ substrate templates in 60064\n",
      "3+ substrate templates in 60084\n",
      "3+ substrate templates in 60088\n",
      "3+ substrate templates in 60936\n",
      "3+ substrate templates in 61444\n",
      "3+ substrate templates in 61564\n",
      "3+ substrate templates in 61960\n",
      "3+ substrate templates in 61964\n",
      "3+ substrate templates in 61968\n",
      "3+ substrate templates in 62420\n",
      "3+ substrate templates in 62628\n",
      "3+ substrate templates in 62632\n",
      "3+ substrate templates in 63320\n",
      "3+ substrate templates in 63376\n",
      "3+ substrate templates in 63708\n",
      "3+ substrate templates in 63712\n",
      "3+ substrate templates in 63928\n",
      "3+ substrate templates in 64532\n",
      "3+ substrate templates in 64912\n",
      "3+ substrate templates in 65032\n",
      "3+ substrate templates in 65716\n",
      "3+ substrate templates in 65768\n",
      "3+ substrate templates in 65952\n",
      "3+ substrate templates in 65972\n",
      "3+ substrate templates in 66036\n",
      "3+ substrate templates in 66132\n",
      "3+ substrate templates in 66272\n",
      "3+ substrate templates in 66344\n",
      "3+ substrate templates in 66456\n",
      "3+ substrate templates in 66504\n",
      "3+ substrate templates in 66508\n",
      "3+ substrate templates in 66512\n",
      "3+ substrate templates in 66516\n",
      "3+ substrate templates in 66520\n",
      "3+ substrate templates in 66660\n",
      "3+ substrate templates in 67080\n",
      "3+ substrate templates in 67188\n",
      "3+ substrate templates in 67192\n",
      "3+ substrate templates in 67660\n",
      "3+ substrate templates in 67684\n",
      "3+ substrate templates in 67824\n",
      "3+ substrate templates in 67952\n",
      "3+ substrate templates in 68060\n",
      "3+ substrate templates in 68064\n",
      "3+ substrate templates in 68068\n",
      "3+ substrate templates in 68476\n",
      "3+ substrate templates in 69763\n",
      "3+ substrate templates in 69771\n",
      "3+ substrate templates in 71659\n",
      "3+ substrate templates in 74171\n",
      "3+ substrate templates in 74175\n",
      "3+ substrate templates in 74179\n",
      "3+ substrate templates in 74687\n",
      "3+ substrate templates in 74931\n",
      "3+ substrate templates in 74939\n",
      "3+ substrate templates in 74943\n",
      "3+ substrate templates in 75279\n",
      "3+ substrate templates in 76179\n",
      "3+ substrate templates in 76187\n",
      "3+ substrate templates in 76487\n",
      "3+ substrate templates in 76563\n",
      "3+ substrate templates in 76731\n",
      "3+ substrate templates in 76967\n",
      "3+ substrate templates in 77787\n",
      "3+ substrate templates in 77879\n",
      "3+ substrate templates in 78843\n",
      "3+ substrate templates in 78951\n",
      "3+ substrate templates in 78963\n",
      "3+ substrate templates in 79339\n",
      "3+ substrate templates in 80643\n",
      "3+ substrate templates in 80647\n",
      "3+ substrate templates in 80651\n"
     ]
    }
   ],
   "source": [
    "counts_reactants_2, counts_products_2, counts_together_2 = count_substrate_templates(rxnpred)"
   ]
  },
  {
   "cell_type": "code",
   "execution_count": 33,
   "id": "59369f82-53a8-4211-9f6a-3435ac5e690f",
   "metadata": {},
   "outputs": [
    {
     "data": {
      "image/png": "[encoded data removed]",
      "text/plain": [
       "<Figure size 1000x600 with 1 Axes>"
      ]
     },
     "metadata": {},
     "output_type": "display_data"
    }
   ],
   "source": [
    "plot_bar(counts_together_2)"
   ]
  },
  {
   "cell_type": "markdown",
   "id": "347b42d6-5a50-477e-ac53-19680fdf186f",
   "metadata": {},
   "source": [
    "Comparing only-star templates with all-compound templates, we see, that treating defined cofactors separately brings advantage as it reduces the need for combinatorial increase in calculations due to the requirement to have permutations.\n",
    "\n",
    "Most of the template reaction can be treated as singe substrate template (single SMILES string input to predict_reactions() and predict_products())"
   ]
  },
  {
   "cell_type": "code",
   "execution_count": null,
   "id": "b61a8a33-7436-42da-99e0-21136f5c1429",
   "metadata": {},
   "outputs": [],
   "source": []
  }
 ],
 "metadata": {
  "kernelspec": {
   "display_name": "Python 3 (ipykernel)",
   "language": "python",
   "name": "python3"
  },
  "language_info": {
   "codemirror_mode": {
    "name": "ipython",
    "version": 3
   },
   "file_extension": ".py",
   "mimetype": "text/x-python",
   "name": "python",
   "nbconvert_exporter": "python",
   "pygments_lexer": "ipython3",
   "version": "3.9.13"
  }
 },
 "nbformat": 4,
 "nbformat_minor": 5
}
