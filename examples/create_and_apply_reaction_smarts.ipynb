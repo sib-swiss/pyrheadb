{
 "cells": [
  {
   "cell_type": "markdown",
   "id": "421f6bee-e7ce-4e22-8568-c9a083375c83",
   "metadata": {
    "tags": []
   },
   "source": [
    "# Predicting reactions"
   ]
  },
  {
   "cell_type": "markdown",
   "id": "d9db02a6-238a-4f7d-a406-d0995be58602",
   "metadata": {
    "tags": []
   },
   "source": [
    "## Intro\n",
    "Predicting reactions based on reaction templates is important for synthetic biology, biotechnology, and other areas that need to establish connections between molecules that are not currently annotated in existing databases.\n",
    "Examples of existing tools for application of reaction templates are:\n",
    "* [BNICE](https://doi.org/10.1093/bioinformatics/bti213)\n",
    "* [Pickaxe](https://github.com/tyo-nu/MINE-Database)\n",
    "\n",
    "The basic mechanism of action is as follows:\n",
    "1. Take template (e.g. R-C=O -> R-C-OH)\n",
    "2. Take compound (e.g. C-C-C-C=O)\n",
    "3. Apply template to compound and get the reaction (e.g. C-C-C-C=O -> C-C-C-C-OH)\n",
    "\n",
    "A common way to represent reaction templates is [reaction SMARTS](https://www.daylight.com/dayhtml/doc/theory/theory.smarts.html). SMARTS serve as a substructure search linear molecule expression (analagous to regular expressions in text).\n",
    "\n",
    "One of the existing python libraries for application of reaction SMARTS to compounds for reaction generation is [rdkit](https://www.rdkit.org/docs/source/rdkit.Chem.rdChemReactions.html)."
   ]
  },
  {
   "cell_type": "markdown",
   "id": "0fd88d0e-0b15-43f8-a3df-d0051cf0e9b9",
   "metadata": {},
   "source": [
    "## Predicting reactions using Rhea templates"
   ]
  },
  {
   "cell_type": "markdown",
   "id": "6e9242df-80dc-41e8-8bbc-f3b6b7049941",
   "metadata": {},
   "source": [
    "This notebook generates SMARTS from generic Rhea reactions (reactions with R-compounds or star(\\*)-compounds) and applies them as reactions."
   ]
  },
  {
   "cell_type": "markdown",
   "id": "a8651d7d-80d2-4e62-be60-ba8ac1027ffb",
   "metadata": {},
   "source": [
    "1. Use RheaDB class to access the RheaDB data "
   ]
  },
  {
   "cell_type": "code",
   "execution_count": null,
   "id": "03752494-44e9-4b5d-9dc9-8d899401715b",
   "metadata": {},
   "outputs": [],
   "source": [
    "from pyrheadb.RheaDB import RheaDB\n",
    "rdb = RheaDB()"
   ]
  },
  {
   "cell_type": "markdown",
   "id": "4663c1dd-8355-40f5-b4e1-1ff3f0b30b77",
   "metadata": {},
   "source": [
    "2. Use ReactionSmartsConverter class to identify Rhea reactions that can act as templates (class reactions) and convert them to SMARTS using atom mapping with [RXNMapper](https://github.com/rxn4chemistry/rxnmapper)"
   ]
  },
  {
   "cell_type": "code",
   "execution_count": null,
   "id": "4ab9673c-fa86-482c-aaaf-ed70b6adbf67",
   "metadata": {},
   "outputs": [],
   "source": [
    "from pyrheadb.ReactionSmartsConverter import ReactionSmartsConverter\n",
    "rxn_smarts_cvrt = ReactionSmartsConverter(rdb)"
   ]
  },
  {
   "cell_type": "markdown",
   "id": "6b227778-86ff-487d-9b22-b03374476eb0",
   "metadata": {},
   "source": [
    "3. Use ReactionPrediction class to apply the resulting reaction SMARTS to desired compounds"
   ]
  },
  {
   "cell_type": "code",
   "execution_count": null,
   "id": "b3437664-8c51-4415-81d6-22173fac08da",
   "metadata": {},
   "outputs": [],
   "source": [
    "from pyrheadb.ReactionPrediction import ReactionPrediction"
   ]
  },
  {
   "cell_type": "code",
   "execution_count": null,
   "id": "5c88fd83-6de5-4b4b-88fd-e89b21d54e09",
   "metadata": {},
   "outputs": [],
   "source": [
    "# Initiate ReactionPrediction class - do not forget to initiate it with RheaDB to be able to access Rhea data from the class\n",
    "rxnpred = ReactionPrediction(rdb)"
   ]
  },
  {
   "cell_type": "markdown",
   "id": "4a613eee-d0b5-4eaf-aaf6-3d952936de11",
   "metadata": {},
   "source": [
    "There are two possibilities to interpret reaction SMARTS:\n",
    "1. All compounds are included into SMARTS. SMARTS will try to find a pattern match in provided compounds for every necessary reactant, including fully defined cofactors/cosubstrates (e.g. NADH, ATP, etc.)\n",
    "2. Only use star (*/R) compounds in SMARTS. The default compounds will be added after product structure calculation for balance\n",
    "\n",
    "* set_star_smarts_only: False - option 1 (reaction SMARTS applied as a whole)\n",
    "* set_star_smarts_only: True - option 2 (only the star-compounds used)"
   ]
  },
  {
   "cell_type": "markdown",
   "id": "5ede0d7b-e084-49e1-a44f-fa4ba08a637f",
   "metadata": {},
   "source": [
    "**First, do the analysis with the full SMARTS**"
   ]
  },
  {
   "cell_type": "code",
   "execution_count": null,
   "id": "e3669aa4-4cbe-4b1d-beff-7bcf6ffb6ebd",
   "metadata": {},
   "outputs": [],
   "source": [
    "rxnpred.set_star_smarts_only(False)"
   ]
  },
  {
   "cell_type": "markdown",
   "id": "0aa244b4-abd8-448c-8019-878143b5352f",
   "metadata": {},
   "source": [
    "Now lets load SMARTS data that was generated with ReactionSmartsConverter"
   ]
  },
  {
   "cell_type": "code",
   "execution_count": null,
   "id": "b1f64db1-8ca9-40a5-909f-728fda3ca941",
   "metadata": {},
   "outputs": [],
   "source": [
    "rxnpred.load_smarts_data()"
   ]
  },
  {
   "cell_type": "code",
   "execution_count": null,
   "id": "6bfc66e6-7bec-4d2c-9c5a-15a27d0912b2",
   "metadata": {},
   "outputs": [],
   "source": [
    "print('Total SMARTS:', len(rxnpred.smarts_data))"
   ]
  },
  {
   "cell_type": "code",
   "execution_count": null,
   "id": "fe7daea6-8fa0-4b8d-8e19-f6370decda3d",
   "metadata": {},
   "outputs": [],
   "source": [
    "# Uncommit if you want to see all the smarts_data\n",
    "#rxnpred.smarts_data"
   ]
  },
  {
   "cell_type": "code",
   "execution_count": null,
   "id": "58a6fe9a-0ab7-429e-8ebd-b7a90d1b8e94",
   "metadata": {},
   "outputs": [],
   "source": [
    "print('Example SMARTS:', rxnpred.smarts_data['39023'])"
   ]
  },
  {
   "cell_type": "markdown",
   "id": "160b9e95-dd3a-4556-9191-1c8872b6972f",
   "metadata": {},
   "source": [
    "**4. Predict products and reactions**\n",
    "\n",
    "You can supply predict_products with:\n",
    "* SMILES string of one compound. Example: \"CCC(=O)[O-]\"\n",
    "* list of SMILES of compounds that are substrates of a single reaction and are reacting with each other. Example: \\[\"CC=O\", \"NH3\"]\n",
    "\n",
    "From the practical point of view, enumerating several substrates for one reaction is required to generate permutations. This operation increases computational time to evaluate all options.\n",
    "From the theoretical point of view, it is unlikely that more than two random molecules meet and react.\n",
    "It was nicely put in words on [Reddit](https://www.reddit.com/r/chemistry/comments/18smdjd/are_there_any_chemical_reactions_that_actually/?rdt=50008): \"It’s unlikely for 3 things to bounce into each other at the exact same time in the correct orientation. There are a lot of multi-component reactions but it usually happens in stages.\"\n",
    "\n",
    "More on Molecularity: [Wikipedia](https://en.m.wikipedia.org/wiki/Molecularity)\n",
    "\n",
    "Here we demonstrate how to test all Rhea reaction templates on one molecule and evaluate which products and which reactions we can get."
   ]
  },
  {
   "cell_type": "markdown",
   "id": "7162b641-8c87-4166-af3e-6a86027943eb",
   "metadata": {},
   "source": [
    "**Predict products**"
   ]
  },
  {
   "cell_type": "code",
   "execution_count": null,
   "id": "2d28239d-b710-475f-930c-5a6a0d8260e1",
   "metadata": {},
   "outputs": [],
   "source": [
    "rheaid2products=rxnpred.predict_products('CCC(=O)[O-]')"
   ]
  },
  {
   "cell_type": "code",
   "execution_count": null,
   "id": "3b72d293-1a7e-4f56-88e5-9181204d1ab4",
   "metadata": {},
   "outputs": [],
   "source": [
    "product_sets = [i for i in rheaid2products if i[1]]\n",
    "print('Number of possible product sets that were obtained:',len(product_sets))"
   ]
  },
  {
   "cell_type": "code",
   "execution_count": null,
   "id": "d6f5d63e-4062-4126-b333-c16480132213",
   "metadata": {},
   "outputs": [],
   "source": [
    "product_sets"
   ]
  },
  {
   "cell_type": "markdown",
   "id": "a99d3c2c-d353-4399-864f-86924a8a2cd6",
   "metadata": {},
   "source": [
    "**Predict reactions**"
   ]
  },
  {
   "cell_type": "code",
   "execution_count": null,
   "id": "04d8fc50-1b38-4e03-a901-34da5dcdab59",
   "metadata": {},
   "outputs": [],
   "source": [
    "df_pred_rxns=rxnpred.predict_reactions('CCC(=O)[O-]')"
   ]
  },
  {
   "cell_type": "code",
   "execution_count": null,
   "id": "b074289f-5339-4acf-8bc8-07519f8a0bf1",
   "metadata": {},
   "outputs": [],
   "source": [
    "df_pred_rxns"
   ]
  },
  {
   "cell_type": "markdown",
   "id": "8da54036-3b6b-4205-a597-b48088437200",
   "metadata": {},
   "source": [
    "Check smarts for one of the Rhea reactions (18969) which resulted in products for the selected compound"
   ]
  },
  {
   "cell_type": "code",
   "execution_count": null,
   "id": "01433ff7-1cf2-4bcf-af52-51ae2c9b4d8e",
   "metadata": {},
   "outputs": [],
   "source": [
    "rxnpred.smarts_data['18969']"
   ]
  },
  {
   "cell_type": "markdown",
   "id": "fbb37014-6ca4-4d2e-9103-60af219187cb",
   "metadata": {},
   "source": [
    "**Now, repeat with the star-only SMARTS (default option)**"
   ]
  },
  {
   "cell_type": "code",
   "execution_count": null,
   "id": "5ce278eb-8b61-4866-957e-ed584ca8ca3d",
   "metadata": {},
   "outputs": [],
   "source": [
    "rxnpred_only_star = ReactionPrediction(rdb)\n",
    "rxnpred_only_star.load_smarts_data()\n",
    "print('Total SMARTS:', len(rxnpred_only_star.smarts_data))"
   ]
  },
  {
   "cell_type": "code",
   "execution_count": null,
   "id": "e9272de8-9388-46cd-bfcd-5c62817cbf02",
   "metadata": {},
   "outputs": [],
   "source": [
    "rheaid_star_only2products=rxnpred_only_star.predict_products('CCC(=O)[O-]')"
   ]
  },
  {
   "cell_type": "code",
   "execution_count": null,
   "id": "45c62056-00ab-4368-8f4d-58dc744aed4e",
   "metadata": {},
   "outputs": [],
   "source": [
    "product_sets = [i for i in rheaid_star_only2products if i[1]]\n",
    "print('Number of possible product sets that were obtained:', len(product_sets))"
   ]
  },
  {
   "cell_type": "code",
   "execution_count": null,
   "id": "e607f6d0-1dff-4543-99ac-263f7d0edaad",
   "metadata": {},
   "outputs": [],
   "source": [
    "df_pred_rxns_only_star=rxnpred_only_star.predict_reactions('CCC(=O)[O-]')"
   ]
  },
  {
   "cell_type": "code",
   "execution_count": null,
   "id": "2753faae-a5a0-4eb7-940a-9a35faf84e1d",
   "metadata": {},
   "outputs": [],
   "source": [
    "df_pred_rxns_only_star"
   ]
  },
  {
   "cell_type": "markdown",
   "id": "93c20d7b-c97d-4199-8aef-18c05ea2445a",
   "metadata": {},
   "source": [
    "As you can see, there are more reactions generated with ReactionPrediction.set_star_smarts_only(True). This is because we did not have to add cofactors into the \"mix\" and all the defined cofactors were automatically found and applied to generate valid balanced reactions!\n",
    "\n",
    "Therefore, _star_smarts_only = True_ is the default option. However, we kept the ability to use full SMARTS by resetting this option to False as was shown in the beginning."
   ]
  },
  {
   "cell_type": "markdown",
   "id": "02d35800-d1eb-4eb1-99eb-6a9f6205d67d",
   "metadata": {},
   "source": [
    "**Group reactions based on International chemical identifier for reactions (RInChI).**\n",
    "\n",
    "[Link to article on RInChI](https://jcheminf.biomedcentral.com/articles/10.1186/s13321-018-0277-8)"
   ]
  },
  {
   "cell_type": "code",
   "execution_count": null,
   "id": "73337d60-49c8-4245-a369-5495edd2eff8",
   "metadata": {},
   "outputs": [],
   "source": [
    "df_grouped_by_rinchikey = rxnpred_only_star.group_predicted_reactions_based_on_rinchikey(df_pred_rxns_only_star)"
   ]
  },
  {
   "cell_type": "code",
   "execution_count": null,
   "id": "cc3a03c2-c31a-449c-9a1a-8bb0d8813b7e",
   "metadata": {},
   "outputs": [],
   "source": [
    "df_grouped_by_rinchikey"
   ]
  },
  {
   "cell_type": "markdown",
   "id": "c148926e-0c46-48a8-9d2f-3fb1799405d4",
   "metadata": {},
   "source": [
    "The number of unique reactions descreased and Rhea reaction identifiers are grouped for the same Web-RInChIKey."
   ]
  },
  {
   "cell_type": "markdown",
   "id": "c2bc7fb3-af3f-4fa6-baa9-185fc513ee9e",
   "metadata": {},
   "source": [
    "# Analysis of the reaction templates\n",
    "\n",
    "Above we showed application of the library to predict reactions and products for a single compound. Using pyrheadb.ReactionPrediction it is possible to make several compounds fitting a reaction template to react.\n",
    "\n",
    "Here we are showing the distribution of the number of templates per Rhea reaction (of ~ 3 thousand reactions with at least one R/star-compound).\n",
    "\n",
    "The number of templates should be x2 of the number of Rhea reactions with R group, since they need to be tried as forward and reverse."
   ]
  },
  {
   "cell_type": "code",
   "execution_count": null,
   "id": "434e7402-4cc0-40d1-b8ad-aee2f7f29a1b",
   "metadata": {},
   "outputs": [],
   "source": [
    "def count_substrate_templates(rxnpredobj):\n",
    "    counts_reactants = []\n",
    "    counts_products = []\n",
    "    counts_together = []\n",
    "    for rheaid, rxn in rxnpredobj.rdkit_stereo_rxn_data.items():\n",
    "        num_reactants = rxn.GetNumReactantTemplates()\n",
    "        num_products = rxn.GetNumProductTemplates()\n",
    "        if num_reactants>3 or num_products>3:\n",
    "            print('4+ substrate templates in', rheaid)\n",
    "        counts_products.append(num_products)\n",
    "        counts_reactants.append(num_reactants)\n",
    "        counts_together.extend([num_reactants, num_products])\n",
    "    return counts_reactants, counts_products, counts_together"
   ]
  },
  {
   "cell_type": "code",
   "execution_count": null,
   "id": "0ce3cf8b-9ca8-43c3-9430-02dc561c69aa",
   "metadata": {},
   "outputs": [],
   "source": [
    "import matplotlib.pyplot as plt\n",
    "from collections import Counter\n",
    "\n",
    "# Data\n",
    "def plot_bar(elements):\n",
    "\n",
    "    # Count the occurrences of each category\n",
    "    counter = Counter(elements)\n",
    "\n",
    "    # Ensure all categories are present\n",
    "    categories = ['1', '2', '3', '4+']\n",
    "    counts = [counter[1], counter[2], counter[3], sum(v for k, v in counter.items() if k >= 4)]\n",
    "\n",
    "    # Plot\n",
    "    plt.figure(figsize=(10, 6))\n",
    "    bars = plt.bar(categories, counts, color='skyblue')\n",
    "\n",
    "    # Add counts on top of bars\n",
    "    for bar in bars:\n",
    "        height = bar.get_height()\n",
    "        plt.text(bar.get_x() + bar.get_width() / 2, height, str(height), ha='center', va='bottom')\n",
    "\n",
    "    plt.xlabel('Number of substrate templates')\n",
    "    plt.ylabel('Number of Rhea class reactions (R/star-reactions)')\n",
    "    plt.title('Number of Reaction Templates Distribution by Number of Substrate Templates')\n",
    "    plt.show()"
   ]
  },
  {
   "cell_type": "markdown",
   "id": "afc68659-9fb4-48b1-917b-59f8a06d43dd",
   "metadata": {},
   "source": [
    "**WITHOUT defined cofactors included into SMARTS**"
   ]
  },
  {
   "cell_type": "code",
   "execution_count": null,
   "id": "25d7b6ff-67b3-42b6-b671-e80d1e873f0c",
   "metadata": {},
   "outputs": [],
   "source": [
    "counts_reactants_1, counts_products_1, counts_together_1 = count_substrate_templates(rxnpred_only_star)"
   ]
  },
  {
   "cell_type": "code",
   "execution_count": null,
   "id": "7bcc2413-827f-4d7f-be2f-2bb4f9269b11",
   "metadata": {},
   "outputs": [],
   "source": [
    "rxnpred_only_star.smarts_data['30239']"
   ]
  },
  {
   "cell_type": "code",
   "execution_count": null,
   "id": "6ccb62ad-4805-4584-a6ab-f8c7029fad12",
   "metadata": {},
   "outputs": [],
   "source": [
    "plot_bar(counts_together_1)"
   ]
  },
  {
   "cell_type": "code",
   "execution_count": null,
   "id": "efcfdba2-91c9-42e0-b506-c8b340aa45e7",
   "metadata": {},
   "outputs": [],
   "source": [
    "# Commit two other versions of the plot since they do not add much info\n",
    "#plot_bar(counts_reactants_1)"
   ]
  },
  {
   "cell_type": "code",
   "execution_count": null,
   "id": "8b2a989b-369d-4be1-a7f3-1355f54ba361",
   "metadata": {},
   "outputs": [],
   "source": [
    "#plot_bar(counts_products_1)"
   ]
  },
  {
   "cell_type": "markdown",
   "id": "e61b2c58-7d04-4294-8490-065bf1bf3fb4",
   "metadata": {},
   "source": [
    "**WITH defined cofactors included into SMARTS**"
   ]
  },
  {
   "cell_type": "code",
   "execution_count": null,
   "id": "4a52fba4-ff16-4b9a-b912-93b9879e99cc",
   "metadata": {},
   "outputs": [],
   "source": [
    "counts_reactants_2, counts_products_2, counts_together_2 = count_substrate_templates(rxnpred)"
   ]
  },
  {
   "cell_type": "code",
   "execution_count": null,
   "id": "59369f82-53a8-4211-9f6a-3435ac5e690f",
   "metadata": {},
   "outputs": [],
   "source": [
    "plot_bar(counts_together_2)"
   ]
  },
  {
   "cell_type": "markdown",
   "id": "347b42d6-5a50-477e-ac53-19680fdf186f",
   "metadata": {},
   "source": [
    "Comparing only-star templates with all-compound templates, we see, that treating defined cofactors separately brings advantage as it reduces the need for combinatorial increase in calculations due to the requirement to have permutations.\n",
    "\n",
    "Most of the template reaction can be treated as singe substrate template (single SMILES string input to predict_reactions() and predict_products())"
   ]
  },
  {
   "cell_type": "code",
   "execution_count": null,
   "id": "b61a8a33-7436-42da-99e0-21136f5c1429",
   "metadata": {},
   "outputs": [],
   "source": []
  }
 ],
 "metadata": {
  "kernelspec": {
   "display_name": "pyrheadbenv",
   "language": "python",
   "name": "pyrheadbenv"
  },
  "language_info": {
   "codemirror_mode": {
    "name": "ipython",
    "version": 3
   },
   "file_extension": ".py",
   "mimetype": "text/x-python",
   "name": "python",
   "nbconvert_exporter": "python",
   "pygments_lexer": "ipython3",
   "version": "3.9.13"
  }
 },
 "nbformat": 4,
 "nbformat_minor": 5
}
