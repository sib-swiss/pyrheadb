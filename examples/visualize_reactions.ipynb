{
 "cells": [
  {
   "cell_type": "code",
   "execution_count": null,
   "id": "18ab4eea",
   "metadata": {},
   "outputs": [],
   "source": [
    "!pip3 install --no-cache-dir --index-url https://test.pypi.org/simple/ rheadb==0.0.2"
   ]
  },
  {
   "cell_type": "code",
   "execution_count": null,
   "id": "731e3cd1",
   "metadata": {},
   "outputs": [],
   "source": [
    "from rheadb.ReactionSmarts import ReactionSmarts"
   ]
  },
  {
   "cell_type": "markdown",
   "id": "178443b3",
   "metadata": {},
   "source": [
    "# Example 1: draw reaction that was previously atom mapped\n",
    "1. Draw reaction"
   ]
  },
  {
   "cell_type": "code",
   "execution_count": null,
   "id": "94b3488c",
   "metadata": {},
   "outputs": [],
   "source": [
    "rxn_smarts = \"[CH3:1][CH2:2][CH2:3][CH2:4][C:5](=[O:6])[NH2:8].[OH2:7]\\\n",
    ">>[CH3:1][CH2:2][CH2:3][CH2:4][C:5](=[O:6])[O-:7].[NH4+:8]\"\n",
    "ReactionSmarts.draw_reaction(rxn_smarts, 'test_rxn', bw = True)"
   ]
  },
  {
   "cell_type": "markdown",
   "id": "12751324",
   "metadata": {},
   "source": [
    "2. Draw compounds : reactants and products separately"
   ]
  },
  {
   "cell_type": "code",
   "execution_count": null,
   "id": "b3845991",
   "metadata": {},
   "outputs": [],
   "source": [
    "ReactionSmarts.draw_compounds(\"[CH3:1][CH2:2][CH2:3][CH2:4][C:5](=[O:6])[NH2:7].[OH2:1]\", 'test_reactants')\n",
    "ReactionSmarts.draw_compounds(\"[CH3:1][CH2:2][CH2:3][CH2:4][C:5](=[O:6])[O-:7].[NH4+:1]\", 'test_products')"
   ]
  }
 ],
 "metadata": {
  "kernelspec": {
   "display_name": "Python 3 (ipykernel)",
   "language": "python",
   "name": "python3"
  },
  "language_info": {
   "codemirror_mode": {
    "name": "ipython",
    "version": 3
   },
   "file_extension": ".py",
   "mimetype": "text/x-python",
   "name": "python",
   "nbconvert_exporter": "python",
   "pygments_lexer": "ipython3",
   "version": "3.9.13"
  }
 },
 "nbformat": 4,
 "nbformat_minor": 5
}
