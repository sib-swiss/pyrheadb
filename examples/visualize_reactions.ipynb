{
 "cells": [
  {
   "cell_type": "code",
   "execution_count": null,
   "id": "55b1f5c4-96af-4ae3-9be6-8faf1472c2c7",
   "metadata": {},
   "outputs": [],
   "source": [
    "from IPython.display import Image\n",
    "import os"
   ]
  },
  {
   "cell_type": "code",
   "execution_count": null,
   "id": "731e3cd1",
   "metadata": {},
   "outputs": [],
   "source": [
    "from pyrheadb.Visualization import Visualization"
   ]
  },
  {
   "cell_type": "code",
   "execution_count": null,
   "id": "f0a5cb43",
   "metadata": {},
   "outputs": [],
   "source": [
    "# initializing without image folder defined -> default_image_folder accumulates images\n",
    "vis = Visualization()"
   ]
  },
  {
   "cell_type": "code",
   "execution_count": null,
   "id": "7f5920c9",
   "metadata": {},
   "outputs": [],
   "source": [
    "# changing the image output folder\n",
    "vis.set_image_output_folder('new_folder')"
   ]
  },
  {
   "cell_type": "markdown",
   "id": "34a4d5f2-d540-4727-bd87-0e50dbf836e5",
   "metadata": {},
   "source": [
    "From now on, all the generated images are stored in 'my_images' folder"
   ]
  },
  {
   "cell_type": "code",
   "execution_count": null,
   "id": "eaa37d8b-962d-4437-ab3b-d20614168062",
   "metadata": {},
   "outputs": [],
   "source": [
    "vis_folder = 'my_images'"
   ]
  },
  {
   "cell_type": "code",
   "execution_count": null,
   "id": "50f09135",
   "metadata": {},
   "outputs": [],
   "source": [
    "# intializing with image folder defined\n",
    "vis = Visualization(vis_folder)"
   ]
  },
  {
   "cell_type": "markdown",
   "id": "178443b3",
   "metadata": {},
   "source": [
    "# Example 1: draw reaction that was previously atom mapped\n",
    "1. Draw reaction"
   ]
  },
  {
   "cell_type": "code",
   "execution_count": null,
   "id": "94b3488c",
   "metadata": {},
   "outputs": [],
   "source": [
    "image_name = 'test_rxn'\n",
    "rxn_smarts = \"[CH3:1][CH2:2][CH2:3][CH2:4][C:5](=[O:6])[NH2:8].[OH2:7]\\\n",
    ">>[CH3:1][CH2:2][CH2:3][CH2:4][C:5](=[O:6])[O-:7].[NH4+:8]\"\n",
    "vis.draw_reaction_smarts(rxn_smarts, image_name, bw = True)"
   ]
  },
  {
   "cell_type": "code",
   "execution_count": null,
   "id": "d91b7157-4d00-4d2e-89f0-2ded82741a34",
   "metadata": {},
   "outputs": [],
   "source": [
    "Image(filename=os.path.join(vis_folder, 'rxn_smarts_'+image_name+'.png'))"
   ]
  },
  {
   "cell_type": "markdown",
   "id": "12751324",
   "metadata": {},
   "source": [
    "2. Draw compounds : reactants and products separately"
   ]
  },
  {
   "cell_type": "code",
   "execution_count": null,
   "id": "b3845991",
   "metadata": {},
   "outputs": [],
   "source": [
    "image_name_reactants = 'test_reactants'\n",
    "vis.draw_compound_smarts(\"[CH3:1][CH2:2][CH2:3][CH2:4][C:5](=[O:6])[NH2:7].[OH2:1]\", image_name_reactants)\n",
    "image_name_products = 'test_products'\n",
    "vis.draw_compound_smarts(\"[CH3:1][CH2:2][CH2:3][CH2:4][C:5](=[O:6])[O-:7].[NH4+:1]\", image_name_products)"
   ]
  },
  {
   "cell_type": "code",
   "execution_count": null,
   "id": "86be368f-e0f6-4d4b-8ca3-6bb3c793a894",
   "metadata": {},
   "outputs": [],
   "source": [
    "Image(filename=os.path.join(vis_folder, 'cmps_smarts_'+image_name_reactants+'.png'))"
   ]
  },
  {
   "cell_type": "code",
   "execution_count": null,
   "id": "3b99f6be-ba1b-47e8-9d83-272bdd27dbc3",
   "metadata": {},
   "outputs": [],
   "source": [
    "Image(filename=os.path.join(vis_folder, 'cmps_smarts_'+image_name_products+'.png'))"
   ]
  },
  {
   "cell_type": "code",
   "execution_count": null,
   "id": "6a9c427a-5eef-4efe-95a2-fa2ff83dd699",
   "metadata": {},
   "outputs": [],
   "source": []
  }
 ],
 "metadata": {
  "kernelspec": {
   "display_name": "Python 3 (ipykernel)",
   "language": "python",
   "name": "python3"
  },
  "language_info": {
   "codemirror_mode": {
    "name": "ipython",
    "version": 3
   },
   "file_extension": ".py",
   "mimetype": "text/x-python",
   "name": "python",
   "nbconvert_exporter": "python",
   "pygments_lexer": "ipython3",
   "version": "3.9.13"
  }
 },
 "nbformat": 4,
 "nbformat_minor": 5
}
