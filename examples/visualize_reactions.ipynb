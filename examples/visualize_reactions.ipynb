{
 "cells": [
  {
   "cell_type": "code",
   "execution_count": 1,
   "id": "731e3cd1",
   "metadata": {},
   "outputs": [],
   "source": [
    "from pyrheadb.Visualization import Visualization"
   ]
  },
  {
   "cell_type": "code",
   "execution_count": 2,
   "id": "f0a5cb43",
   "metadata": {},
   "outputs": [],
   "source": [
    "# initializing without image folder defined -> default_image_folder accumulates images\n",
    "vis = Visualization()"
   ]
  },
  {
   "cell_type": "code",
   "execution_count": null,
   "id": "7f5920c9",
   "metadata": {},
   "outputs": [],
   "source": [
    "# changing the image output folder\n",
    "vis.set_image_output_folder('../new_folder')"
   ]
  },
  {
   "cell_type": "code",
   "execution_count": null,
   "id": "50f09135",
   "metadata": {},
   "outputs": [],
   "source": [
    "# intializing with image folder defined\n",
    "vis = Visualization('../my_images')"
   ]
  },
  {
   "cell_type": "markdown",
   "id": "178443b3",
   "metadata": {},
   "source": [
    "# Example 1: draw reaction that was previously atom mapped\n",
    "1. Draw reaction"
   ]
  },
  {
   "cell_type": "code",
   "execution_count": 4,
   "id": "94b3488c",
   "metadata": {},
   "outputs": [],
   "source": [
    "rxn_smarts = \"[CH3:1][CH2:2][CH2:3][CH2:4][C:5](=[O:6])[NH2:8].[OH2:7]\\\n",
    ">>[CH3:1][CH2:2][CH2:3][CH2:4][C:5](=[O:6])[O-:7].[NH4+:8]\"\n",
    "vis.draw_reaction_smarts(rxn_smarts, 'test_rxn', bw = True)"
   ]
  },
  {
   "cell_type": "markdown",
   "id": "12751324",
   "metadata": {},
   "source": [
    "2. Draw compounds : reactants and products separately"
   ]
  },
  {
   "cell_type": "code",
   "execution_count": 5,
   "id": "b3845991",
   "metadata": {},
   "outputs": [],
   "source": [
    "vis.draw_compound_smarts(\"[CH3:1][CH2:2][CH2:3][CH2:4][C:5](=[O:6])[NH2:7].[OH2:1]\", 'test_reactants')\n",
    "vis.draw_compound_smarts(\"[CH3:1][CH2:2][CH2:3][CH2:4][C:5](=[O:6])[O-:7].[NH4+:1]\", 'test_products')"
   ]
  }
 ],
 "metadata": {
  "kernelspec": {
   "display_name": "Python 3 (ipykernel)",
   "language": "python",
   "name": "python3"
  },
  "language_info": {
   "codemirror_mode": {
    "name": "ipython",
    "version": 3
   },
   "file_extension": ".py",
   "mimetype": "text/x-python",
   "name": "python",
   "nbconvert_exporter": "python",
   "pygments_lexer": "ipython3",
   "version": "3.9.13"
  }
 },
 "nbformat": 4,
 "nbformat_minor": 5
}
