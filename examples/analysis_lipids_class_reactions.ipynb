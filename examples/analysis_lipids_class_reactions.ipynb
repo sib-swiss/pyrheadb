{
 "cells": [
  {
   "cell_type": "markdown",
   "id": "c7e3840f-09f1-4734-89bf-078d205176eb",
   "metadata": {},
   "source": [
    "1. pyRhea\n",
    "* who is it for\n",
    "* what is it for\n",
    "* how we used it here\n",
    " \n",
    "  \n",
    "2. Plugging gaps in this set through manual curation (e.g. curation of Rhea class reactions)\n",
    "* How we identify them\n",
    "* How many gaps we filled\n",
    "\n",
    "3. BioREx – analysis and possibility to plug gaps\n"
   ]
  },
  {
   "cell_type": "markdown",
   "id": "13bca056-1bea-4c97-9762-02d207416423",
   "metadata": {},
   "source": [
    "## Answers:"
   ]
  },
  {
   "cell_type": "markdown",
   "id": "ce4392f3-3d39-4015-825e-816f1dba7943",
   "metadata": {},
   "source": [
    "**pyRheaDB** is useful to anyone who wants to combine cheminformatics and network-level analysis to gain insight into metabolic network underlying Rhea database.\n",
    "\n",
    "Example: analysis of lipids in Rhea + analysis of potential integration with BioREx"
   ]
  },
  {
   "cell_type": "markdown",
   "id": "86366c9c-14f5-4325-9c9c-cc9e4fa1bd19",
   "metadata": {},
   "source": [
    "* Easy export of RheaDB to python objects. In this notebook: dataframes (pandas), graphs (networkx)."
   ]
  },
  {
   "cell_type": "code",
   "execution_count": null,
   "id": "7f42f9e0-90db-475c-bce2-fd46b6d86a51",
   "metadata": {},
   "outputs": [],
   "source": [
    "from pyrheadb.RheaDB import RheaDB\n",
    "from pyrheadb.ReactionNetwork import ReactionNetwork"
   ]
  },
  {
   "cell_type": "code",
   "execution_count": null,
   "id": "ae888038-bbae-41c9-aaa3-bc14ecd10467",
   "metadata": {},
   "outputs": [],
   "source": [
    "rdb = RheaDB()"
   ]
  },
  {
   "cell_type": "code",
   "execution_count": null,
   "id": "919e430e-3a02-4c1b-b8f5-b6538ee960de",
   "metadata": {},
   "outputs": [],
   "source": [
    "rxnnet = ReactionNetwork()\n",
    "rxnnet.build_network_from_long_format_table(rdb.rhea_reaction_long_format_smiles_chebi)"
   ]
  },
  {
   "cell_type": "code",
   "execution_count": null,
   "id": "3b971cf4-a9ef-428b-8971-b5b35c61f8cb",
   "metadata": {},
   "outputs": [],
   "source": [
    "print('nodes:', len(rxnnet.participants_graph.nodes()))\n",
    "print('edges:', len(rxnnet.participants_graph.edges()))\n",
    "# Example nodes of the graph\n",
    "list(rxnnet.participants_graph.nodes())[:5]"
   ]
  },
  {
   "cell_type": "markdown",
   "id": "14a22bf9-8d80-4b60-afb3-a3d4e8ae7453",
   "metadata": {},
   "source": [
    "## One of the advantages for Recon4IMD: transforming RheaDB to format that is easy to merge with SwissLipids"
   ]
  },
  {
   "cell_type": "code",
   "execution_count": null,
   "id": "85f7ffed-064b-4108-943b-805ed79bd6aa",
   "metadata": {},
   "outputs": [],
   "source": [
    "import pandas as pd\n",
    "df_swisslipids = pd.read_csv('../../swisslipids.tsv', sep='\\t', encoding='latin-1',\n",
    "                usecols=['Lipid ID', 'CHEBI', 'Level', 'Lipid class*', 'Components*', 'SMILES (pH7.3)'],\n",
    "                dtype={'Lipid ID': str, 'CHEBI':str, 'Level': str, 'Lipid class*': str, 'Components*': str,\n",
    "                       'SMILES (pH7.3)': str})"
   ]
  },
  {
   "cell_type": "code",
   "execution_count": null,
   "id": "5448087b-b7f0-4009-a622-2977dc4ec084",
   "metadata": {},
   "outputs": [],
   "source": [
    "rdb.rhea_reaction_long_format_smiles_chebi['chebinum']=rdb.rhea_reaction_long_format_smiles_chebi['chebiid'].apply(\n",
    "    lambda x: x.split(':')[1]\n",
    ")\n",
    "df_common_compounds = rdb.rhea_reaction_long_format_smiles_chebi.merge(df_swisslipids, \n",
    "                                                                       left_on='chebinum',\n",
    "                                                                      right_on='CHEBI',\n",
    "                                                                      how='inner')"
   ]
  },
  {
   "cell_type": "code",
   "execution_count": null,
   "id": "e594fb2e-0bf6-4c59-9933-938507bc651f",
   "metadata": {
    "scrolled": true
   },
   "outputs": [],
   "source": [
    "df_swisslipids"
   ]
  },
  {
   "cell_type": "markdown",
   "id": "07f75151-ff3f-4cc6-956f-0c74e58c7185",
   "metadata": {},
   "source": [
    "## Lipid enumeration"
   ]
  },
  {
   "cell_type": "markdown",
   "id": "2fa3093c-3b00-4b0d-b614-cdad05bfaa32",
   "metadata": {},
   "source": [
    "1. The number of lipid class reactions from Rhea as templates"
   ]
  },
  {
   "cell_type": "markdown",
   "id": "fde67e45-bae2-49e9-9462-f5374d52b4b2",
   "metadata": {},
   "source": [
    "# Rhea reactions with at least one compound from SwissLipids"
   ]
  },
  {
   "cell_type": "code",
   "execution_count": null,
   "id": "61c32a53-9446-4da2-aa67-9406bce252aa",
   "metadata": {
    "scrolled": true
   },
   "outputs": [],
   "source": [
    "df_common_compounds.head()"
   ]
  },
  {
   "cell_type": "markdown",
   "id": "246b9fe9-1baf-4d21-9d26-4eac98fab329",
   "metadata": {},
   "source": [
    "## Number of unique lipid ChEBI IDs (defined + class compounds)"
   ]
  },
  {
   "cell_type": "code",
   "execution_count": null,
   "id": "78bcf3d5-ebfd-448a-aeb5-5543a0232985",
   "metadata": {},
   "outputs": [],
   "source": [
    "len(df_common_compounds['CHEBI'].unique())"
   ]
  },
  {
   "cell_type": "markdown",
   "id": "2bfac4e5-677a-4a1c-a048-911c59704eda",
   "metadata": {},
   "source": [
    "## Number of unique Rhea MASTER IDs (defined + class reactions)"
   ]
  },
  {
   "cell_type": "code",
   "execution_count": null,
   "id": "11a537ca-0987-4896-90a2-ed796aca5793",
   "metadata": {},
   "outputs": [],
   "source": [
    "len(df_common_compounds['MASTER_ID'].unique())"
   ]
  },
  {
   "cell_type": "markdown",
   "id": "e44abf5c-9942-44a3-923a-e86510cde41d",
   "metadata": {
    "jp-MarkdownHeadingCollapsed": true
   },
   "source": [
    "Filtering out the reactions with defined lipid structures"
   ]
  },
  {
   "cell_type": "code",
   "execution_count": null,
   "id": "e9931575-c637-436f-9803-313450fc85c2",
   "metadata": {},
   "outputs": [],
   "source": [
    "df_common_compounds['star'] = df_common_compounds['smiles'].apply(lambda x: '*' in x)\n",
    "df_common_compounds_template = df_common_compounds[df_common_compounds['star']==True]"
   ]
  },
  {
   "cell_type": "markdown",
   "id": "0532f215-fa73-4cec-9c87-4664608ac4f5",
   "metadata": {},
   "source": [
    "## Total number of lipid class ids in Rhea (as uniquie ChEBI IDs)"
   ]
  },
  {
   "cell_type": "code",
   "execution_count": null,
   "id": "d303d591-921e-468a-9290-676e48e78a80",
   "metadata": {},
   "outputs": [],
   "source": [
    "len(df_common_compounds_template['CHEBI'].unique())"
   ]
  },
  {
   "cell_type": "markdown",
   "id": "751b01a5-dcd9-49d0-bab7-ee95f6a902ab",
   "metadata": {},
   "source": [
    "## Total number of lipid class reactions:"
   ]
  },
  {
   "cell_type": "code",
   "execution_count": null,
   "id": "9008ae95-972b-4758-91a4-6011d22eff4d",
   "metadata": {},
   "outputs": [],
   "source": [
    "len(df_common_compounds_template['MASTER_ID'].unique())"
   ]
  },
  {
   "cell_type": "markdown",
   "id": "dc94786f-b9fc-4363-8066-6216cc234b98",
   "metadata": {},
   "source": [
    "2. How connected are they (the lipid class reactions)? Gaps in this network will propagate down to all reactions that are enumerated from this set; any template reactions in Rhea that are NOT connected to other Rhea will give rise to child reactions that are not connected too. So, the message would be – we can identify those unconnected class reactions and target them for curation. But do we know which of the lipid classes to focus on?\n",
    "To connect lipids we only need to curate their classes. So from the perspective of connecting lipids up, it’s interesting to know how the classes are connected, as this gives a more accurate estimate of the scope of the manual work needed."
   ]
  },
  {
   "cell_type": "code",
   "execution_count": null,
   "id": "e64ac551-caac-4e0b-8cf9-52f9cc4ea780",
   "metadata": {},
   "outputs": [],
   "source": []
  },
  {
   "cell_type": "markdown",
   "id": "4d11e383-f0dc-4b51-a888-b3ecd347d341",
   "metadata": {},
   "source": [
    "## Connectivity"
   ]
  },
  {
   "cell_type": "code",
   "execution_count": null,
   "id": "45e44fba-67d1-462a-aa67-560c66d4e401",
   "metadata": {},
   "outputs": [],
   "source": [
    "lipid_class_subgraph = rxnnet.participants_graph.subgraph(set(df_common_compounds_template['chebiid'].to_list())).copy()"
   ]
  },
  {
   "cell_type": "code",
   "execution_count": null,
   "id": "705cd922-83d4-40e0-9770-bc181957a7d2",
   "metadata": {},
   "outputs": [],
   "source": [
    "import networkx as nx"
   ]
  },
  {
   "cell_type": "code",
   "execution_count": null,
   "id": "b32bf893-6034-464c-b334-5e25d9d6fe1f",
   "metadata": {},
   "outputs": [],
   "source": [
    "nx.draw_spring(lipid_class_subgraph)"
   ]
  },
  {
   "cell_type": "code",
   "execution_count": null,
   "id": "5d3756a6-ef31-41b9-adf3-4477590fc9fc",
   "metadata": {},
   "outputs": [],
   "source": [
    "print('nodes:', len(lipid_class_subgraph.nodes()))\n",
    "print('edges:', len(lipid_class_subgraph.edges()))"
   ]
  },
  {
   "cell_type": "code",
   "execution_count": null,
   "id": "aed7d972-0ec1-4287-9c1d-c0939ef6bac9",
   "metadata": {},
   "outputs": [],
   "source": [
    "component_sizes = [len(c) for c in sorted(nx.connected_components(lipid_class_subgraph), key=len, reverse=True)]\n",
    "sizes = list(set(component_sizes))\n",
    "sizes.sort(reverse=True)"
   ]
  },
  {
   "cell_type": "code",
   "execution_count": null,
   "id": "4cfb0664-a5da-4ed2-ab0b-20811a494320",
   "metadata": {},
   "outputs": [],
   "source": [
    "print('Biggest subgraph: ', sizes[0], 'class compounds')"
   ]
  },
  {
   "cell_type": "code",
   "execution_count": null,
   "id": "4006352a-45f6-434b-92cc-6e405d79e74c",
   "metadata": {},
   "outputs": [],
   "source": [
    "import matplotlib.pyplot as plt"
   ]
  },
  {
   "cell_type": "code",
   "execution_count": null,
   "id": "7686c344-dc9f-403a-9795-8b6146432f75",
   "metadata": {},
   "outputs": [],
   "source": [
    "%matplotlib inline"
   ]
  },
  {
   "cell_type": "markdown",
   "id": "b850508c-5eb7-4b24-a93a-911c8716ea63",
   "metadata": {},
   "source": [
    "## In the bar chart of graph component sizes biggest subgraph is excluded since it is much bigger and \"dwarfs\" all the rest, making them invisible"
   ]
  },
  {
   "cell_type": "code",
   "execution_count": null,
   "id": "93eea3a3-9b57-4978-94ea-4c45c591dff0",
   "metadata": {},
   "outputs": [],
   "source": [
    "def plot_subgraphs(sizes, component_sizes):\n",
    "    count_subgraphs=[]\n",
    "    for s in sizes:\n",
    "        count_subgraphs.append(component_sizes.count(s))\n",
    "        \n",
    "    plt.bar(sizes[1:], count_subgraphs[1:])\n",
    "    plt.xlabel('Compounds per subgraph')\n",
    "    plt.ylabel('Number of subgraphs')\n",
    "    for i in range(len(count_subgraphs[1:])):\n",
    "        plt.text(sizes[1:][i]-0.5,count_subgraphs[1:][i]+0.5,sizes[1:][i])\n",
    "    plt.show()\n"
   ]
  },
  {
   "cell_type": "code",
   "execution_count": null,
   "id": "f2828fb3-7a72-4fd7-b422-cd3beae57eeb",
   "metadata": {},
   "outputs": [],
   "source": [
    "plot_subgraphs(sizes, component_sizes)"
   ]
  },
  {
   "cell_type": "code",
   "execution_count": null,
   "id": "b0213102-f603-449a-953c-47c6a8291932",
   "metadata": {},
   "outputs": [],
   "source": [
    "components = sorted(nx.connected_components(lipid_class_subgraph), key=len, reverse=True)"
   ]
  },
  {
   "cell_type": "code",
   "execution_count": null,
   "id": "ff14dc18-4eda-4423-9f22-382a273ba286",
   "metadata": {},
   "outputs": [],
   "source": [
    "# components[1] - second biggest component\n",
    "second_biggest_component = rdb.df_chebi_cmpname.merge(pd.DataFrame(components[1], columns=['chebiid']), on='chebiid')"
   ]
  },
  {
   "cell_type": "code",
   "execution_count": null,
   "id": "d76a8fa9-5576-4ead-93a6-6b0f8475791e",
   "metadata": {
    "scrolled": true
   },
   "outputs": [],
   "source": [
    "second_biggest_component"
   ]
  },
  {
   "cell_type": "markdown",
   "id": "c8a93c3c-5579-47f3-9d0b-3b65887506d2",
   "metadata": {},
   "source": [
    "## 1, 2, 3, 4, 5, 6 - compound subgraph members"
   ]
  },
  {
   "cell_type": "code",
   "execution_count": null,
   "id": "0897fa2b-36e9-4b61-bef4-e66a4b56af58",
   "metadata": {},
   "outputs": [],
   "source": [
    "flatlist = []\n",
    "for i in range(len(components[2:])):\n",
    "    flatlist.extend(components[2+i])\n",
    "all_the_rest = rdb.df_chebi_cmpname.merge(pd.DataFrame(flatlist, columns=['chebiid']), on='chebiid')"
   ]
  },
  {
   "cell_type": "code",
   "execution_count": null,
   "id": "77cb558b-bd20-484e-bcf9-99ce5abd5829",
   "metadata": {},
   "outputs": [],
   "source": [
    "print(len(list(all_the_rest['cmpname'].unique())))\n",
    "list(all_the_rest['cmpname'].unique())"
   ]
  },
  {
   "cell_type": "markdown",
   "id": "575887f4-73b0-4965-9563-174314a02cc8",
   "metadata": {},
   "source": [
    "## BioREx\n",
    "\n",
    " \n",
    "\n",
    "We have thousands of pairs from BioREx that are not in Rhea. We suggest using these for gap-filling (specifically in the lipid subnetwork). Do we know how many of these unique BioREx pairs include lipids? These would be the first to look at for curators. \n",
    "\n",
    "One could  just report the number\n",
    "or\n",
    "TODO:\n",
    "show a TMAP with lipid pairs coloured!\n"
   ]
  },
  {
   "cell_type": "code",
   "execution_count": null,
   "id": "be7694a5-a028-4747-955b-d430a55ba5c8",
   "metadata": {},
   "outputs": [],
   "source": [
    "df_biorex_pairs = pd.read_csv(\"/scratch/biorex/data/pairs_all.tsv\", sep='\\t', usecols=['chebiid1', 'chebiid2'])"
   ]
  },
  {
   "cell_type": "code",
   "execution_count": null,
   "id": "9e095e3f-ed1a-4c6c-b66a-944d9ef166ee",
   "metadata": {},
   "outputs": [],
   "source": []
  },
  {
   "cell_type": "code",
   "execution_count": null,
   "id": "c20f58d8-50a4-47a6-b454-5a5d0d023f27",
   "metadata": {},
   "outputs": [],
   "source": [
    "df_biorex_pairs['chebinum1']=df_biorex_pairs['chebiid1'].apply(\n",
    "    lambda x: x.split(':')[1]\n",
    ")\n",
    "df_biorex_pairs['chebinum2']=df_biorex_pairs['chebiid2'].apply(\n",
    "    lambda x: x.split(':')[1]\n",
    ")\n",
    "chebiids = set(df_biorex_pairs['chebinum2'].to_list()+df_biorex_pairs['chebinum1'].to_list())\n",
    "sl = df_swisslipids[['CHEBI', 'Lipid ID', 'SMILES (pH7.3)']].copy()\n",
    "sl['star_smiles'] = sl['SMILES (pH7.3)'].apply(lambda x: '*' in str(x))\n",
    "sl.drop(columns=['SMILES (pH7.3)'], inplace=True)\n",
    "df_biorex_pairs_sl = df_biorex_pairs.merge(sl,how='left', left_on='chebinum1', right_on='CHEBI').copy()\n",
    "df_biorex_pairs_sl = df_biorex_pairs_sl.merge(sl,how='left', left_on='chebinum2', right_on='CHEBI')\n",
    "df_biorex_pairs_sl.drop(columns=['chebinum1', 'chebinum2', 'CHEBI_y', 'CHEBI_x'], inplace=True)"
   ]
  },
  {
   "cell_type": "code",
   "execution_count": null,
   "id": "97860200-d13f-475e-be60-3cd792d9e6d7",
   "metadata": {},
   "outputs": [],
   "source": [
    "biorex_lipids = df_swisslipids.merge(pd.DataFrame(chebiids, columns=['CHEBI']), how='inner')\n",
    "len(biorex_lipids['CHEBI'].unique())"
   ]
  },
  {
   "cell_type": "code",
   "execution_count": null,
   "id": "42a3a31c-732e-43ab-927f-195c7b7b9b14",
   "metadata": {},
   "outputs": [],
   "source": [
    "df_biorex_pairs_sl.dropna(how='all', subset=['Lipid ID_x', 'Lipid ID_y'], inplace=True)"
   ]
  },
  {
   "cell_type": "markdown",
   "id": "82cc7f3a-e8cb-4633-bf50-fd4abf467b9b",
   "metadata": {},
   "source": [
    "## chebiid1 - chebiid2 : biorex pair"
   ]
  },
  {
   "cell_type": "code",
   "execution_count": null,
   "id": "bd6e4e15-ac9e-46a8-86ad-e56506ace41d",
   "metadata": {
    "scrolled": true
   },
   "outputs": [],
   "source": [
    "df_biorex_pairs_sl"
   ]
  },
  {
   "cell_type": "code",
   "execution_count": null,
   "id": "d614a5af-8506-436e-80ea-282696081bb3",
   "metadata": {},
   "outputs": [],
   "source": []
  },
  {
   "cell_type": "markdown",
   "id": "c16686e1-3d3a-4c76-a3c0-f65a823dc8e2",
   "metadata": {},
   "source": [
    "## If both compounds in pair should be a lipid"
   ]
  },
  {
   "cell_type": "code",
   "execution_count": null,
   "id": "41e71429-fd35-426d-a63f-2acd318672e5",
   "metadata": {},
   "outputs": [],
   "source": [
    "df_biorex_pairs_sl.dropna(how='any', subset=['Lipid ID_x', 'Lipid ID_y'])"
   ]
  },
  {
   "cell_type": "markdown",
   "id": "27260396-570b-40fb-93a5-77953f5342c9",
   "metadata": {},
   "source": [
    "## If both compounds in pair should be a class lipid"
   ]
  },
  {
   "cell_type": "code",
   "execution_count": null,
   "id": "0c9aa4f8-a67c-4ade-9305-cb5010e95c3b",
   "metadata": {
    "scrolled": true
   },
   "outputs": [],
   "source": [
    "lipid_class_reactions_biorex=df_biorex_pairs_sl.query('star_smiles_x==True&star_smiles_y==True')\n",
    "lipid_class_reactions_biorex"
   ]
  },
  {
   "cell_type": "markdown",
   "id": "465af02a-421d-464b-8c3a-d35b7e5a28a3",
   "metadata": {},
   "source": [
    "## Inject pair into lipid class subgraph"
   ]
  },
  {
   "cell_type": "code",
   "execution_count": null,
   "id": "f23c37cf-1470-49b8-91cd-d1c8aafbd83f",
   "metadata": {},
   "outputs": [],
   "source": [
    "new_edges_class = list(zip(lipid_class_reactions_biorex['chebiid1'], lipid_class_reactions_biorex['chebiid2']))\n",
    "edges_old = [list(i) for i in lipid_class_subgraph.edges()]\n",
    "for edge in edges_old:\n",
    "    edge.sort()\n",
    "edges_old_pair=[';'.join(i) for i in edges_old]\n",
    "new_edges_class = [list(i) for i in new_edges_class]\n",
    "for edge in new_edges_class:\n",
    "    edge.sort()\n",
    "new_edges_class_pair = [';'.join(i) for i in new_edges_class]\n",
    "print(len(set(edges_old_pair)))\n",
    "#print(set(edges_old_pair))\n",
    "print(len(set(new_edges_class_pair)))\n",
    "#print(set(new_edges_class_pair))\n",
    "print(len(set(new_edges_class_pair).intersection(set(edges_old_pair))))\n",
    "new_edges_class = set(new_edges_class_pair)-set(edges_old_pair)\n",
    "new_edges_class = [set(i.split(';')) for i in new_edges_class]"
   ]
  },
  {
   "cell_type": "code",
   "execution_count": null,
   "id": "adddd647-e9b0-4f86-8fb2-6d411b9bd43c",
   "metadata": {},
   "outputs": [],
   "source": []
  },
  {
   "cell_type": "code",
   "execution_count": null,
   "id": "31e89ff3-231a-4bf9-a321-a6062446e224",
   "metadata": {},
   "outputs": [],
   "source": [
    "len(new_edges_class)"
   ]
  },
  {
   "cell_type": "code",
   "execution_count": null,
   "id": "de7d7742-e0a5-4b25-a2ed-48b0eb716044",
   "metadata": {},
   "outputs": [],
   "source": [
    "df_edges = pd.DataFrame(new_edges_class, columns=['chebi1', 'chebi2'])\n",
    "df_edges_m = df_edges.merge(rdb.df_chebi_cmpname, left_on='chebi1', right_on='chebiid')\n",
    "df_edges_m = df_edges_m.merge(rdb.df_chebi_cmpname, left_on='chebi2', right_on='chebiid')\n",
    "df_edges_m = df_edges_m.query('chebi1!=chebi2')\n",
    "df_edges_m.drop(columns=['chebiid_x', 'chebiid_y'], inplace=True)\n",
    "df_edges_m.to_csv('edges_new.tsv', sep='\\t', index=False)"
   ]
  },
  {
   "cell_type": "code",
   "execution_count": null,
   "id": "c8bdea46-0a2a-4d99-86f6-e1cbdf17dbf2",
   "metadata": {},
   "outputs": [],
   "source": [
    "lipid_class_subgraph.add_edges_from(new_edges_class)"
   ]
  },
  {
   "cell_type": "code",
   "execution_count": null,
   "id": "28d0e71c-52f9-47ee-ba19-9f4783305c3c",
   "metadata": {},
   "outputs": [],
   "source": [
    "nx.draw_spring(lipid_class_subgraph)"
   ]
  },
  {
   "cell_type": "code",
   "execution_count": null,
   "id": "484b5253-68ff-4917-80d4-d79e9da661bc",
   "metadata": {},
   "outputs": [],
   "source": [
    "print('nodes:', len(lipid_class_subgraph.nodes()))\n",
    "print('edges:', len(lipid_class_subgraph.edges()))"
   ]
  },
  {
   "cell_type": "code",
   "execution_count": null,
   "id": "78e821d8-88d8-4a32-b1a4-4d834d9a3a5e",
   "metadata": {},
   "outputs": [],
   "source": [
    "component_sizes = [len(c) for c in sorted(nx.connected_components(lipid_class_subgraph), key=len, reverse=True)]\n",
    "sizes = list(set(component_sizes))\n",
    "sizes.sort(reverse=True)"
   ]
  },
  {
   "cell_type": "code",
   "execution_count": null,
   "id": "0da2bd67-807b-4f70-9fc7-6b5a49b5998e",
   "metadata": {},
   "outputs": [],
   "source": [
    "print('Biggest subgraph: ', sizes[0], 'class compounds')"
   ]
  },
  {
   "cell_type": "code",
   "execution_count": null,
   "id": "5938b20f-00dc-4e57-8eeb-13b1f83740a8",
   "metadata": {
    "scrolled": true
   },
   "outputs": [],
   "source": [
    "plot_subgraphs(sizes, component_sizes)"
   ]
  },
  {
   "cell_type": "markdown",
   "id": "d7dc694a-f8df-472e-b987-18f624f4d07a",
   "metadata": {},
   "source": [
    "## Lipid defined reactions biorex"
   ]
  },
  {
   "cell_type": "code",
   "execution_count": null,
   "id": "535d9115-e5db-427b-8f40-41758a6ebf50",
   "metadata": {},
   "outputs": [],
   "source": [
    "lipid_defined_reactions_biorex=df_biorex_pairs_sl.query('star_smiles_x==False&star_smiles_y==False')\n",
    "lipid_defined_reactions_biorex"
   ]
  },
  {
   "cell_type": "markdown",
   "id": "1bc179d3-51b8-4f55-b3dc-0318fc6fc1c5",
   "metadata": {},
   "source": [
    "## Analyse the defined lipid structures subgraph\n",
    "df_common_compounds_defined\n",
    "lipid_class_subgraph = rxnnet.participants_graph.subgraph(set(df_common_compounds_defined['chebiid'].to_list())).copy()"
   ]
  },
  {
   "cell_type": "code",
   "execution_count": null,
   "id": "2b75774d-82a9-435e-b425-a64916c460ed",
   "metadata": {},
   "outputs": [],
   "source": [
    "df_common_compounds_defined = df_common_compounds[df_common_compounds['star']==False]\n",
    "lipid_class_subgraph = rxnnet.participants_graph.subgraph(set(df_common_compounds_defined['chebiid'].to_list())).copy()\n",
    "print(len(df_common_compounds_defined['CHEBI'].unique()))\n",
    "print(len(df_common_compounds_defined['MASTER_ID'].unique()))"
   ]
  },
  {
   "cell_type": "code",
   "execution_count": null,
   "id": "384578d1-8deb-4217-bdb1-b81f911e10f5",
   "metadata": {},
   "outputs": [],
   "source": [
    "lipid_defined_subgraph = rxnnet.participants_graph.subgraph(set(df_common_compounds_defined['chebiid'].to_list())).copy()"
   ]
  },
  {
   "cell_type": "code",
   "execution_count": null,
   "id": "391d3b90-0e42-438d-8382-cbfc788339da",
   "metadata": {},
   "outputs": [],
   "source": [
    "nx.draw_spring(lipid_defined_subgraph)"
   ]
  },
  {
   "cell_type": "code",
   "execution_count": null,
   "id": "b1a26982-a3f5-42f8-a0e4-0d8839a36e39",
   "metadata": {},
   "outputs": [],
   "source": [
    "print('nodes:', len(lipid_defined_subgraph.nodes()))\n",
    "print('edges:', len(lipid_defined_subgraph.edges()))\n",
    "component_sizes = [len(c) for c in sorted(nx.connected_components(lipid_defined_subgraph), key=len, reverse=True)]\n",
    "sizes = list(set(component_sizes))\n",
    "sizes.sort(reverse=True)\n",
    "print('Biggest subgraph: ', sizes[0], 'defined compounds')"
   ]
  },
  {
   "cell_type": "code",
   "execution_count": null,
   "id": "f9aa4805-3c63-459d-941b-d3d07363b11c",
   "metadata": {},
   "outputs": [],
   "source": [
    "plot_subgraphs(sizes, component_sizes)"
   ]
  },
  {
   "cell_type": "markdown",
   "id": "842317d3-fdb6-415e-ad00-b616c464a0d4",
   "metadata": {},
   "source": [
    "## Inject biorex defined reactions"
   ]
  },
  {
   "cell_type": "code",
   "execution_count": null,
   "id": "9881c4f1-f74d-4f3f-b423-fa54806ebdac",
   "metadata": {},
   "outputs": [],
   "source": [
    "new_edges = list(zip(lipid_defined_reactions_biorex['chebiid1'], lipid_defined_reactions_biorex['chebiid1']))\n",
    "lipid_defined_subgraph.add_edges_from(new_edges)"
   ]
  },
  {
   "cell_type": "code",
   "execution_count": null,
   "id": "98c2edf7-ec34-40c2-9154-ee22918beb47",
   "metadata": {},
   "outputs": [],
   "source": [
    "nx.draw_spring(lipid_defined_subgraph)"
   ]
  },
  {
   "cell_type": "code",
   "execution_count": null,
   "id": "235713b3-71fd-46fe-9b36-da21ea276c08",
   "metadata": {},
   "outputs": [],
   "source": [
    "print('nodes:', len(lipid_defined_subgraph.nodes()))\n",
    "print('edges:', len(lipid_defined_subgraph.edges()))\n",
    "component_sizes = [len(c) for c in sorted(nx.connected_components(lipid_defined_subgraph), key=len, reverse=True)]\n",
    "sizes = list(set(component_sizes))\n",
    "sizes.sort(reverse=True)\n",
    "print('Biggest subgraph: ', sizes[0], 'defined compounds')"
   ]
  },
  {
   "cell_type": "code",
   "execution_count": null,
   "id": "3b8d273c-691b-43e2-adc5-b58b958fbdff",
   "metadata": {},
   "outputs": [],
   "source": [
    "plot_subgraphs(sizes, component_sizes)"
   ]
  }
 ],
 "metadata": {
  "kernelspec": {
   "display_name": "pyrheadbenv",
   "language": "python",
   "name": "pyrheadbenv"
  },
  "language_info": {
   "codemirror_mode": {
    "name": "ipython",
    "version": 3
   },
   "file_extension": ".py",
   "mimetype": "text/x-python",
   "name": "python",
   "nbconvert_exporter": "python",
   "pygments_lexer": "ipython3",
   "version": "3.9.13"
  }
 },
 "nbformat": 4,
 "nbformat_minor": 5
}
