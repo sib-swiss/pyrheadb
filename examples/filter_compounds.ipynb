{
 "cells": [
  {
   "cell_type": "code",
   "execution_count": 21,
   "id": "ec841951",
   "metadata": {},
   "outputs": [],
   "source": [
    "from pyrheadb.RheaDB import RheaDB"
   ]
  },
  {
   "cell_type": "code",
   "execution_count": 24,
   "id": "de941fa8",
   "metadata": {},
   "outputs": [
    {
     "name": "stdout",
     "output_type": "stream",
     "text": [
      "Your Rhea DB version is 132\n",
      "Using previously downloaded Rhea version\n"
     ]
    }
   ],
   "source": [
    "rdb = RheaDB('/scratch/')"
   ]
  },
  {
   "cell_type": "code",
   "execution_count": 25,
   "id": "cbf6f1eb",
   "metadata": {},
   "outputs": [
    {
     "name": "stdout",
     "output_type": "stream",
     "text": [
      "1.\n",
      "self.df_smiles_chebi_equation\n",
      "Index(['rheaid', 'rxnsmiles', 'chebi_equation'], dtype='object')\n",
      "\n",
      "2.\n",
      "self.df_hierarchy\n",
      "Index(['FROM_REACTION_ID', 'TYPE', 'TO_REACTION_ID'], dtype='object')\n",
      "\n",
      "3.\n",
      "self.df_directions\n",
      "Index(['RHEA_ID_MASTER', 'RHEA_ID_LR', 'RHEA_ID_RL', 'RHEA_ID_BI'], dtype='object')\n",
      "\n",
      "4.\n",
      "self.df_smiles\n",
      "Index(['rheaid', 'rxnsmiles'], dtype='object')\n",
      "\n",
      "5.\n",
      "self.df_chebi_smiles\n",
      "Index(['chebiid', 'smiles'], dtype='object')\n",
      "\n",
      "6.\n",
      "self.df_chebi_cmpname\n",
      "Index(['chebiid', 'cmpname'], dtype='object')\n",
      "\n",
      "7.\n",
      "self.df_hierarchy_master_id\n",
      "Index(['FROM_REACTION_ID', 'TYPE', 'TO_REACTION_ID',\n",
      "       'FROM_REACTION_ID_MASTER_ID', 'DIR_FROM', 'TO_REACTION_ID_MASTER_ID',\n",
      "       'DIR_TO'],\n",
      "      dtype='object')\n",
      "\n",
      "8.\n",
      "self.df_smiles_master_id\n",
      "Index(['rheaid', 'rxnsmiles', 'chebi_equation', 'MASTER_ID', 'DIR', 'star'], dtype='object')\n",
      "\n",
      "9.\n",
      "self.df_reaction_participants_names\n",
      "Index(['rheaid', 'MASTER_ID', 'reaction_participant_names'], dtype='object')\n",
      "\n",
      "10.\n",
      "self.rhea_reaction_long_format_smiles_chebi\n",
      "Index(['MASTER_ID', 'reaction_side', 'chebiid', 'smiles'], dtype='object')\n"
     ]
    }
   ],
   "source": [
    "rdb.print_all_dataframe_columns()"
   ]
  },
  {
   "cell_type": "code",
   "execution_count": 26,
   "id": "2695cd1d",
   "metadata": {},
   "outputs": [],
   "source": [
    "df_m = rdb.df_chebi_smiles.merge(rdb.df_chebi_cmpname, on='chebiid')"
   ]
  },
  {
   "cell_type": "markdown",
   "id": "7adb23e2",
   "metadata": {},
   "source": [
    "# Get all compound with 1-2 carbon atoms and fully defined structure"
   ]
  },
  {
   "cell_type": "code",
   "execution_count": 28,
   "id": "f31bf46a",
   "metadata": {},
   "outputs": [
    {
     "name": "stdout",
     "output_type": "stream",
     "text": [
      "193\n"
     ]
    }
   ],
   "source": [
    "df_m['star']=df_m['smiles'].apply(lambda x: '*' in x)\n",
    "df_m['count_carbons']=df_m['smiles'].apply(lambda x: x.count('C')+x.count('c'))\n",
    "df_m=df_m[df_m['count_carbons']<=2]\n",
    "df_m=df_m[df_m['star']==False]\n",
    "print(len(df_m))\n",
    "df_m.drop(columns=['count_carbons','star'], inplace=True)\n",
    "df_m.to_csv('../src/pyrheadb/biochemical_assumptions/default_metabolic_precursor_molecules.tsv', sep='\\t', index=False)"
   ]
  },
  {
   "cell_type": "code",
   "execution_count": null,
   "id": "78532fb4",
   "metadata": {},
   "outputs": [],
   "source": []
  }
 ],
 "metadata": {
  "kernelspec": {
   "display_name": "Python [conda env:root] *",
   "language": "python",
   "name": "conda-root-py"
  },
  "language_info": {
   "codemirror_mode": {
    "name": "ipython",
    "version": 3
   },
   "file_extension": ".py",
   "mimetype": "text/x-python",
   "name": "python",
   "nbconvert_exporter": "python",
   "pygments_lexer": "ipython3",
   "version": "3.9.13"
  }
 },
 "nbformat": 4,
 "nbformat_minor": 5
}
