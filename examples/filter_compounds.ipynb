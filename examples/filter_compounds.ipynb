{
 "cells": [
  {
   "cell_type": "code",
   "execution_count": null,
   "id": "ec841951",
   "metadata": {},
   "outputs": [],
   "source": [
    "from pyrheadb.RheaDB import RheaDB"
   ]
  },
  {
   "cell_type": "code",
   "execution_count": null,
   "id": "de941fa8",
   "metadata": {},
   "outputs": [],
   "source": [
    "rdb = RheaDB()"
   ]
  },
  {
   "cell_type": "code",
   "execution_count": null,
   "id": "cbf6f1eb",
   "metadata": {},
   "outputs": [],
   "source": [
    "rdb.print_all_dataframe_columns()"
   ]
  },
  {
   "cell_type": "code",
   "execution_count": null,
   "id": "2695cd1d",
   "metadata": {},
   "outputs": [],
   "source": [
    "df_m = rdb.df_chebi_smiles.merge(rdb.df_chebi_cmpname, on='chebiid')"
   ]
  },
  {
   "cell_type": "markdown",
   "id": "7adb23e2",
   "metadata": {},
   "source": [
    "# Get all compound with 1-2 carbon atoms and fully defined structure"
   ]
  },
  {
   "cell_type": "code",
   "execution_count": null,
   "id": "f31bf46a",
   "metadata": {},
   "outputs": [],
   "source": [
    "df_m['star']=df_m['smiles'].apply(lambda x: '*' in x)\n",
    "df_m['count_carbons']=df_m['smiles'].apply(lambda x: x.count('C')+x.count('c'))\n",
    "df_m=df_m[df_m['count_carbons']<=2]\n",
    "df_m=df_m[df_m['star']==False]\n",
    "print('Supposed basic metabolic precursors identified:', len(df_m))\n",
    "df_m.drop(columns=['count_carbons','star'], inplace=True)\n",
    "df_m.to_csv('../src/pyrheadb/biochemical_assumptions/default_metabolic_precursor_molecules.tsv', sep='\\t', index=False)"
   ]
  },
  {
   "cell_type": "code",
   "execution_count": null,
   "id": "78532fb4",
   "metadata": {},
   "outputs": [],
   "source": []
  }
 ],
 "metadata": {
  "kernelspec": {
   "display_name": "pyrheadbenv",
   "language": "python",
   "name": "pyrheadbenv"
  },
  "language_info": {
   "codemirror_mode": {
    "name": "ipython",
    "version": 3
   },
   "file_extension": ".py",
   "mimetype": "text/x-python",
   "name": "python",
   "nbconvert_exporter": "python",
   "pygments_lexer": "ipython3",
   "version": "3.9.13"
  }
 },
 "nbformat": 4,
 "nbformat_minor": 5
}
