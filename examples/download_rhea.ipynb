{
 "cells": [
  {
   "cell_type": "code",
   "execution_count": 1,
   "id": "c99b6f61",
   "metadata": {
    "scrolled": true
   },
   "outputs": [],
   "source": [
    "from pyrheadb.RheaDB import RheaDB"
   ]
  },
  {
   "cell_type": "markdown",
   "id": "eb0c1057",
   "metadata": {},
   "source": [
    "# Initiate the RheaDB class"
   ]
  },
  {
   "cell_type": "code",
   "execution_count": 2,
   "id": "9a3bd55b",
   "metadata": {},
   "outputs": [
    {
     "name": "stdout",
     "output_type": "stream",
     "text": [
      "Your Rhea DB version is 135\n",
      "Using previously downloaded Rhea version\n"
     ]
    }
   ],
   "source": [
    "rdb = RheaDB()"
   ]
  },
  {
   "cell_type": "markdown",
   "id": "19228fd0",
   "metadata": {},
   "source": [
    "## Check how many reactions have defined compound structures and how many have undefined structures\n",
    "Star (*) in SMILES means different substituting groups are possible. Such compounds are not fully defined and can lead to complication e.g. with atom mapping software. However, such reactions can be used as reaction templates."
   ]
  },
  {
   "cell_type": "code",
   "execution_count": 6,
   "id": "e873e3a3",
   "metadata": {
    "scrolled": true
   },
   "outputs": [
    {
     "name": "stdout",
     "output_type": "stream",
     "text": [
      "Reactions with * : 2394\n",
      "Reactions with compounds defined : 14568\n"
     ]
    }
   ],
   "source": [
    "print('Reactions with * :',  len(rdb.df_reactions[rdb.df_reactions['class_reaction_flag']==True]))\n",
    "print('Reactions with compounds defined :',  len(rdb.df_reactions[rdb.df_reactions['class_reaction_flag']==False]))"
   ]
  },
  {
   "cell_type": "markdown",
   "id": "99a3d471",
   "metadata": {},
   "source": [
    "## Check how many reactions have protein / DNA / other macromolecule residue involved"
   ]
  },
  {
   "cell_type": "code",
   "execution_count": 5,
   "id": "60bbf370",
   "metadata": {},
   "outputs": [
    {
     "name": "stdout",
     "output_type": "stream",
     "text": [
      "Reactions with macromolecule residue : 1636\n",
      "Reactions without macromolecule residue : 15326\n"
     ]
    }
   ],
   "source": [
    "print('Reactions with macromolecule residue :',  len(rdb.df_reactions[rdb.df_reactions['residue_rxn_flag']==True]))\n",
    "print('Reactions without macromolecule residue :',  len(rdb.df_reactions[rdb.df_reactions['residue_rxn_flag']==False]))"
   ]
  },
  {
   "cell_type": "markdown",
   "id": "4f43c8a7",
   "metadata": {},
   "source": [
    "## Check which dataframes are available for further processing"
   ]
  },
  {
   "cell_type": "code",
   "execution_count": 4,
   "id": "8f334698",
   "metadata": {},
   "outputs": [
    {
     "name": "stdout",
     "output_type": "stream",
     "text": [
      "1.\n",
      "self.df_hierarchy_master_id\n",
      "Index(['FROM_REACTION_ID', 'TYPE', 'TO_REACTION_ID',\n",
      "       'FROM_REACTION_ID_MASTER_ID', 'DIR_FROM', 'TO_REACTION_ID_MASTER_ID',\n",
      "       'DIR_TO'],\n",
      "      dtype='object')\n",
      "(18300, 7)\n",
      "\n",
      "2.\n",
      "self.df_reactions\n",
      "Index(['MASTER_ID', 'reaction_participant_names', 'rheaid',\n",
      "       'rxnsmiles_no_residue_correction', 'chebi_equation', 'residue_rxn_flag',\n",
      "       'rxnsmiles', 'class_reaction_flag', 'RInChI', 'Web-RInChIKey'],\n",
      "      dtype='object')\n",
      "(16962, 10)\n",
      "\n",
      "3.\n",
      "self.rhea_reaction_long_format_smiles_chebi\n",
      "Index(['MASTER_ID', 'reaction_side', 'chebiid', 'smiles', 'inchi', 'inchikey',\n",
      "       'inchikey14L'],\n",
      "      dtype='object')\n",
      "(82303, 7)\n"
     ]
    }
   ],
   "source": [
    "rdb.data_overview()"
   ]
  },
  {
   "cell_type": "code",
   "execution_count": null,
   "id": "2541c46e",
   "metadata": {},
   "outputs": [],
   "source": []
  },
  {
   "cell_type": "code",
   "execution_count": null,
   "id": "8990a320-e242-4477-ab64-b4972d813d2a",
   "metadata": {},
   "outputs": [],
   "source": []
  }
 ],
 "metadata": {
  "kernelspec": {
   "display_name": "Python 3 (ipykernel)",
   "language": "python",
   "name": "python3"
  },
  "language_info": {
   "codemirror_mode": {
    "name": "ipython",
    "version": 3
   },
   "file_extension": ".py",
   "mimetype": "text/x-python",
   "name": "python",
   "nbconvert_exporter": "python",
   "pygments_lexer": "ipython3",
   "version": "3.9.13"
  }
 },
 "nbformat": 4,
 "nbformat_minor": 5
}
