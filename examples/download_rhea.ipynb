{
 "cells": [
  {
   "cell_type": "code",
   "execution_count": null,
   "id": "c99b6f61",
   "metadata": {
    "scrolled": true
   },
   "outputs": [],
   "source": [
    "from pyrheadb.RheaDB import RheaDB"
   ]
  },
  {
   "cell_type": "markdown",
   "id": "eb0c1057",
   "metadata": {},
   "source": [
    "# Initiate the RheaDB class"
   ]
  },
  {
   "cell_type": "code",
   "execution_count": null,
   "id": "9a3bd55b",
   "metadata": {},
   "outputs": [],
   "source": [
    "rdb = RheaDB()"
   ]
  },
  {
   "cell_type": "markdown",
   "id": "19228fd0",
   "metadata": {},
   "source": [
    "## Check how many reactions have defined compound structures and how many have undefined structures\n",
    "Star (*) in SMILES means different substituting groups are possible. Such compounds are not fully defined and can lead to complication e.g. with atom mapping software. However, such reactions can be used as reaction templates."
   ]
  },
  {
   "cell_type": "code",
   "execution_count": null,
   "id": "e873e3a3",
   "metadata": {
    "scrolled": true
   },
   "outputs": [],
   "source": [
    "print('Reactions with * :',  len(rdb.df_reactions[rdb.df_reactions['class_reaction_flag']==True]))\n",
    "print('Reactions with compounds defined :',  len(rdb.df_reactions[rdb.df_reactions['class_reaction_flag']==False]))"
   ]
  },
  {
   "cell_type": "markdown",
   "id": "99a3d471",
   "metadata": {},
   "source": [
    "## Check how many reactions have protein / DNA / other macromolecule residue involved"
   ]
  },
  {
   "cell_type": "code",
   "execution_count": null,
   "id": "60bbf370",
   "metadata": {},
   "outputs": [],
   "source": [
    "print('Reactions with macromolecule residue :',  len(rdb.df_reactions[rdb.df_reactions['residue_rxn_flag']==True]))\n",
    "print('Reactions without macromolecule residue :',  len(rdb.df_reactions[rdb.df_reactions['residue_rxn_flag']==False]))"
   ]
  },
  {
   "cell_type": "markdown",
   "id": "4f43c8a7",
   "metadata": {},
   "source": [
    "## Check which dataframes are available for further processing"
   ]
  },
  {
   "cell_type": "code",
   "execution_count": null,
   "id": "8f334698",
   "metadata": {},
   "outputs": [],
   "source": [
    "rdb.data_overview()"
   ]
  },
  {
   "cell_type": "code",
   "execution_count": null,
   "id": "2541c46e",
   "metadata": {},
   "outputs": [],
   "source": []
  },
  {
   "cell_type": "code",
   "execution_count": null,
   "id": "8990a320-e242-4477-ab64-b4972d813d2a",
   "metadata": {},
   "outputs": [],
   "source": []
  }
 ],
 "metadata": {
  "kernelspec": {
   "display_name": "Python 3 (ipykernel)",
   "language": "python",
   "name": "python3"
  },
  "language_info": {
   "codemirror_mode": {
    "name": "ipython",
    "version": 3
   },
   "file_extension": ".py",
   "mimetype": "text/x-python",
   "name": "python",
   "nbconvert_exporter": "python",
   "pygments_lexer": "ipython3",
   "version": "3.9.13"
  }
 },
 "nbformat": 4,
 "nbformat_minor": 5
}
