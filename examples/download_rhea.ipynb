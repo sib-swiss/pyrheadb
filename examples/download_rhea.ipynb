{
 "cells": [
  {
   "cell_type": "code",
   "execution_count": 4,
   "id": "b0c947ec",
   "metadata": {},
   "outputs": [
    {
     "name": "stdout",
     "output_type": "stream",
     "text": [
      "Found existing installation: rheadb 0.0.2\n",
      "Uninstalling rheadb-0.0.2:\n",
      "  Successfully uninstalled rheadb-0.0.2\n",
      "Note: you may need to restart the kernel to use updated packages.\n"
     ]
    }
   ],
   "source": [
    "pip uninstall -y rheadb"
   ]
  },
  {
   "cell_type": "code",
   "execution_count": 5,
   "id": "bd113f64",
   "metadata": {
    "scrolled": false
   },
   "outputs": [
    {
     "name": "stdout",
     "output_type": "stream",
     "text": [
      "Looking in indexes: https://test.pypi.org/simple/\n",
      "Collecting rheadb==0.0.2\n",
      "  Downloading https://test-files.pythonhosted.org/packages/e1/e5/afb43ea71934059476720f10e9bbd53343f7f3ae28630305f124c9345a2f/rheadb-0.0.2-py3-none-any.whl (5.6 kB)\n",
      "Installing collected packages: rheadb\n",
      "Successfully installed rheadb-0.0.2\n"
     ]
    }
   ],
   "source": [
    "!pip3 install --no-cache-dir --index-url https://test.pypi.org/simple/ rheadb==0.0.2"
   ]
  },
  {
   "cell_type": "code",
   "execution_count": 7,
   "id": "5f7611cc",
   "metadata": {
    "scrolled": true
   },
   "outputs": [
    {
     "name": "stdout",
     "output_type": "stream",
     "text": [
      "Collecting requests_ftp\n",
      "  Using cached requests-ftp-0.3.1.tar.gz (7.8 kB)\n",
      "Requirement already satisfied: requests in /scratch/anaconda3/lib/python3.9/site-packages (from requests_ftp) (2.28.1)\n",
      "Requirement already satisfied: idna<4,>=2.5 in /scratch/anaconda3/lib/python3.9/site-packages (from requests->requests_ftp) (3.3)\n",
      "Requirement already satisfied: charset-normalizer<3,>=2 in /scratch/anaconda3/lib/python3.9/site-packages (from requests->requests_ftp) (2.0.4)\n",
      "Requirement already satisfied: certifi>=2017.4.17 in /scratch/anaconda3/lib/python3.9/site-packages (from requests->requests_ftp) (2022.9.14)\n",
      "Requirement already satisfied: urllib3<1.27,>=1.21.1 in /scratch/anaconda3/lib/python3.9/site-packages (from requests->requests_ftp) (1.26.11)\n",
      "Building wheels for collected packages: requests-ftp\n",
      "  Building wheel for requests-ftp (setup.py) ... \u001b[?25ldone\n",
      "\u001b[?25h  Created wheel for requests-ftp: filename=requests_ftp-0.3.1-py3-none-any.whl size=8164 sha256=12707d86b9bab9359153d401b80f7783c92ec9ec18dbe27f008cf2385256a65d\n",
      "  Stored in directory: /home/asveshni/.cache/pip/wheels/fd/f3/9e/6bfac0485be3741193e6937798b10f3c6a3bca8e9d7809f924\n",
      "Successfully built requests-ftp\n",
      "Installing collected packages: requests-ftp\n",
      "Successfully installed requests-ftp-0.3.1\n",
      "\u001b[33mWARNING: You are using pip version 21.2.3; however, version 23.3.2 is available.\n",
      "You should consider upgrading via the '/scratch/anaconda3/bin/python -m pip install --upgrade pip' command.\u001b[0m\n"
     ]
    }
   ],
   "source": [
    "!pip3 install requests_ftp"
   ]
  },
  {
   "cell_type": "code",
   "execution_count": 16,
   "id": "4c13357d",
   "metadata": {},
   "outputs": [],
   "source": [
    "import os"
   ]
  },
  {
   "cell_type": "code",
   "execution_count": 9,
   "id": "c99b6f61",
   "metadata": {
    "scrolled": true
   },
   "outputs": [],
   "source": [
    "from rheadb.RheaDB import RheaDB"
   ]
  },
  {
   "cell_type": "markdown",
   "id": "eb0c1057",
   "metadata": {},
   "source": [
    "# Initiate the RheaDB class"
   ]
  },
  {
   "cell_type": "code",
   "execution_count": 13,
   "id": "9a3bd55b",
   "metadata": {},
   "outputs": [],
   "source": [
    "rdb = RheaDB()"
   ]
  },
  {
   "cell_type": "markdown",
   "id": "b2679227",
   "metadata": {},
   "source": [
    "# Set the location for all your rhea data. \n",
    "Can be shared between projects to avoid downloading data several times"
   ]
  },
  {
   "cell_type": "code",
   "execution_count": null,
   "id": "71a7122c",
   "metadata": {},
   "outputs": [],
   "source": [
    "# Example: create a folder in this folder that is called rheadata\n",
    "if not os.path.exists('rheadata/'):\n",
    "    os.mkdir('rheadata')\n",
    "rdb.set_rhea_data_location('rheadata/')"
   ]
  },
  {
   "cell_type": "markdown",
   "id": "0c930b97",
   "metadata": {},
   "source": [
    "# Set the version of Rhea database\n",
    "Version is picked up automatically is not explicitly set as, for example, RheaDB.set_rhea_version(rheaversion = 130)\n"
   ]
  },
  {
   "cell_type": "code",
   "execution_count": 19,
   "id": "d0d3cfc4",
   "metadata": {},
   "outputs": [
    {
     "name": "stdout",
     "output_type": "stream",
     "text": [
      "Your Rhea DB version is 130\n"
     ]
    }
   ],
   "source": [
    "rdb.set_rhea_version()"
   ]
  },
  {
   "cell_type": "markdown",
   "id": "af030282",
   "metadata": {},
   "source": [
    "# Download Rhea\n",
    "Downloading Rhea and calculating useful views can take a minute"
   ]
  },
  {
   "cell_type": "code",
   "execution_count": 20,
   "id": "8eecde01",
   "metadata": {},
   "outputs": [],
   "source": [
    "rdb.loadRhea()"
   ]
  },
  {
   "cell_type": "markdown",
   "id": "19228fd0",
   "metadata": {},
   "source": [
    "# Check how many reactions have defined compound structures and how many have undefined structures\n",
    "Star (*) in SMILES means different substituting groups are possible. Such compounds are not fully defined and can lead to complication e.g. with atom mapping software. However, such reactions can be used as reaction templates."
   ]
  },
  {
   "cell_type": "code",
   "execution_count": null,
   "id": "e873e3a3",
   "metadata": {},
   "outputs": [],
   "source": [
    "rdb.setUndefinedCompoundStarFlag()\n",
    "print('Reactions with * :',  len(rdb.df_smiles_master_id[rdb.df_smiles_master_id['star']==True]))\n",
    "print('Reactions with compounds defined :',  len(rdb.df_smiles_master_id[rdb.df_smiles_master_id['star']==False]))"
   ]
  }
 ],
 "metadata": {
  "kernelspec": {
   "display_name": "Python 3 (ipykernel)",
   "language": "python",
   "name": "python3"
  },
  "language_info": {
   "codemirror_mode": {
    "name": "ipython",
    "version": 3
   },
   "file_extension": ".py",
   "mimetype": "text/x-python",
   "name": "python",
   "nbconvert_exporter": "python",
   "pygments_lexer": "ipython3",
   "version": "3.9.13"
  }
 },
 "nbformat": 4,
 "nbformat_minor": 5
}
