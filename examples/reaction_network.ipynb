{
 "cells": [
  {
   "cell_type": "code",
   "execution_count": null,
   "id": "eec541a6",
   "metadata": {},
   "outputs": [],
   "source": [
    "import networkx as nx\n",
    "import matplotlib.pyplot as plt\n",
    "import numpy as np\n",
    "\n",
    "from pyrheadb.RheaDB import RheaDB\n",
    "from pyrheadb.ReactionNetwork import ReactionNetwork"
   ]
  },
  {
   "cell_type": "markdown",
   "id": "fff9fcac",
   "metadata": {},
   "source": [
    "# Build reaction network"
   ]
  },
  {
   "cell_type": "code",
   "execution_count": null,
   "id": "20b99c73",
   "metadata": {},
   "outputs": [],
   "source": [
    "rdb = RheaDB()\n",
    "rxnnet = ReactionNetwork()\n",
    "\n",
    "rxnnet.build_network_from_long_format_table(rdb.rhea_reaction_long_format_smiles_chebi)"
   ]
  },
  {
   "cell_type": "markdown",
   "id": "3b2e1712",
   "metadata": {},
   "source": [
    "# Analysis\n",
    "## 1. Analyse basic properties of the network\n",
    "\n",
    "NB: \n",
    "\n",
    "[Average degree](https://networkx.org/documentation/stable/reference/classes/generated/networkx.Graph.degree.html) - The node degree is the number of edges adjacent to the node.\n",
    "\n",
    "[Graph density](https://networkx.org/documentation/stable/reference/generated/networkx.classes.function.density.html) - The density is 0 for a graph without edges and 1 for a complete graph. The density of multigraphs can be higher than 1."
   ]
  },
  {
   "cell_type": "code",
   "execution_count": null,
   "id": "a9612919",
   "metadata": {},
   "outputs": [],
   "source": [
    "graph_properties = rxnnet.analyze_basic_properties()\n",
    "for key, value in graph_properties.items():\n",
    "    print(key, \":\", value)"
   ]
  },
  {
   "cell_type": "markdown",
   "id": "487ffb00",
   "metadata": {},
   "source": [
    "## 2. How many disconnected subgraphs the network has\n",
    "\n",
    "Identify and analyze connected components within the network.\n",
    "This is particularly useful for understanding isolated subnetworks within your reaction network."
   ]
  },
  {
   "cell_type": "code",
   "execution_count": null,
   "id": "016dba0d",
   "metadata": {},
   "outputs": [],
   "source": [
    "component_properties = rxnnet.analyze_components()\n",
    "for key, value in component_properties.items():\n",
    "    print(key, \":\", value)"
   ]
  },
  {
   "cell_type": "markdown",
   "id": "6d07ecdf",
   "metadata": {},
   "source": [
    "## 3. Plot component sizes (without largest component)\n",
    "Largest component is not plotted since it is in different order of size, and the rest of the components would be dwarfed."
   ]
  },
  {
   "cell_type": "code",
   "execution_count": null,
   "id": "033f28c7",
   "metadata": {},
   "outputs": [],
   "source": [
    "components_size = [len(c) for c in sorted(nx.connected_components(rxnnet.participants_graph), key=len, reverse=True)]\n",
    "sizes = list(set(components_size))\n",
    "sizes.sort(reverse=True)\n",
    "\n",
    "count_subgraphs=[]\n",
    "for s in sizes:\n",
    "    count_subgraphs.append(components_size.count(s))"
   ]
  },
  {
   "cell_type": "code",
   "execution_count": null,
   "id": "602d8d9f",
   "metadata": {},
   "outputs": [],
   "source": [
    "%matplotlib inline"
   ]
  },
  {
   "cell_type": "code",
   "execution_count": null,
   "id": "d3f915e1",
   "metadata": {
    "scrolled": true
   },
   "outputs": [],
   "source": [
    "plt.bar(sizes[1:], count_subgraphs[1:])\n",
    "plt.xlabel('Compounds per subgraph')\n",
    "plt.ylabel('Number of subgraphs')\n",
    "plt.show()"
   ]
  },
  {
   "cell_type": "markdown",
   "id": "21060d0b",
   "metadata": {},
   "source": [
    "## 4. Analyse centrality (~7 min, MacBook Pro, 2.6 GHz 6-Core Intel Core i7)\n",
    "\n",
    "Centrality Measures. Computes centrality measures for nodes in the participants graph.\n",
    "\n",
    "Compute various centrality measures to find the most influential nodes (compounds) in your network.\n",
    "\n",
    "Measures like degree centrality, betweenness centrality, and closeness centrality can be useful."
   ]
  },
  {
   "cell_type": "code",
   "execution_count": null,
   "id": "63828293",
   "metadata": {},
   "outputs": [],
   "source": [
    "centrality_properties = rxnnet.analyze_centrality()"
   ]
  },
  {
   "cell_type": "code",
   "execution_count": null,
   "id": "7332bfea-9218-4d97-987a-3e7c1fa8d44e",
   "metadata": {},
   "outputs": [],
   "source": [
    "for key, value in centrality_properties.items():\n",
    "    print('Mean', key, \":\", np.mean(list(value.values())))\n",
    "    print('Median', key, \":\", np.median(list(value.values())))\n",
    "    print('Max', key, \":\", max(list(value.values())))"
   ]
  },
  {
   "cell_type": "markdown",
   "id": "bc67fac0",
   "metadata": {},
   "source": [
    "## 5. Analyse clustering\n",
    "\n",
    "Clustering Coefficient. Analyzes the clustering coefficient of the participants graph.\n",
    "\n",
    "This analysis provides insights into the clustering behavior of nodes, indicating how nodes tend to cluster together."
   ]
  },
  {
   "cell_type": "code",
   "execution_count": null,
   "id": "df2069f4",
   "metadata": {},
   "outputs": [],
   "source": [
    "clustering_properties = rxnnet.analyze_clustering()\n",
    "print('Average Clustering:', clustering_properties['Average Clustering'])\n",
    "print('Max 20 Clustering:', clustering_properties['Max 20 Clustering'])"
   ]
  },
  {
   "cell_type": "markdown",
   "id": "f4038056-5833-49cd-b817-30d86f6fc16a",
   "metadata": {},
   "source": [
    "Plot the clustering coefficients and see, that the majority of nodes are not highly clustered"
   ]
  },
  {
   "cell_type": "code",
   "execution_count": null,
   "id": "f43a553f-067a-41b1-abc8-9fc064e8d29f",
   "metadata": {},
   "outputs": [],
   "source": [
    "plt.hist(clustering_properties['Clustering Coefficients'].values())\n",
    "plt.xlabel('Clustering Coefficient')\n",
    "plt.ylabel('Number of compounds')\n",
    "plt.show()"
   ]
  },
  {
   "cell_type": "markdown",
   "id": "356e1d18",
   "metadata": {},
   "source": [
    "## 6. Analyse shortest path (~ 1 min, MacBook Pro, 2.6 GHz 6-Core Intel Core i7)\n",
    "\n",
    "Examine shortest paths within the network to understand the connectivity and distance between different compounds."
   ]
  },
  {
   "cell_type": "code",
   "execution_count": null,
   "id": "21832197",
   "metadata": {},
   "outputs": [],
   "source": [
    "all_shortest_paths = rxnnet.analyze_shortest_paths()\n",
    "path_lengths = [max(list(path.values())) for path in all_shortest_paths.values()]\n",
    "print('Max compound to compound path in the network:', max(path_lengths))"
   ]
  }
 ],
 "metadata": {
  "kernelspec": {
   "display_name": "Python 3 (ipykernel)",
   "language": "python",
   "name": "python3"
  },
  "language_info": {
   "codemirror_mode": {
    "name": "ipython",
    "version": 3
   },
   "file_extension": ".py",
   "mimetype": "text/x-python",
   "name": "python",
   "nbconvert_exporter": "python",
   "pygments_lexer": "ipython3",
   "version": "3.9.13"
  }
 },
 "nbformat": 4,
 "nbformat_minor": 5
}
