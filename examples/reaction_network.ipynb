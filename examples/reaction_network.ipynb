{
 "cells": [
  {
   "cell_type": "code",
   "execution_count": null,
   "id": "eec541a6",
   "metadata": {},
   "outputs": [],
   "source": [
    "import networkx as nx\n",
    "import matplotlib.pyplot as plt\n",
    "\n",
    "from rheadb.RheaDB import RheaDB\n",
    "from rheadb.ReactionNetwork import ReactionNetwork"
   ]
  },
  {
   "cell_type": "markdown",
   "id": "1908e40c",
   "metadata": {},
   "source": [
    "# Load Rhea data + generate long format table of reaction participants"
   ]
  },
  {
   "cell_type": "code",
   "execution_count": null,
   "id": "032cc363",
   "metadata": {},
   "outputs": [],
   "source": [
    "rdb = RheaDB()\n",
    "rdb.set_rhea_data_location('rheadata/')\n",
    "rdb.set_rhea_version()\n",
    "rdb.loadRhea()\n",
    "rdb.loadLongTableReactionParticipats()"
   ]
  },
  {
   "cell_type": "markdown",
   "id": "fff9fcac",
   "metadata": {},
   "source": [
    "# Build reaction network"
   ]
  },
  {
   "cell_type": "code",
   "execution_count": null,
   "id": "20b99c73",
   "metadata": {},
   "outputs": [],
   "source": [
    "rxnnet = ReactionNetwork()\n",
    "\n",
    "rxnnet.buildNetworkFromLongFormatTable(rdb.rhea_reaction_long_format_smiles_chebi)"
   ]
  },
  {
   "cell_type": "markdown",
   "id": "3b2e1712",
   "metadata": {},
   "source": [
    "# Analysis\n",
    "1. How many compounds are in the network?"
   ]
  },
  {
   "cell_type": "code",
   "execution_count": null,
   "id": "a9612919",
   "metadata": {},
   "outputs": [],
   "source": [
    "print(len(rxnnet.participants_graph.nodes()))"
   ]
  },
  {
   "cell_type": "markdown",
   "id": "487ffb00",
   "metadata": {},
   "source": [
    "2. How many disconnected subgraphs the network has"
   ]
  },
  {
   "cell_type": "code",
   "execution_count": null,
   "id": "016dba0d",
   "metadata": {},
   "outputs": [],
   "source": [
    "print(nx.number_connected_components(rxnnet.participants_graph))"
   ]
  },
  {
   "cell_type": "markdown",
   "id": "6d07ecdf",
   "metadata": {},
   "source": [
    "3. Plot component sizes"
   ]
  },
  {
   "cell_type": "code",
   "execution_count": null,
   "id": "033f28c7",
   "metadata": {},
   "outputs": [],
   "source": [
    "components_size = [len(c) for c in sorted(nx.connected_components(rxnnet.participants_graph), key=len, reverse=True)]\n",
    "sizes = list(set(components_size))\n",
    "sizes.sort(reverse=True)\n",
    "\n",
    "for s in sizes:\n",
    "    count_comps = components_size.count(s)"
   ]
  },
  {
   "cell_type": "code",
   "execution_count": null,
   "id": "d3f915e1",
   "metadata": {},
   "outputs": [],
   "source": [
    "plt.bar(sizes, count_comps)"
   ]
  }
 ],
 "metadata": {
  "kernelspec": {
   "display_name": "Python 3 (ipykernel)",
   "language": "python",
   "name": "python3"
  },
  "language_info": {
   "codemirror_mode": {
    "name": "ipython",
    "version": 3
   },
   "file_extension": ".py",
   "mimetype": "text/x-python",
   "name": "python",
   "nbconvert_exporter": "python",
   "pygments_lexer": "ipython3",
   "version": "3.9.13"
  }
 },
 "nbformat": 4,
 "nbformat_minor": 5
}
