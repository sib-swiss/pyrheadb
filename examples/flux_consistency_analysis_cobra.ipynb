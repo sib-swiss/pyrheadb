{
 "cells": [
  {
   "cell_type": "markdown",
   "id": "0e827e5b",
   "metadata": {},
   "source": [
    "# Modeling human metabolism based on Rhea reactions"
   ]
  },
  {
   "cell_type": "markdown",
   "id": "e1db1f96",
   "metadata": {},
   "source": [
    "Rhea was not designed for modeling purposes, however, since it is the reference reaction vocabulary for SwissProt and UniProt, it is possible to build draft models based on combination of Rhea data processing and SPARQL query to Rhea and UniProt"
   ]
  },
  {
   "cell_type": "markdown",
   "id": "9f1c3ff5",
   "metadata": {},
   "source": [
    "1. Install pyrheadb package"
   ]
  },
  {
   "cell_type": "code",
   "execution_count": null,
   "id": "d096a134",
   "metadata": {},
   "outputs": [],
   "source": [
    "#!pip install -e ../"
   ]
  },
  {
   "cell_type": "markdown",
   "id": "076cfbfe",
   "metadata": {},
   "source": [
    "2. Import necessary modules of pyrheadb"
   ]
  },
  {
   "cell_type": "code",
   "execution_count": null,
   "id": "0992562c",
   "metadata": {
    "scrolled": true
   },
   "outputs": [],
   "source": [
    "import os\n",
    "import pandas as pd\n",
    "from pyrheadb.RheaDB import RheaDB\n",
    "from pyrheadb.RheaCobraModel import RheaCobraModel\n",
    "from pyrheadb import RheaSPARQL"
   ]
  },
  {
   "cell_type": "markdown",
   "id": "0a5cd94e",
   "metadata": {},
   "source": [
    "3. Request only the reactions of human"
   ]
  },
  {
   "cell_type": "code",
   "execution_count": null,
   "id": "83c948c5",
   "metadata": {},
   "outputs": [],
   "source": [
    "os.makedirs('cache', exist_ok=True)"
   ]
  },
  {
   "cell_type": "code",
   "execution_count": null,
   "id": "6de33453",
   "metadata": {},
   "outputs": [],
   "source": [
    "file_human_reactions = os.path.join('cache', 'df_human_reactions.tsv')\n",
    "if not os.path.exists(file_human_reactions):\n",
    "    df_human_reactions = RheaSPARQL.get_all_human_reactions()\n",
    "    df_human_reactions.to_csv(file_human_reactions, sep='\\t', index=False)\n",
    "df_human_reactions = pd.read_csv(file_human_reactions, sep='\\t')\n",
    "df_human_reactions"
   ]
  },
  {
   "cell_type": "markdown",
   "id": "aee20088",
   "metadata": {},
   "source": [
    "4. Filter RheaDB (rdb) table used in this analysis to keep only the human reactions"
   ]
  },
  {
   "cell_type": "code",
   "execution_count": null,
   "id": "5a97ca29",
   "metadata": {},
   "outputs": [],
   "source": [
    "df_human_reactions.drop_duplicates(subset=['MASTER_ID'], inplace=True)\n",
    "rdb_human = RheaDB()\n",
    "rdb_human.df_reactions = \\\n",
    "                rdb_human.df_reactions.merge(df_human_reactions['MASTER_ID'], how='inner', on='MASTER_ID')"
   ]
  },
  {
   "cell_type": "code",
   "execution_count": null,
   "id": "9a032d2a",
   "metadata": {
    "scrolled": true
   },
   "outputs": [],
   "source": [
    "rhea_human_model = RheaCobraModel('rhea_human_model', rdb_human)"
   ]
  },
  {
   "cell_type": "code",
   "execution_count": null,
   "id": "3771e6e9",
   "metadata": {},
   "outputs": [],
   "source": [
    "rhea_human_model.inspect_model()"
   ]
  },
  {
   "cell_type": "code",
   "execution_count": null,
   "id": "94950989",
   "metadata": {},
   "outputs": [],
   "source": [
    "# # Write down model reactions if you want to inspect it in more detail\n",
    "# with open(os.path.join('cache','model_reactions.txt'), 'w') as w:\n",
    "#     for r in rhea_model.model.reactions:\n",
    "#         w.write(f\"{r}\\n\")"
   ]
  },
  {
   "cell_type": "markdown",
   "id": "560445e4",
   "metadata": {},
   "source": [
    "# Use cobra to analyse consistency of fluxes\n",
    "Text extract added from cobra doc for clarity (https://cobrapy.readthedocs.io/en/latest/consistency.html)"
   ]
  },
  {
   "cell_type": "code",
   "execution_count": null,
   "id": "e9e1d730",
   "metadata": {},
   "outputs": [],
   "source": [
    "from cobra import flux_analysis"
   ]
  },
  {
   "cell_type": "markdown",
   "id": "94616b69",
   "metadata": {},
   "source": [
    "## Using FVA\n",
    "\n",
    "The first approach we can follow is to use FVA (Flux Variability Analysis) which among many other applications, is used to detect blocked reactions. The cobra.flux_analysis.find_blocked_reactions() function will return a list of all the blocked reactions obtained using FVA."
   ]
  },
  {
   "cell_type": "code",
   "execution_count": null,
   "id": "93273c34",
   "metadata": {},
   "outputs": [],
   "source": [
    "%time\n",
    "blocked_reactions=flux_analysis.find_blocked_reactions(rhea_human_model.model)"
   ]
  },
  {
   "cell_type": "code",
   "execution_count": null,
   "id": "5bb6ed03",
   "metadata": {},
   "outputs": [],
   "source": [
    "print(len(blocked_reactions), 'blocked reactions')"
   ]
  },
  {
   "cell_type": "markdown",
   "id": "e6ad506d",
   "metadata": {},
   "source": [
    "## Using FASTCC\n",
    "The second approach to obtaining consistent network in cobrapy is to use FASTCC. Using this method,\n",
    "you can expect to efficiently obtain an accurate consistent network. For more details regarding the algorithm,\n",
    "please see Vlassis N, Pacheco MP, Sauter T (2014)."
   ]
  },
  {
   "cell_type": "code",
   "execution_count": null,
   "id": "88611ac9",
   "metadata": {},
   "outputs": [],
   "source": [
    "rhea_human_m = rhea_human_model.model\n",
    "rhea_human_m.solver = \"glpk\"\n",
    "\n",
    "# Lower the model's tolerance so we can set a smaller zero_cutoff\n",
    "rhea_human_m.tolerance = 1e-9\n",
    "\n",
    "def shallow_copy(self):\n",
    "    return self  # WARNING: modifies original model in place\n",
    "\n",
    "rhea_human_m.copy = shallow_copy.__get__(rhea_human_m)\n",
    "consistent_human_model = flux_analysis.fastcc(rhea_human_m, flux_threshold=1.0, zero_cutoff=1e-9)\n",
    "\n",
    "print(\"Number of consistent reactions according to FASTCC:\",\n",
    "      len(consistent_human_model.reactions))"
   ]
  },
  {
   "cell_type": "markdown",
   "id": "dd3f98de",
   "metadata": {},
   "source": [
    "## Use cobra to find the value of the flux for the objective reaction"
   ]
  },
  {
   "cell_type": "code",
   "execution_count": null,
   "id": "d2b18790",
   "metadata": {},
   "outputs": [],
   "source": []
  },
  {
   "cell_type": "code",
   "execution_count": null,
   "id": "2d77cb3c",
   "metadata": {},
   "outputs": [],
   "source": [
    "rhea_human_model.model.objective = 'RHEA_13065' # ATP maintenance"
   ]
  },
  {
   "cell_type": "code",
   "execution_count": null,
   "id": "30465eec",
   "metadata": {},
   "outputs": [],
   "source": [
    "rhea_human_model.model.optimize().objective_value"
   ]
  },
  {
   "cell_type": "markdown",
   "id": "6e89660f",
   "metadata": {},
   "source": [
    "# Repeat analysis for the whole RheaDB"
   ]
  },
  {
   "cell_type": "code",
   "execution_count": null,
   "id": "35ffe4a3",
   "metadata": {},
   "outputs": [],
   "source": [
    "rdb_all = RheaDB()\n",
    "rhea_all_model = RheaCobraModel('rhea_all_model', rdb_all)"
   ]
  },
  {
   "cell_type": "code",
   "execution_count": null,
   "id": "b1ae79f8",
   "metadata": {},
   "outputs": [],
   "source": [
    "rhea_all_model.inspect_model()"
   ]
  },
  {
   "cell_type": "code",
   "execution_count": null,
   "id": "5080eec9",
   "metadata": {},
   "outputs": [],
   "source": [
    "%%time\n",
    "blocked_reactions=flux_analysis.find_blocked_reactions(rhea_all_model.model)\n",
    "print(len(blocked_reactions), 'blocked reactions')"
   ]
  },
  {
   "cell_type": "code",
   "execution_count": null,
   "id": "46816502",
   "metadata": {},
   "outputs": [],
   "source": [
    "%%time\n",
    "rhea_all_m = rhea_all_model.model\n",
    "rhea_all_m.solver = \"glpk\"\n",
    "\n",
    "# Lower the model's tolerance so we can set a smaller zero_cutoff\n",
    "rhea_all_m.tolerance = 1e-9\n",
    "\n",
    "def shallow_copy(self):\n",
    "    return self  # WARNING: modifies original model in place\n",
    "\n",
    "rhea_all_m.copy = shallow_copy.__get__(rhea_all_m)\n",
    "consistent_all_model = flux_analysis.fastcc(rhea_all_m, flux_threshold=1.0, zero_cutoff=1e-9)\n",
    "\n",
    "print(\"Number of consistent reactions in all rhea according to FASTCC:\",\n",
    "      len(consistent_all_model.reactions))"
   ]
  },
  {
   "cell_type": "code",
   "execution_count": null,
   "id": "34a2f865",
   "metadata": {},
   "outputs": [],
   "source": [
    "import cobra\n",
    "print(cobra.__version__)"
   ]
  }
 ],
 "metadata": {
  "kernelspec": {
   "display_name": "pyrheadbenv",
   "language": "python",
   "name": "pyrheadbenv"
  },
  "language_info": {
   "codemirror_mode": {
    "name": "ipython",
    "version": 3
   },
   "file_extension": ".py",
   "mimetype": "text/x-python",
   "name": "python",
   "nbconvert_exporter": "python",
   "pygments_lexer": "ipython3",
   "version": "3.13.2"
  }
 },
 "nbformat": 4,
 "nbformat_minor": 5
}
