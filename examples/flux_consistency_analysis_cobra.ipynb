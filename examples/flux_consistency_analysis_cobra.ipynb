{
 "cells": [
  {
   "cell_type": "markdown",
   "id": "0e827e5b",
   "metadata": {},
   "source": [
    "# Modeling human metabolism based on Rhea reactions"
   ]
  },
  {
   "cell_type": "markdown",
   "id": "e1db1f96",
   "metadata": {},
   "source": [
    "Rhea was not designed for modeling purposes, however, since it is the reference reaction vocabulary for SwissProt and UniProt, it is possible to build draft models based on combination of Rhea data processing and SPARQL query to Rhea and UniProt"
   ]
  },
  {
   "cell_type": "markdown",
   "id": "9f1c3ff5",
   "metadata": {},
   "source": [
    "1. Install pyrheadb package"
   ]
  },
  {
   "cell_type": "code",
   "execution_count": 1,
   "id": "d096a134",
   "metadata": {},
   "outputs": [],
   "source": [
    "#!pip install -e ../"
   ]
  },
  {
   "cell_type": "markdown",
   "id": "076cfbfe",
   "metadata": {},
   "source": [
    "2. Import necessary modules of pyrheadb"
   ]
  },
  {
   "cell_type": "code",
   "execution_count": 2,
   "id": "0992562c",
   "metadata": {
    "scrolled": true
   },
   "outputs": [],
   "source": [
    "import os\n",
    "import pandas as pd\n",
    "from pyrheadb.RheaDB import RheaDB\n",
    "from pyrheadb.RheaCobraModel import RheaCobraModel\n",
    "from pyrheadb import RheaSPARQL"
   ]
  },
  {
   "cell_type": "markdown",
   "id": "0a5cd94e",
   "metadata": {},
   "source": [
    "3. Request only the reactions of human"
   ]
  },
  {
   "cell_type": "code",
   "execution_count": 3,
   "id": "83c948c5",
   "metadata": {},
   "outputs": [],
   "source": [
    "os.makedirs('cache', exist_ok=True)"
   ]
  },
  {
   "cell_type": "code",
   "execution_count": 4,
   "id": "6de33453",
   "metadata": {},
   "outputs": [
    {
     "data": {
      "text/html": [
       "<div>\n",
       "<style scoped>\n",
       "    .dataframe tbody tr th:only-of-type {\n",
       "        vertical-align: middle;\n",
       "    }\n",
       "\n",
       "    .dataframe tbody tr th {\n",
       "        vertical-align: top;\n",
       "    }\n",
       "\n",
       "    .dataframe thead th {\n",
       "        text-align: right;\n",
       "    }\n",
       "</style>\n",
       "<table border=\"1\" class=\"dataframe\">\n",
       "  <thead>\n",
       "    <tr style=\"text-align: right;\">\n",
       "      <th></th>\n",
       "      <th>proteinName</th>\n",
       "      <th>protein</th>\n",
       "      <th>proteinId</th>\n",
       "      <th>reaction</th>\n",
       "      <th>MASTER_ID</th>\n",
       "    </tr>\n",
       "  </thead>\n",
       "  <tbody>\n",
       "    <tr>\n",
       "      <th>0</th>\n",
       "      <td>(3R)-3-hydroxyacyl-CoA dehydrogenase</td>\n",
       "      <td>http://purl.uniprot.org/uniprot/Q92506</td>\n",
       "      <td>DHB8_HUMAN</td>\n",
       "      <td>http://rdf.rhea-db.org/14929</td>\n",
       "      <td>14929</td>\n",
       "    </tr>\n",
       "    <tr>\n",
       "      <th>1</th>\n",
       "      <td>(3R)-3-hydroxyacyl-CoA dehydrogenase</td>\n",
       "      <td>http://purl.uniprot.org/uniprot/Q92506</td>\n",
       "      <td>DHB8_HUMAN</td>\n",
       "      <td>http://rdf.rhea-db.org/24612</td>\n",
       "      <td>24612</td>\n",
       "    </tr>\n",
       "    <tr>\n",
       "      <th>2</th>\n",
       "      <td>(3R)-3-hydroxyacyl-CoA dehydrogenase</td>\n",
       "      <td>http://purl.uniprot.org/uniprot/Q92506</td>\n",
       "      <td>DHB8_HUMAN</td>\n",
       "      <td>http://rdf.rhea-db.org/32711</td>\n",
       "      <td>32711</td>\n",
       "    </tr>\n",
       "    <tr>\n",
       "      <th>3</th>\n",
       "      <td>(3R)-3-hydroxyacyl-CoA dehydrogenase</td>\n",
       "      <td>http://purl.uniprot.org/uniprot/Q92506</td>\n",
       "      <td>DHB8_HUMAN</td>\n",
       "      <td>http://rdf.rhea-db.org/41992</td>\n",
       "      <td>41992</td>\n",
       "    </tr>\n",
       "    <tr>\n",
       "      <th>4</th>\n",
       "      <td>(Lyso)-N-acylphosphatidylethanolamine lipase</td>\n",
       "      <td>http://purl.uniprot.org/uniprot/Q8TB40</td>\n",
       "      <td>ABHD4_HUMAN</td>\n",
       "      <td>http://rdf.rhea-db.org/45384</td>\n",
       "      <td>45384</td>\n",
       "    </tr>\n",
       "    <tr>\n",
       "      <th>...</th>\n",
       "      <td>...</td>\n",
       "      <td>...</td>\n",
       "      <td>...</td>\n",
       "      <td>...</td>\n",
       "      <td>...</td>\n",
       "    </tr>\n",
       "    <tr>\n",
       "      <th>33709</th>\n",
       "      <td>uridine/cytidine kinase</td>\n",
       "      <td>http://purl.uniprot.org/uniprot/G3V170</td>\n",
       "      <td>G3V170_HUMAN</td>\n",
       "      <td>http://rdf.rhea-db.org/24674</td>\n",
       "      <td>24674</td>\n",
       "    </tr>\n",
       "    <tr>\n",
       "      <th>33710</th>\n",
       "      <td>very-long-chain (3R)-3-hydroxyacyl-CoA dehydra...</td>\n",
       "      <td>http://purl.uniprot.org/uniprot/J3KT94</td>\n",
       "      <td>J3KT94_HUMAN</td>\n",
       "      <td>http://rdf.rhea-db.org/39159</td>\n",
       "      <td>39159</td>\n",
       "    </tr>\n",
       "    <tr>\n",
       "      <th>33711</th>\n",
       "      <td>very-long-chain (3R)-3-hydroxyacyl-CoA dehydra...</td>\n",
       "      <td>http://purl.uniprot.org/uniprot/J3KT94</td>\n",
       "      <td>J3KT94_HUMAN</td>\n",
       "      <td>http://rdf.rhea-db.org/45812</td>\n",
       "      <td>45812</td>\n",
       "    </tr>\n",
       "    <tr>\n",
       "      <th>33712</th>\n",
       "      <td>vesicle-fusing ATPase</td>\n",
       "      <td>http://purl.uniprot.org/uniprot/A0A6Q8PGU6</td>\n",
       "      <td>A0A6Q8PGU6_HUMAN</td>\n",
       "      <td>http://rdf.rhea-db.org/13065</td>\n",
       "      <td>13065</td>\n",
       "    </tr>\n",
       "    <tr>\n",
       "      <th>33713</th>\n",
       "      <td>vesicle-fusing ATPase</td>\n",
       "      <td>http://purl.uniprot.org/uniprot/Q9HAP1</td>\n",
       "      <td>Q9HAP1_HUMAN</td>\n",
       "      <td>http://rdf.rhea-db.org/13065</td>\n",
       "      <td>13065</td>\n",
       "    </tr>\n",
       "  </tbody>\n",
       "</table>\n",
       "<p>33714 rows × 5 columns</p>\n",
       "</div>"
      ],
      "text/plain": [
       "                                             proteinName  \\\n",
       "0                   (3R)-3-hydroxyacyl-CoA dehydrogenase   \n",
       "1                   (3R)-3-hydroxyacyl-CoA dehydrogenase   \n",
       "2                   (3R)-3-hydroxyacyl-CoA dehydrogenase   \n",
       "3                   (3R)-3-hydroxyacyl-CoA dehydrogenase   \n",
       "4           (Lyso)-N-acylphosphatidylethanolamine lipase   \n",
       "...                                                  ...   \n",
       "33709                            uridine/cytidine kinase   \n",
       "33710  very-long-chain (3R)-3-hydroxyacyl-CoA dehydra...   \n",
       "33711  very-long-chain (3R)-3-hydroxyacyl-CoA dehydra...   \n",
       "33712                              vesicle-fusing ATPase   \n",
       "33713                              vesicle-fusing ATPase   \n",
       "\n",
       "                                          protein         proteinId  \\\n",
       "0          http://purl.uniprot.org/uniprot/Q92506        DHB8_HUMAN   \n",
       "1          http://purl.uniprot.org/uniprot/Q92506        DHB8_HUMAN   \n",
       "2          http://purl.uniprot.org/uniprot/Q92506        DHB8_HUMAN   \n",
       "3          http://purl.uniprot.org/uniprot/Q92506        DHB8_HUMAN   \n",
       "4          http://purl.uniprot.org/uniprot/Q8TB40       ABHD4_HUMAN   \n",
       "...                                           ...               ...   \n",
       "33709      http://purl.uniprot.org/uniprot/G3V170      G3V170_HUMAN   \n",
       "33710      http://purl.uniprot.org/uniprot/J3KT94      J3KT94_HUMAN   \n",
       "33711      http://purl.uniprot.org/uniprot/J3KT94      J3KT94_HUMAN   \n",
       "33712  http://purl.uniprot.org/uniprot/A0A6Q8PGU6  A0A6Q8PGU6_HUMAN   \n",
       "33713      http://purl.uniprot.org/uniprot/Q9HAP1      Q9HAP1_HUMAN   \n",
       "\n",
       "                           reaction  MASTER_ID  \n",
       "0      http://rdf.rhea-db.org/14929      14929  \n",
       "1      http://rdf.rhea-db.org/24612      24612  \n",
       "2      http://rdf.rhea-db.org/32711      32711  \n",
       "3      http://rdf.rhea-db.org/41992      41992  \n",
       "4      http://rdf.rhea-db.org/45384      45384  \n",
       "...                             ...        ...  \n",
       "33709  http://rdf.rhea-db.org/24674      24674  \n",
       "33710  http://rdf.rhea-db.org/39159      39159  \n",
       "33711  http://rdf.rhea-db.org/45812      45812  \n",
       "33712  http://rdf.rhea-db.org/13065      13065  \n",
       "33713  http://rdf.rhea-db.org/13065      13065  \n",
       "\n",
       "[33714 rows x 5 columns]"
      ]
     },
     "execution_count": 4,
     "metadata": {},
     "output_type": "execute_result"
    }
   ],
   "source": [
    "file_human_reactions = os.path.join('cache', 'df_human_reactions.tsv')\n",
    "if not os.path.exists(file_human_reactions):\n",
    "    df_human_reactions = RheaSPARQL.get_all_human_reactions()\n",
    "    df_human_reactions.to_csv(file_human_reactions, sep='\\t', index=False)\n",
    "df_human_reactions = pd.read_csv(file_human_reactions, sep='\\t')\n",
    "df_human_reactions"
   ]
  },
  {
   "cell_type": "markdown",
   "id": "aee20088",
   "metadata": {},
   "source": [
    "4. Filter RheaDB (rdb) table used in this analysis to keep only the human reactions"
   ]
  },
  {
   "cell_type": "code",
   "execution_count": 5,
   "id": "5a97ca29",
   "metadata": {},
   "outputs": [
    {
     "name": "stdout",
     "output_type": "stream",
     "text": [
      "Your Rhea DB version is 132\n",
      "Using previously downloaded Rhea version\n"
     ]
    }
   ],
   "source": [
    "df_human_reactions.drop_duplicates(subset=['MASTER_ID'], inplace=True)\n",
    "rdb_human = RheaDB('/scratch/')\n",
    "rdb_human.df_smiles_master_id = \\\n",
    "                rdb_human.df_smiles_master_id.merge(df_human_reactions['MASTER_ID'], how='inner', on='MASTER_ID')"
   ]
  },
  {
   "cell_type": "code",
   "execution_count": 6,
   "id": "9a032d2a",
   "metadata": {
    "scrolled": true
   },
   "outputs": [
    {
     "name": "stdout",
     "output_type": "stream",
     "text": [
      "Set parameter Username\n",
      "Academic license - for non-commercial use only - expires 2025-04-25\n",
      "Adding reactions to model\n"
     ]
    },
    {
     "name": "stderr",
     "output_type": "stream",
     "text": [
      "100%|██████████████████████████████████████| 3748/3748 [00:21<00:00, 171.86it/s]\n"
     ]
    },
    {
     "name": "stdout",
     "output_type": "stream",
     "text": [
      "Total boundary metabolites: 197\n",
      "Added 379 exchanges:\n"
     ]
    }
   ],
   "source": [
    "rhea_human_model = RheaCobraModel('rhea_human_model', rdb_human)"
   ]
  },
  {
   "cell_type": "code",
   "execution_count": 7,
   "id": "3771e6e9",
   "metadata": {},
   "outputs": [
    {
     "name": "stdout",
     "output_type": "stream",
     "text": [
      "3945 reactions\n",
      "3250 metabolites\n",
      "7890 variables\n"
     ]
    }
   ],
   "source": [
    "rhea_human_model.inspect_model()"
   ]
  },
  {
   "cell_type": "code",
   "execution_count": 8,
   "id": "94950989",
   "metadata": {},
   "outputs": [],
   "source": [
    "# # Write down model reactions if you want to inspect it in more detail\n",
    "# with open(os.path.join('cache','model_reactions.txt'), 'w') as w:\n",
    "#     for r in rhea_model.model.reactions:\n",
    "#         w.write(f\"{r}\\n\")"
   ]
  },
  {
   "cell_type": "markdown",
   "id": "560445e4",
   "metadata": {},
   "source": [
    "# Use cobra to analyse consistency of fluxes\n",
    "Text extract added from cobra doc for clarity (https://cobrapy.readthedocs.io/en/latest/consistency.html)"
   ]
  },
  {
   "cell_type": "code",
   "execution_count": 9,
   "id": "e9e1d730",
   "metadata": {},
   "outputs": [],
   "source": [
    "from cobra import flux_analysis"
   ]
  },
  {
   "cell_type": "markdown",
   "id": "94616b69",
   "metadata": {},
   "source": [
    "## Using FVA\n",
    "\n",
    "The first approach we can follow is to use FVA (Flux Variability Analysis) which among many other applications, is used to detect blocked reactions. The cobra.flux_analysis.find_blocked_reactions() function will return a list of all the blocked reactions obtained using FVA."
   ]
  },
  {
   "cell_type": "code",
   "execution_count": 10,
   "id": "93273c34",
   "metadata": {},
   "outputs": [
    {
     "name": "stdout",
     "output_type": "stream",
     "text": [
      "CPU times: user 3 µs, sys: 0 ns, total: 3 µs\n",
      "Wall time: 6.2 µs\n"
     ]
    }
   ],
   "source": [
    "%time\n",
    "blocked_reactions=flux_analysis.find_blocked_reactions(rhea_human_model.model)"
   ]
  },
  {
   "cell_type": "code",
   "execution_count": 11,
   "id": "5bb6ed03",
   "metadata": {},
   "outputs": [
    {
     "name": "stdout",
     "output_type": "stream",
     "text": [
      "1914 blocked reactions\n"
     ]
    }
   ],
   "source": [
    "print(len(blocked_reactions), 'blocked reactions')"
   ]
  },
  {
   "cell_type": "markdown",
   "id": "e6ad506d",
   "metadata": {},
   "source": [
    "## Using FASTCC\n",
    "The second approach to obtaining consistent network in cobrapy is to use FASTCC. Using this method,\n",
    "you can expect to efficiently obtain an accurate consistent network. For more details regarding the algorithm,\n",
    "please see Vlassis N, Pacheco MP, Sauter T (2014)."
   ]
  },
  {
   "cell_type": "code",
   "execution_count": 12,
   "id": "88611ac9",
   "metadata": {},
   "outputs": [
    {
     "name": "stdout",
     "output_type": "stream",
     "text": [
      "Read LP format model from file /tmp/tmpobktno8c.lp\n",
      "Reading time = 0.01 seconds\n",
      ": 3250 rows, 7890 columns, 32378 nonzeros\n",
      "[<Reaction RHEA_10040 at 0x7f362ccabaf0>, <Reaction RHEA_10112 at 0x7f362ccabca0>, <Reaction RHEA_10140 at 0x7f362ccab250>, <Reaction RHEA_10164 at 0x7f362ccab910>, <Reaction RHEA_10180 at 0x7f362ccabc70>, <Reaction RHEA_10188 at 0x7f362ccabfd0>, <Reaction RHEA_10224 at 0x7f362ccab7f0>, <Reaction RHEA_10244 at 0x7f362c67a340>, <Reaction RHEA_10248 at 0x7f362c67a4c0>, <Reaction RHEA_10264 at 0x7f362c67a640>, <Reaction RHEA_10276 at 0x7f362c67a7c0>, <Reaction RHEA_10292 at 0x7f362c67a940>, <Reaction RHEA_10300 at 0x7f362c67aac0>, <Reaction RHEA_10336 at 0x7f362c67adc0>, <Reaction RHEA_10348 at 0x7f362c67af40>, <Reaction RHEA_10380 at 0x7f362c67a1c0>, <Reaction RHEA_10412 at 0x7f362cca2520>, <Reaction RHEA_10440 at 0x7f362cca2d60>, <Reaction RHEA_10492 at 0x7f362cca2d90>, <Reaction RHEA_10600 at 0x7f362cca2ac0>, <Reaction RHEA_10656 at 0x7f362cca2e20>, <Reaction RHEA_10716 at 0x7f362cca21f0>, <Reaction RHEA_10748 at 0x7f362cc9c550>, <Reaction RHEA_10792 at 0x7f362cc9c5b0>, <Reaction RHEA_10796 at 0x7f362cc9cc10>, <Reaction RHEA_10932 at 0x7f362cc9ce80>, <Reaction RHEA_10980 at 0x7f362cc9c790>, <Reaction RHEA_10992 at 0x7f362cc9caf0>, <Reaction RHEA_11020 at 0x7f362cc9ce50>, <Reaction RHEA_11028 at 0x7f362cc9c1f0>, <Reaction RHEA_11064 at 0x7f362c6732e0>, <Reaction RHEA_11080 at 0x7f362c673460>, <Reaction RHEA_11092 at 0x7f362c6735e0>, <Reaction RHEA_11140 at 0x7f362c673a60>, <Reaction RHEA_11148 at 0x7f362c673be0>, <Reaction RHEA_11172 at 0x7f362c673d60>, <Reaction RHEA_11184 at 0x7f362c673ee0>, <Reaction RHEA_11260 at 0x7f362c673040>, <Reaction RHEA_11264 at 0x7f362c673160>, <Reaction RHEA_11308 at 0x7f362cc94760>, <Reaction RHEA_11392 at 0x7f362cc94550>, <Reaction RHEA_11460 at 0x7f362cc94bb0>, <Reaction RHEA_11516 at 0x7f362cc949a0>, <Reaction RHEA_11576 at 0x7f362cc943d0>, <Reaction RHEA_11596 at 0x7f362cc94730>, <Reaction RHEA_11600 at 0x7f362cc94a90>, <Reaction RHEA_11612 at 0x7f362cc94e20>, <Reaction RHEA_11636 at 0x7f362cc944f0>, <Reaction RHEA_11680 at 0x7f362cc8f550>, <Reaction RHEA_11684 at 0x7f362cc8f340>, <Reaction RHEA_11708 at 0x7f362cc8f9a0>, <Reaction RHEA_11740 at 0x7f362cc8fc10>, <Reaction RHEA_11744 at 0x7f362cc8fa00>, <Reaction RHEA_11800 at 0x7f362cc8fd60>, <Reaction RHEA_11812 at 0x7f362cc8f100>, <Reaction RHEA_11840 at 0x7f362cc8f7c0>, <Reaction RHEA_11852 at 0x7f362cc8fb20>, <Reaction RHEA_11856 at 0x7f362cc8fe80>, <Reaction RHEA_11876 at 0x7f362c66a2e0>, <Reaction RHEA_11912 at 0x7f362c66a5e0>, <Reaction RHEA_11916 at 0x7f362c66a760>, <Reaction RHEA_11956 at 0x7f362c66abe0>, <Reaction RHEA_12104 at 0x7f362c66aee0>, <Reaction RHEA_12228 at 0x7f362cca6bb0>, <Reaction RHEA_12272 at 0x7f362cca69a0>, <Reaction RHEA_12284 at 0x7f362cca6be0>, <Reaction RHEA_12308 at 0x7f362cca6310>, <Reaction RHEA_12452 at 0x7f362cca6d30>, <Reaction RHEA_12460 at 0x7f362cca6430>, <Reaction RHEA_12500 at 0x7f362ccb5730>, <Reaction RHEA_12504 at 0x7f362ccb5520>, <Reaction RHEA_12512 at 0x7f362ccb5bb0>, <Reaction RHEA_12556 at 0x7f362ccb5b50>, <Reaction RHEA_12601 at 0x7f362ccb5d90>, <Reaction RHEA_12641 at 0x7f362ccb5a90>, <Reaction RHEA_12653 at 0x7f362ccb5e20>, <Reaction RHEA_12661 at 0x7f362ccb5490>, <Reaction RHEA_12717 at 0x7f362cb20550>, <Reaction RHEA_12721 at 0x7f362cb207f0>, <Reaction RHEA_12793 at 0x7f362cb20ca0>, <Reaction RHEA_12837 at 0x7f362cb20520>, <Reaction RHEA_12893 at 0x7f362cb201f0>, <Reaction RHEA_12921 at 0x7f362c662280>, <Reaction RHEA_12973 at 0x7f362c662400>, <Reaction RHEA_12977 at 0x7f362c662580>, <Reaction RHEA_12981 at 0x7f362c662700>, <Reaction RHEA_13009 at 0x7f362c662880>, <Reaction RHEA_13065 at 0x7f362c662b80>, <Reaction RHEA_13069 at 0x7f362c662d00>, <Reaction RHEA_13101 at 0x7f362c662040>, <Reaction RHEA_13185 at 0x7f362c65a340>, <Reaction RHEA_13201 at 0x7f362c65a4c0>, <Reaction RHEA_13217 at 0x7f362c65a640>, <Reaction RHEA_13233 at 0x7f362c65a7c0>, <Reaction RHEA_13237 at 0x7f362c65a940>, <Reaction RHEA_13253 at 0x7f362c65ac40>, <Reaction RHEA_13285 at 0x7f362c65af40>, <Reaction RHEA_13313 at 0x7f362c652280>, <Reaction RHEA_13389 at 0x7f362c652400>, <Reaction RHEA_13433 at 0x7f362c652580>, <Reaction RHEA_13509 at 0x7f362c652880>, <Reaction RHEA_13517 at 0x7f362c652a00>, <Reaction RHEA_13521 at 0x7f362c652b80>, <Reaction RHEA_13557 at 0x7f362c652040>, <Reaction RHEA_13665 at 0x7f362c649400>, <Reaction RHEA_13933 at 0x7f362c649940>, <Reaction RHEA_13941 at 0x7f362c649a60>, <Reaction RHEA_13977 at 0x7f362c649b20>, <Reaction RHEA_13989 at 0x7f362c649be0>, <Reaction RHEA_14001 at 0x7f362c649d60>, <Reaction RHEA_14005 at 0x7f362c649e20>, <Reaction RHEA_14033 at 0x7f362c649100>, <Reaction RHEA_14077 at 0x7f362c649280>, <Reaction RHEA_14089 at 0x7f362c95d1c0>, <Reaction RHEA_14105 at 0x7f362c95d280>, <Reaction RHEA_14109 at 0x7f362c95d340>, <Reaction RHEA_14165 at 0x7f362c95d4c0>, <Reaction RHEA_14245 at 0x7f362c95d7c0>, <Reaction RHEA_14293 at 0x7f362c95d940>, <Reaction RHEA_14329 at 0x7f362c95da00>, <Reaction RHEA_14357 at 0x7f362c95da90>, <Reaction RHEA_14405 at 0x7f362cb602b0>, <Reaction RHEA_14409 at 0x7f362c81b640>, <Reaction RHEA_14501 at 0x7f362c81b7c0>, <Reaction RHEA_14541 at 0x7f362c81b880>, <Reaction RHEA_14665 at 0x7f362c81bac0>, <Reaction RHEA_14729 at 0x7f362c81bc40>, <Reaction RHEA_14753 at 0x7f362c81bd00>, <Reaction RHEA_14761 at 0x7f362c81bdc0>, <Reaction RHEA_14777 at 0x7f362c81be80>, <Reaction RHEA_14801 at 0x7f362c81bf40>, <Reaction RHEA_14817 at 0x7f362c81bfd0>, <Reaction RHEA_14837 at 0x7f362c81b580>, <Reaction RHEA_14877 at 0x7f362c6181c0>, <Reaction RHEA_14905 at 0x7f362c618280>, <Reaction RHEA_14929 at 0x7f362c618400>, <Reaction RHEA_14981 at 0x7f362c618580>, <Reaction RHEA_15009 at 0x7f362c618640>, <Reaction RHEA_15053 at 0x7f362c618700>, <Reaction RHEA_15093 at 0x7f362c6187c0>, <Reaction RHEA_15097 at 0x7f362c618880>, <Reaction RHEA_15125 at 0x7f362c618940>, <Reaction RHEA_15133 at 0x7f362c618a00>, <Reaction RHEA_15173 at 0x7f362c618b80>, <Reaction RHEA_15229 at 0x7f362c618c40>, <Reaction RHEA_15389 at 0x7f362c618100>, <Reaction RHEA_15401 at 0x7f362c6151c0>, <Reaction RHEA_15449 at 0x7f362c615280>, <Reaction RHEA_15465 at 0x7f362c615400>, <Reaction RHEA_15481 at 0x7f362c6154c0>, <Reaction RHEA_15549 at 0x7f362c615580>, <Reaction RHEA_15609 at 0x7f362c6157c0>, <Reaction RHEA_15641 at 0x7f362c615880>, <Reaction RHEA_15653 at 0x7f362c615940>, <Reaction RHEA_15673 at 0x7f362c615a00>, <Reaction RHEA_15753 at 0x7f362c615ac0>, <Reaction RHEA_15773 at 0x7f362c615b80>, <Reaction RHEA_15793 at 0x7f362c615c40>, <Reaction RHEA_15797 at 0x7f362c615d00>, <Reaction RHEA_15841 at 0x7f362c615e80>, <Reaction RHEA_15853 at 0x7f362c615f40>, <Reaction RHEA_15857 at 0x7f362c615fd0>, <Reaction RHEA_15889 at 0x7f362c615100>, <Reaction RHEA_15901 at 0x7f362c6111c0>, <Reaction RHEA_15969 at 0x7f362c611280>, <Reaction RHEA_15973 at 0x7f362c611340>, <Reaction RHEA_15981 at 0x7f362c611400>, <Reaction RHEA_16029 at 0x7f362c611640>, <Reaction RHEA_16037 at 0x7f362c611700>, <Reaction RHEA_16061 at 0x7f362c6117c0>, <Reaction RHEA_16069 at 0x7f362c611940>, <Reaction RHEA_16089 at 0x7f362c611a00>, <Reaction RHEA_16109 at 0x7f362c611b80>, <Reaction RHEA_16117 at 0x7f362c611c40>, <Reaction RHEA_16121 at 0x7f362c611d00>, <Reaction RHEA_16125 at 0x7f362c611dc0>, <Reaction RHEA_16149 at 0x7f362c611e80>, <Reaction RHEA_16169 at 0x7f362c611f40>, <Reaction RHEA_16177 at 0x7f362c611fd0>, <Reaction RHEA_16189 at 0x7f362c611100>, <Reaction RHEA_16297 at 0x7f362c60c1c0>, <Reaction RHEA_16301 at 0x7f362c60c280>, <Reaction RHEA_16305 at 0x7f362c60c340>, <Reaction RHEA_16317 at 0x7f362c60c400>, <Reaction RHEA_16321 at 0x7f362c60c4c0>, <Reaction RHEA_16425 at 0x7f362c60c700>, <Reaction RHEA_16461 at 0x7f362c60c7c0>, <Reaction RHEA_16477 at 0x7f362c60c880>, <Reaction RHEA_16501 at 0x7f362c60c940>, <Reaction RHEA_16609 at 0x7f362c60cb80>, <Reaction RHEA_16645 at 0x7f362c60cc40>, <Reaction RHEA_16669 at 0x7f362c60cd00>, <Reaction RHEA_16689 at 0x7f362c60cdc0>, <Reaction RHEA_16709 at 0x7f362c60cf40>, <Reaction RHEA_16769 at 0x7f362c60c100>, <Reaction RHEA_16825 at 0x7f362c609340>, <Reaction RHEA_16833 at 0x7f362c609400>, <Reaction RHEA_16853 at 0x7f362c609580>, <Reaction RHEA_16869 at 0x7f362c609700>, <Reaction RHEA_16877 at 0x7f362c6097c0>, <Reaction RHEA_16881 at 0x7f362c609880>, <Reaction RHEA_16957 at 0x7f362c609940>, <Reaction RHEA_16989 at 0x7f362c609ac0>, <Reaction RHEA_17041 at 0x7f362c609c40>, <Reaction RHEA_17129 at 0x7f362c609f40>, <Reaction RHEA_17157 at 0x7f362c609100>, <Reaction RHEA_17185 at 0x7f362c606280>, <Reaction RHEA_17237 at 0x7f362c606400>, <Reaction RHEA_17289 at 0x7f362c6064c0>, <Reaction RHEA_17305 at 0x7f362c606580>, <Reaction RHEA_17441 at 0x7f362c606700>, <Reaction RHEA_17453 at 0x7f362c6067c0>, <Reaction RHEA_17485 at 0x7f362c606940>, <Reaction RHEA_17561 at 0x7f362c606a00>, <Reaction RHEA_17593 at 0x7f362c606ac0>, <Reaction RHEA_17617 at 0x7f362c606c40>, <Reaction RHEA_17629 at 0x7f362c606d00>, <Reaction RHEA_17661 at 0x7f362c606e80>, <Reaction RHEA_17765 at 0x7f362c6001c0>, <Reaction RHEA_17785 at 0x7f362c600280>, <Reaction RHEA_17825 at 0x7f362c600340>, <Reaction RHEA_17865 at 0x7f362c600400>, <Reaction RHEA_17869 at 0x7f362c6004c0>, <Reaction RHEA_17889 at 0x7f362c600640>, <Reaction RHEA_17905 at 0x7f362c600700>, <Reaction RHEA_17937 at 0x7f362c6007c0>, <Reaction RHEA_17961 at 0x7f362c600a00>, <Reaction RHEA_17973 at 0x7f362c600ac0>, <Reaction RHEA_18029 at 0x7f362c600c40>, <Reaction RHEA_18093 at 0x7f362c600d00>, <Reaction RHEA_18105 at 0x7f362c600dc0>, <Reaction RHEA_18117 at 0x7f362c600e80>, <Reaction RHEA_18133 at 0x7f362c600f40>, <Reaction RHEA_18157 at 0x7f362c600100>, <Reaction RHEA_18161 at 0x7f362c59c1c0>, <Reaction RHEA_18181 at 0x7f362c59c280>, <Reaction RHEA_18201 at 0x7f362c59c340>, <Reaction RHEA_18245 at 0x7f362c59c400>, <Reaction RHEA_18253 at 0x7f362c59c4c0>, <Reaction RHEA_18257 at 0x7f362c59c580>, <Reaction RHEA_18273 at 0x7f362c59c640>, <Reaction RHEA_18321 at 0x7f362c59c700>, <Reaction RHEA_18353 at 0x7f362c59c7c0>, <Reaction RHEA_18445 at 0x7f362c59cac0>, <Reaction RHEA_18533 at 0x7f362c59cc40>, <Reaction RHEA_18585 at 0x7f362c59ce80>, <Reaction RHEA_18629 at 0x7f362c59cfd0>, <Reaction RHEA_18633 at 0x7f362c59c100>, <Reaction RHEA_18657 at 0x7f362c5991c0>, <Reaction RHEA_18737 at 0x7f362c599280>, <Reaction RHEA_18781 at 0x7f362c599340>, <Reaction RHEA_18793 at 0x7f362c599400>, <Reaction RHEA_18821 at 0x7f362c5994c0>, <Reaction RHEA_18885 at 0x7f362c599580>, <Reaction RHEA_18965 at 0x7f362c599940>, <Reaction RHEA_19069 at 0x7f362c599d00>, <Reaction RHEA_19105 at 0x7f362c599dc0>, <Reaction RHEA_19117 at 0x7f362c599e80>, <Reaction RHEA_19129 at 0x7f362c599f40>, <Reaction RHEA_19141 at 0x7f362c599fd0>, <Reaction RHEA_19169 at 0x7f362c599100>, <Reaction RHEA_19197 at 0x7f362c5941c0>, <Reaction RHEA_19201 at 0x7f362c594280>, <Reaction RHEA_19261 at 0x7f362c594340>, <Reaction RHEA_19273 at 0x7f362c594400>, <Reaction RHEA_19297 at 0x7f362c5944c0>, <Reaction RHEA_19373 at 0x7f362c594700>, <Reaction RHEA_19397 at 0x7f362c594880>, <Reaction RHEA_19433 at 0x7f362c594a00>, <Reaction RHEA_19453 at 0x7f362c594ac0>, <Reaction RHEA_19497 at 0x7f362c594b80>, <Reaction RHEA_19501 at 0x7f362c594c40>, <Reaction RHEA_19513 at 0x7f362c594d00>, <Reaction RHEA_19541 at 0x7f362c594dc0>, <Reaction RHEA_19545 at 0x7f362c594e80>, <Reaction RHEA_19669 at 0x7f362c594100>, <Reaction RHEA_19713 at 0x7f362c5901c0>, <Reaction RHEA_19721 at 0x7f362c590280>, <Reaction RHEA_19793 at 0x7f362c590340>, <Reaction RHEA_19801 at 0x7f362c5904c0>, <Reaction RHEA_19817 at 0x7f362c590580>, <Reaction RHEA_19865 at 0x7f362c590700>, <Reaction RHEA_19873 at 0x7f362c5907c0>, <Reaction RHEA_19889 at 0x7f362c590880>, <Reaction RHEA_19937 at 0x7f362c590940>, <Reaction RHEA_19973 at 0x7f362c590a00>, <Reaction RHEA_19981 at 0x7f362c590ac0>, <Reaction RHEA_19985 at 0x7f362c590b80>, <Reaction RHEA_19989 at 0x7f362c590c40>, <Reaction RHEA_20221 at 0x7f362c590fd0>, <Reaction RHEA_20289 at 0x7f362c58c1c0>, <Reaction RHEA_20309 at 0x7f362c58c280>, <Reaction RHEA_20373 at 0x7f362c58c4c0>, <Reaction RHEA_20377 at 0x7f362c58c580>, <Reaction RHEA_20381 at 0x7f362c58c640>, <Reaction RHEA_20441 at 0x7f362c58c7c0>, <Reaction RHEA_20517 at 0x7f362c58c940>, <Reaction RHEA_20521 at 0x7f362c58ca00>, <Reaction RHEA_20533 at 0x7f362c58cac0>, <Reaction RHEA_20553 at 0x7f362c58cc40>, <Reaction RHEA_20569 at 0x7f362c58cd00>, <Reaction RHEA_20573 at 0x7f362c58cdc0>, <Reaction RHEA_20621 at 0x7f362c58ce80>, <Reaction RHEA_20696 at 0x7f362c58cfd0>, <Reaction RHEA_20780 at 0x7f362c587280>, <Reaction RHEA_20824 at 0x7f362c5874c0>, <Reaction RHEA_20840 at 0x7f362c587580>, <Reaction RHEA_20844 at 0x7f362c587640>, <Reaction RHEA_20940 at 0x7f362c587880>, <Reaction RHEA_20960 at 0x7f362c587940>, <Reaction RHEA_20988 at 0x7f362c587a00>, <Reaction RHEA_21016 at 0x7f362c587ac0>, <Reaction RHEA_21036 at 0x7f362c587b80>, <Reaction RHEA_21080 at 0x7f362c587c40>, <Reaction RHEA_21132 at 0x7f362c587dc0>, <Reaction RHEA_21136 at 0x7f362c587e80>, <Reaction RHEA_21160 at 0x7f362c587f40>, <Reaction RHEA_21208 at 0x7f362c587100>, <Reaction RHEA_21232 at 0x7f362c5841c0>, <Reaction RHEA_21284 at 0x7f362c584280>, <Reaction RHEA_21360 at 0x7f362c584340>, <Reaction RHEA_21380 at 0x7f362c584400>, <Reaction RHEA_21432 at 0x7f362c5844c0>, <Reaction RHEA_21644 at 0x7f362c584640>, <Reaction RHEA_21660 at 0x7f362c584700>, <Reaction RHEA_21700 at 0x7f362c584880>, <Reaction RHEA_21812 at 0x7f362c584a00>, <Reaction RHEA_21824 at 0x7f362c584ac0>, <Reaction RHEA_22044 at 0x7f362c584dc0>, <Reaction RHEA_22108 at 0x7f362c584f40>, <Reaction RHEA_22120 at 0x7f362c584fd0>, <Reaction RHEA_22156 at 0x7f362c584100>, <Reaction RHEA_22168 at 0x7f362c5a01c0>, <Reaction RHEA_22192 at 0x7f362c5a0340>, <Reaction RHEA_22228 at 0x7f362c5a0400>, <Reaction RHEA_22232 at 0x7f362c5a04c0>, <Reaction RHEA_22324 at 0x7f362c5a0580>, <Reaction RHEA_22336 at 0x7f362c5a0640>, <Reaction RHEA_22384 at 0x7f362c5a07c0>, <Reaction RHEA_22600 at 0x7f362c5a0ac0>, <Reaction RHEA_22628 at 0x7f362c5a0c40>, <Reaction RHEA_22636 at 0x7f362c5a0d00>, <Reaction RHEA_22640 at 0x7f362c5a0dc0>, <Reaction RHEA_22716 at 0x7f362c5a0f40>, <Reaction RHEA_22736 at 0x7f362c5a0fd0>, <Reaction RHEA_22812 at 0x7f362c5a5280>, <Reaction RHEA_22824 at 0x7f362c5a5340>, <Reaction RHEA_22852 at 0x7f362c5a5400>, <Reaction RHEA_22860 at 0x7f362c5a54c0>, <Reaction RHEA_22884 at 0x7f362c5a5580>, <Reaction RHEA_22888 at 0x7f362c5a5640>, <Reaction RHEA_22892 at 0x7f362c5a5700>, <Reaction RHEA_22924 at 0x7f362c5a57c0>, <Reaction RHEA_22964 at 0x7f362c5a5a00>, <Reaction RHEA_23032 at 0x7f362c5a5b80>, <Reaction RHEA_23048 at 0x7f362c5a5c40>, <Reaction RHEA_23056 at 0x7f362c5a5d00>, <Reaction RHEA_23176 at 0x7f362c5a5dc0>, <Reaction RHEA_23260 at 0x7f362c5a5e80>, <Reaction RHEA_23336 at 0x7f362c5a5100>, <Reaction RHEA_23352 at 0x7f362c5a81c0>, <Reaction RHEA_23444 at 0x7f362c5a84c0>, <Reaction RHEA_23452 at 0x7f362c5a8580>, <Reaction RHEA_23516 at 0x7f362c5a8640>, <Reaction RHEA_23532 at 0x7f362c5a8700>, <Reaction RHEA_23536 at 0x7f362c5a87c0>, <Reaction RHEA_23592 at 0x7f362c5a8940>, <Reaction RHEA_23596 at 0x7f362c5a8a00>, <Reaction RHEA_23632 at 0x7f362c5a8ac0>, <Reaction RHEA_23660 at 0x7f362c5a8b80>, <Reaction RHEA_23696 at 0x7f362c5a8c40>, <Reaction RHEA_23700 at 0x7f362c5a8d00>, <Reaction RHEA_23720 at 0x7f362c5a8e80>, <Reaction RHEA_23804 at 0x7f362c5a8fd0>, <Reaction RHEA_23820 at 0x7f362c5a8100>, <Reaction RHEA_23884 at 0x7f362c5ad280>, <Reaction RHEA_23916 at 0x7f362c5ad4c0>, <Reaction RHEA_23920 at 0x7f362c5ad580>, <Reaction RHEA_23928 at 0x7f362c5ad640>, <Reaction RHEA_23984 at 0x7f362c5ad700>, <Reaction RHEA_24004 at 0x7f362c5ad7c0>, <Reaction RHEA_24020 at 0x7f362c5ad880>, <Reaction RHEA_24052 at 0x7f362c5adac0>, <Reaction RHEA_24064 at 0x7f362c5adb80>, <Reaction RHEA_24152 at 0x7f362c5adc40>, <Reaction RHEA_24248 at 0x7f362c5addc0>, <Reaction RHEA_24292 at 0x7f362c5ade80>, <Reaction RHEA_24384 at 0x7f362c5b41c0>, <Reaction RHEA_24388 at 0x7f362c5b4280>, <Reaction RHEA_24400 at 0x7f362c5b4340>, <Reaction RHEA_24404 at 0x7f362c5b4400>, <Reaction RHEA_24408 at 0x7f362c5b44c0>, <Reaction RHEA_24424 at 0x7f362c5b4580>, <Reaction RHEA_24504 at 0x7f362c5b4700>, <Reaction RHEA_24508 at 0x7f362c5b47c0>, <Reaction RHEA_24520 at 0x7f362c5b4880>, <Reaction RHEA_24536 at 0x7f362c5b4940>, <Reaction RHEA_24576 at 0x7f362c5b4a00>, <Reaction RHEA_24592 at 0x7f362c5b4ac0>, <Reaction RHEA_24600 at 0x7f362c5b4b80>, <Reaction RHEA_24612 at 0x7f362c5b4c40>, <Reaction RHEA_24616 at 0x7f362c5b4d00>, <Reaction RHEA_24670 at 0x7f362c5b4dc0>, <Reaction RHEA_24674 at 0x7f362c5b4e80>, <Reaction RHEA_24734 at 0x7f362c5b4f40>, <Reaction RHEA_24813 at 0x7f362c5b4100>, <Reaction RHEA_24931 at 0x7f362c5ba340>, <Reaction RHEA_24964 at 0x7f362c5ba400>, <Reaction RHEA_24968 at 0x7f362c5ba4c0>, <Reaction RHEA_24972 at 0x7f362c5ba580>, <Reaction RHEA_25033 at 0x7f362c5ba880>, <Reaction RHEA_25094 at 0x7f362c5ba940>, <Reaction RHEA_25098 at 0x7f362c5baa00>, <Reaction RHEA_25104 at 0x7f362c5baac0>, <Reaction RHEA_25108 at 0x7f362c5bab80>, <Reaction RHEA_25112 at 0x7f362c5bac40>, <Reaction RHEA_25135 at 0x7f362c5bad00>, <Reaction RHEA_25156 at 0x7f362c5bae80>, <Reaction RHEA_25173 at 0x7f362c5bafd0>, <Reaction RHEA_25245 at 0x7f362c7121c0>, <Reaction RHEA_25269 at 0x7f362c712400>, <Reaction RHEA_25277 at 0x7f362c7124c0>, <Reaction RHEA_25290 at 0x7f362c712640>, <Reaction RHEA_25294 at 0x7f362c712700>, <Reaction RHEA_25311 at 0x7f362c7127c0>, <Reaction RHEA_25424 at 0x7f362c712a00>, <Reaction RHEA_25480 at 0x7f362c712ac0>, <Reaction RHEA_25576 at 0x7f362c712d00>, <Reaction RHEA_25792 at 0x7f362c712f40>, <Reaction RHEA_25800 at 0x7f362c712fd0>, <Reaction RHEA_25812 at 0x7f362c70a1c0>, <Reaction RHEA_26043 at 0x7f362c70a340>, <Reaction RHEA_26132 at 0x7f362c70a400>, <Reaction RHEA_26136 at 0x7f362c70a4c0>, <Reaction RHEA_26381 at 0x7f362c70a7c0>, <Reaction RHEA_26393 at 0x7f362c70a940>, <Reaction RHEA_26426 at 0x7f362c70aac0>, <Reaction RHEA_26506 at 0x7f362c70ab80>, <Reaction RHEA_26558 at 0x7f362c70adc0>, <Reaction RHEA_27381 at 0x7f362c70ae80>, <Reaction RHEA_27453 at 0x7f362c70af40>, <Reaction RHEA_27457 at 0x7f362c70afd0>, <Reaction RHEA_27514 at 0x7f362c7021c0>, <Reaction RHEA_27518 at 0x7f362c702280>, <Reaction RHEA_27642 at 0x7f362c702340>, <Reaction RHEA_27682 at 0x7f362c702580>, <Reaction RHEA_27686 at 0x7f362c702640>, <Reaction RHEA_27690 at 0x7f362c702700>, <Reaction RHEA_27714 at 0x7f362c7027c0>, <Reaction RHEA_27718 at 0x7f362c702880>, <Reaction RHEA_27738 at 0x7f362c702940>, <Reaction RHEA_27750 at 0x7f362c702a00>, <Reaction RHEA_27762 at 0x7f362c702ac0>, <Reaction RHEA_27950 at 0x7f362c702d00>, <Reaction RHEA_28002 at 0x7f362c702f40>, <Reaction RHEA_28050 at 0x7f362c702fd0>, <Reaction RHEA_28150 at 0x7f362c73c1c0>, <Reaction RHEA_28190 at 0x7f362c73c280>, <Reaction RHEA_28206 at 0x7f362c73c340>, <Reaction RHEA_28218 at 0x7f362c73c400>, <Reaction RHEA_28270 at 0x7f362c73c4c0>, <Reaction RHEA_28330 at 0x7f362c73c640>, <Reaction RHEA_28486 at 0x7f362c73c7c0>, <Reaction RHEA_28534 at 0x7f362c73c940>, <Reaction RHEA_28574 at 0x7f362c73ca00>, <Reaction RHEA_28578 at 0x7f362c73cac0>, <Reaction RHEA_28695 at 0x7f362c73cd00>, <Reaction RHEA_28699 at 0x7f362c73cdc0>, <Reaction RHEA_28703 at 0x7f362c73ce80>, <Reaction RHEA_28707 at 0x7f362c73cf40>, <Reaction RHEA_28747 at 0x7f362c73cfd0>, <Reaction RHEA_28783 at 0x7f362c73c100>, <Reaction RHEA_28807 at 0x7f362c7321c0>, <Reaction RHEA_28835 at 0x7f362c732280>, <Reaction RHEA_28839 at 0x7f362c732340>, <Reaction RHEA_28887 at 0x7f362c732400>, <Reaction RHEA_28899 at 0x7f362c7324c0>, <Reaction RHEA_28903 at 0x7f362c732580>, <Reaction RHEA_28915 at 0x7f362c732640>, <Reaction RHEA_28943 at 0x7f362c732700>, <Reaction RHEA_28963 at 0x7f362c7327c0>, <Reaction RHEA_28967 at 0x7f362c732880>, <Reaction RHEA_28987 at 0x7f362c732940>, <Reaction RHEA_29007 at 0x7f362c732a00>, <Reaction RHEA_29019 at 0x7f362c732ac0>, <Reaction RHEA_29091 at 0x7f362c732b80>, <Reaction RHEA_29263 at 0x7f362c732c40>, <Reaction RHEA_29267 at 0x7f362c732d00>, <Reaction RHEA_29275 at 0x7f362c732dc0>, <Reaction RHEA_29283 at 0x7f362c732e80>, <Reaction RHEA_29303 at 0x7f362c732f40>, <Reaction RHEA_29315 at 0x7f362c732fd0>, <Reaction RHEA_29327 at 0x7f362c732100>, <Reaction RHEA_29351 at 0x7f362c72b1c0>, <Reaction RHEA_29359 at 0x7f362c72b280>, <Reaction RHEA_29363 at 0x7f362c72b340>, <Reaction RHEA_29367 at 0x7f362c72b400>, <Reaction RHEA_29371 at 0x7f362c72b4c0>, <Reaction RHEA_29375 at 0x7f362c72b580>, <Reaction RHEA_29379 at 0x7f362c72b640>, <Reaction RHEA_29383 at 0x7f362c72b700>, <Reaction RHEA_29387 at 0x7f362c72b7c0>, <Reaction RHEA_29391 at 0x7f362c72b880>, <Reaction RHEA_29395 at 0x7f362c72b940>, <Reaction RHEA_29399 at 0x7f362c72ba00>, <Reaction RHEA_29415 at 0x7f362c72bac0>, <Reaction RHEA_29419 at 0x7f362c72bb80>, <Reaction RHEA_29439 at 0x7f362c72bc40>, <Reaction RHEA_29443 at 0x7f362c72bd00>, <Reaction RHEA_29455 at 0x7f362c72bdc0>, <Reaction RHEA_29459 at 0x7f362c72be80>, <Reaction RHEA_29463 at 0x7f362c72bf40>, <Reaction RHEA_29467 at 0x7f362c72bfd0>, <Reaction RHEA_29567 at 0x7f362c725700>, <Reaction RHEA_29575 at 0x7f362c7257c0>, <Reaction RHEA_29655 at 0x7f362c725b80>, <Reaction RHEA_29667 at 0x7f362c725c40>, <Reaction RHEA_29671 at 0x7f362c725d00>, <Reaction RHEA_29703 at 0x7f362c725dc0>, <Reaction RHEA_29823 at 0x7f362c725e80>, <Reaction RHEA_29827 at 0x7f362c725f40>, <Reaction RHEA_29831 at 0x7f362c725fd0>, <Reaction RHEA_29939 at 0x7f362c71d1c0>, <Reaction RHEA_29999 at 0x7f362c71d340>, <Reaction RHEA_30083 at 0x7f362c71d400>, <Reaction RHEA_30135 at 0x7f362c71d4c0>, <Reaction RHEA_30139 at 0x7f362c71d580>, <Reaction RHEA_30143 at 0x7f362c71d640>, <Reaction RHEA_30235 at 0x7f362c71d7c0>, <Reaction RHEA_30403 at 0x7f362c71d940>, <Reaction RHEA_30683 at 0x7f362c71ddc0>, <Reaction RHEA_30751 at 0x7f362c71dfd0>, <Reaction RHEA_30799 at 0x7f362c71d100>, <Reaction RHEA_30851 at 0x7f362c7161c0>, <Reaction RHEA_31055 at 0x7f362c716280>, <Reaction RHEA_31091 at 0x7f362c716640>, <Reaction RHEA_31159 at 0x7f362c716940>, <Reaction RHEA_31163 at 0x7f362c716a00>, <Reaction RHEA_31187 at 0x7f362c716dc0>, <Reaction RHEA_31191 at 0x7f362c716e80>, <Reaction RHEA_31195 at 0x7f362c716f40>, <Reaction RHEA_31199 at 0x7f362c716fd0>, <Reaction RHEA_31511 at 0x7f362c7fb580>, <Reaction RHEA_31563 at 0x7f362c7fb640>, <Reaction RHEA_31775 at 0x7f362c7fb880>, <Reaction RHEA_32039 at 0x7f362c7fba00>, <Reaction RHEA_32131 at 0x7f362c7fbdc0>, <Reaction RHEA_32139 at 0x7f362c7fbe80>, <Reaction RHEA_32143 at 0x7f362c7fbf40>, <Reaction RHEA_32295 at 0x7f362c7f3280>, <Reaction RHEA_32299 at 0x7f362c7f3340>, <Reaction RHEA_32307 at 0x7f362c7f3400>, <Reaction RHEA_32359 at 0x7f362c7f34c0>, <Reaction RHEA_32479 at 0x7f362c7f3580>, <Reaction RHEA_32487 at 0x7f362c7f3640>, <Reaction RHEA_32675 at 0x7f362c7f37c0>, <Reaction RHEA_32751 at 0x7f362c7f3880>, <Reaction RHEA_32799 at 0x7f362c7f3940>, <Reaction RHEA_32823 at 0x7f362c7f3a00>, <Reaction RHEA_32867 at 0x7f362c7f3ac0>, <Reaction RHEA_32903 at 0x7f362c7f3d00>, <Reaction RHEA_32963 at 0x7f362c7f3dc0>, <Reaction RHEA_33067 at 0x7f362c7f3f40>, <Reaction RHEA_33099 at 0x7f362c7f3fd0>, <Reaction RHEA_33183 at 0x7f362c7eb1c0>, <Reaction RHEA_33187 at 0x7f362c7eb280>, <Reaction RHEA_33447 at 0x7f362c7eb580>, <Reaction RHEA_33455 at 0x7f362c7eb640>, <Reaction RHEA_33507 at 0x7f362c7eb7c0>, <Reaction RHEA_33563 at 0x7f362c7eb880>, <Reaction RHEA_33607 at 0x7f362c7eba00>, <Reaction RHEA_33615 at 0x7f362c7ebac0>, <Reaction RHEA_33619 at 0x7f362c7ebb80>, <Reaction RHEA_33623 at 0x7f362c7ebc40>, <Reaction RHEA_33627 at 0x7f362c7ebd00>, <Reaction RHEA_33631 at 0x7f362c7ebdc0>, <Reaction RHEA_33639 at 0x7f362c7ebe80>, <Reaction RHEA_33647 at 0x7f362c7ebf40>, <Reaction RHEA_33651 at 0x7f362c7ebfd0>, <Reaction RHEA_33655 at 0x7f362c7eb100>, <Reaction RHEA_33875 at 0x7f362c7e4340>, <Reaction RHEA_34287 at 0x7f362c7e47c0>, <Reaction RHEA_34335 at 0x7f362c7e4880>, <Reaction RHEA_34915 at 0x7f362c7e4d00>, <Reaction RHEA_34923 at 0x7f362c7e4e80>, <Reaction RHEA_34935 at 0x7f362c7e4f40>, <Reaction RHEA_34959 at 0x7f362c7e4fd0>, <Reaction RHEA_34963 at 0x7f362c7e4100>, <Reaction RHEA_34979 at 0x7f362c7dc1c0>, <Reaction RHEA_34983 at 0x7f362c7dc280>, <Reaction RHEA_34991 at 0x7f362c7dc340>, <Reaction RHEA_34999 at 0x7f362c7dc400>, <Reaction RHEA_35015 at 0x7f362c7dc4c0>, <Reaction RHEA_35031 at 0x7f362c7dc580>, <Reaction RHEA_35035 at 0x7f362c7dc640>, <Reaction RHEA_35039 at 0x7f362c7dc700>, <Reaction RHEA_35207 at 0x7f362c7dc880>, <Reaction RHEA_35279 at 0x7f362c7dcb80>, <Reaction RHEA_35315 at 0x7f362c7dcc40>, <Reaction RHEA_35351 at 0x7f362c7dce80>, <Reaction RHEA_35603 at 0x7f362c7d41c0>, <Reaction RHEA_35723 at 0x7f362c7d4580>, <Reaction RHEA_35847 at 0x7f362c7d4700>, <Reaction RHEA_35851 at 0x7f362c7d47c0>, <Reaction RHEA_35879 at 0x7f362c7d4d00>, <Reaction RHEA_35891 at 0x7f362c7d4f40>, <Reaction RHEA_35895 at 0x7f362c7d4fd0>, <Reaction RHEA_35903 at 0x7f362c7cf1c0>, <Reaction RHEA_35983 at 0x7f362c7cf400>, <Reaction RHEA_35987 at 0x7f362c7cf4c0>, <Reaction RHEA_35991 at 0x7f362c7cf580>, <Reaction RHEA_35995 at 0x7f362c7cf640>, <Reaction RHEA_35999 at 0x7f362c7cf700>, <Reaction RHEA_36015 at 0x7f362c7cf7c0>, <Reaction RHEA_36023 at 0x7f362c7cf880>, <Reaction RHEA_36087 at 0x7f362c7cf940>, <Reaction RHEA_36135 at 0x7f362c7cfa00>, <Reaction RHEA_36139 at 0x7f362c7cfac0>, <Reaction RHEA_36143 at 0x7f362c7cfb80>, <Reaction RHEA_36163 at 0x7f362c7cfc40>, <Reaction RHEA_36391 at 0x7f362c7cf100>, <Reaction RHEA_36539 at 0x7f362c7c5d00>, <Reaction RHEA_36547 at 0x7f362c7c5dc0>, <Reaction RHEA_36575 at 0x7f362c7c5fd0>, <Reaction RHEA_36687 at 0x7f362c782580>, <Reaction RHEA_36691 at 0x7f362c782640>, <Reaction RHEA_36835 at 0x7f362c782940>, <Reaction RHEA_36943 at 0x7f362c788340>, <Reaction RHEA_37115 at 0x7f362c788ac0>, <Reaction RHEA_37131 at 0x7f362c788b80>, <Reaction RHEA_37159 at 0x7f362c788100>, <Reaction RHEA_37163 at 0x7f362c7901c0>, <Reaction RHEA_37195 at 0x7f362c790640>, <Reaction RHEA_37199 at 0x7f362c790700>, <Reaction RHEA_37387 at 0x7f362c790e80>, <Reaction RHEA_37407 at 0x7f362c797280>, <Reaction RHEA_37459 at 0x7f362c797700>, <Reaction RHEA_37463 at 0x7f362c7977c0>, <Reaction RHEA_37467 at 0x7f362c797880>, <Reaction RHEA_37475 at 0x7f362c797940>, <Reaction RHEA_37479 at 0x7f362c797a00>, <Reaction RHEA_37499 at 0x7f362c797d00>, <Reaction RHEA_37519 at 0x7f362c797fd0>, <Reaction RHEA_37527 at 0x7f362c79e1c0>, <Reaction RHEA_37531 at 0x7f362c79e280>, <Reaction RHEA_37647 at 0x7f362c79e940>, <Reaction RHEA_37651 at 0x7f362c79ea00>, <Reaction RHEA_37699 at 0x7f362c79eb80>, <Reaction RHEA_37703 at 0x7f362c79ec40>, <Reaction RHEA_37707 at 0x7f362c79ed00>, <Reaction RHEA_37719 at 0x7f362c79edc0>, <Reaction RHEA_37783 at 0x7f362c79efd0>, <Reaction RHEA_37787 at 0x7f362c79e100>, <Reaction RHEA_37811 at 0x7f362c7a71c0>, <Reaction RHEA_37911 at 0x7f362c7a7700>, <Reaction RHEA_37915 at 0x7f362c7a77c0>, <Reaction RHEA_38071 at 0x7f362c7a7fd0>, <Reaction RHEA_38115 at 0x7f362c7ae1c0>, <Reaction RHEA_38119 at 0x7f362c7ae280>, <Reaction RHEA_38123 at 0x7f362c7ae340>, <Reaction RHEA_38127 at 0x7f362c7ae400>, <Reaction RHEA_38131 at 0x7f362c7ae4c0>, <Reaction RHEA_38139 at 0x7f362c7ae640>, <Reaction RHEA_38175 at 0x7f362c7ae940>, <Reaction RHEA_38199 at 0x7f362c7aea00>, <Reaction RHEA_38203 at 0x7f362c7aeac0>, <Reaction RHEA_38207 at 0x7f362c7aeb80>, <Reaction RHEA_38215 at 0x7f362c7aed00>, <Reaction RHEA_38219 at 0x7f362c7aedc0>, <Reaction RHEA_38299 at 0x7f362c7b4580>, <Reaction RHEA_38323 at 0x7f362c7b4700>, <Reaction RHEA_38327 at 0x7f362c7b47c0>, <Reaction RHEA_38331 at 0x7f362c7b4880>, <Reaction RHEA_38359 at 0x7f362c7b4940>, <Reaction RHEA_38363 at 0x7f362c7b4a00>, <Reaction RHEA_38379 at 0x7f362c7b4ac0>, <Reaction RHEA_38387 at 0x7f362c7b4c40>, <Reaction RHEA_38391 at 0x7f362c7b4d00>, <Reaction RHEA_38399 at 0x7f362c7b4e80>, <Reaction RHEA_38427 at 0x7f362c7bb400>, <Reaction RHEA_38435 at 0x7f362c7bb580>, <Reaction RHEA_38439 at 0x7f362c7bb640>, <Reaction RHEA_38487 at 0x7f362c7bb700>, <Reaction RHEA_38491 at 0x7f362c7bb7c0>, <Reaction RHEA_38507 at 0x7f362c7bb880>, <Reaction RHEA_38511 at 0x7f362c7bb940>, <Reaction RHEA_38563 at 0x7f362c7bbe80>, <Reaction RHEA_38599 at 0x7f362c7bbf40>, <Reaction RHEA_38603 at 0x7f362c7bbfd0>, <Reaction RHEA_38607 at 0x7f362c7bb100>, <Reaction RHEA_38611 at 0x7f362c7421c0>, <Reaction RHEA_38615 at 0x7f362c742280>, <Reaction RHEA_38647 at 0x7f362c742400>, <Reaction RHEA_38651 at 0x7f362c7424c0>, <Reaction RHEA_38659 at 0x7f362c742580>, <Reaction RHEA_38667 at 0x7f362c742640>, <Reaction RHEA_38671 at 0x7f362c742700>, <Reaction RHEA_38675 at 0x7f362c7427c0>, <Reaction RHEA_38703 at 0x7f362c742880>, <Reaction RHEA_38755 at 0x7f362c742940>, <Reaction RHEA_38759 at 0x7f362c742a00>, <Reaction RHEA_38763 at 0x7f362c742ac0>, <Reaction RHEA_38767 at 0x7f362c742b80>, <Reaction RHEA_38771 at 0x7f362c742c40>, <Reaction RHEA_38775 at 0x7f362c742d00>, <Reaction RHEA_38779 at 0x7f362c742dc0>, <Reaction RHEA_38783 at 0x7f362c742e80>, <Reaction RHEA_38795 at 0x7f362c742fd0>, <Reaction RHEA_38799 at 0x7f362c742100>, <Reaction RHEA_38807 at 0x7f362c749280>, <Reaction RHEA_38811 at 0x7f362c749340>, <Reaction RHEA_38815 at 0x7f362c749400>, <Reaction RHEA_38823 at 0x7f362c749580>, <Reaction RHEA_38827 at 0x7f362c749640>, <Reaction RHEA_38831 at 0x7f362c749700>, <Reaction RHEA_38835 at 0x7f362c7497c0>, <Reaction RHEA_38839 at 0x7f362c749880>, <Reaction RHEA_38843 at 0x7f362c749940>, <Reaction RHEA_38891 at 0x7f362c749a00>, <Reaction RHEA_38915 at 0x7f362c749ac0>, <Reaction RHEA_38919 at 0x7f362c749b80>, <Reaction RHEA_38927 at 0x7f362c749c40>, <Reaction RHEA_38951 at 0x7f362c749e80>, <Reaction RHEA_38963 at 0x7f362c749f40>, <Reaction RHEA_38971 at 0x7f362c749fd0>, <Reaction RHEA_38975 at 0x7f362c749100>, <Reaction RHEA_38979 at 0x7f362c7531c0>, <Reaction RHEA_38983 at 0x7f362c753280>, <Reaction RHEA_39015 at 0x7f362c753400>, <Reaction RHEA_39043 at 0x7f362c7534c0>, <Reaction RHEA_39051 at 0x7f362c753640>, <Reaction RHEA_39103 at 0x7f362c753880>, <Reaction RHEA_39131 at 0x7f362c753ac0>, <Reaction RHEA_39151 at 0x7f362c753b80>, <Reaction RHEA_39155 at 0x7f362c753c40>, <Reaction RHEA_39159 at 0x7f362c753d00>, <Reaction RHEA_39167 at 0x7f362c753dc0>, <Reaction RHEA_39747 at 0x7f362c75ab80>, <Reaction RHEA_39795 at 0x7f362c7601c0>, <Reaction RHEA_39835 at 0x7f362c760640>, <Reaction RHEA_39931 at 0x7f362c7607c0>, <Reaction RHEA_39939 at 0x7f362c760880>, <Reaction RHEA_39951 at 0x7f362c760940>, <Reaction RHEA_39959 at 0x7f362c760a00>, <Reaction RHEA_40035 at 0x7f362c760c40>, <Reaction RHEA_40039 at 0x7f362c760d00>, <Reaction RHEA_40043 at 0x7f362c760dc0>, <Reaction RHEA_40059 at 0x7f362c760f40>, <Reaction RHEA_40103 at 0x7f362c768280>, <Reaction RHEA_40111 at 0x7f362c768400>, <Reaction RHEA_40115 at 0x7f362c7684c0>, <Reaction RHEA_40119 at 0x7f362c768580>, <Reaction RHEA_40131 at 0x7f362c768640>, <Reaction RHEA_40139 at 0x7f362c7687c0>, <Reaction RHEA_40143 at 0x7f362c768880>, <Reaction RHEA_40147 at 0x7f362c768940>, <Reaction RHEA_40151 at 0x7f362c768a00>, <Reaction RHEA_40167 at 0x7f362c768b80>, <Reaction RHEA_40171 at 0x7f362c768c40>, <Reaction RHEA_40175 at 0x7f362c768d00>, <Reaction RHEA_40179 at 0x7f362c768dc0>, <Reaction RHEA_40183 at 0x7f362c768e80>, <Reaction RHEA_40187 at 0x7f362c768f40>, <Reaction RHEA_40191 at 0x7f362c768fd0>, <Reaction RHEA_40219 at 0x7f362c76f340>, <Reaction RHEA_40243 at 0x7f362c76f580>, <Reaction RHEA_40255 at 0x7f362c76f640>, <Reaction RHEA_40259 at 0x7f362c76f700>, <Reaction RHEA_40263 at 0x7f362c76f7c0>, <Reaction RHEA_40267 at 0x7f362c76f880>, <Reaction RHEA_40311 at 0x7f362c76fac0>, <Reaction RHEA_40319 at 0x7f362c76fc40>, <Reaction RHEA_40323 at 0x7f362c76fd00>, <Reaction RHEA_40327 at 0x7f362c76fdc0>, <Reaction RHEA_40335 at 0x7f362c76ff40>, <Reaction RHEA_40339 at 0x7f362c76ffd0>, <Reaction RHEA_40351 at 0x7f362c7761c0>, <Reaction RHEA_40355 at 0x7f362c776280>, <Reaction RHEA_40359 at 0x7f362c776340>, <Reaction RHEA_40415 at 0x7f362c776b80>, <Reaction RHEA_40419 at 0x7f362c776c40>, <Reaction RHEA_40427 at 0x7f362c776d00>, <Reaction RHEA_40431 at 0x7f362c776dc0>, <Reaction RHEA_40435 at 0x7f362c776e80>, <Reaction RHEA_40451 at 0x7f362c776f40>, <Reaction RHEA_40479 at 0x7f362c77f340>, <Reaction RHEA_40487 at 0x7f362c77f4c0>, <Reaction RHEA_40491 at 0x7f362c77f580>, <Reaction RHEA_40499 at 0x7f362c77f640>, <Reaction RHEA_40519 at 0x7f362c77f700>, <Reaction RHEA_40571 at 0x7f362c77f7c0>, <Reaction RHEA_40575 at 0x7f362c77f880>, <Reaction RHEA_40791 at 0x7f362c6c61c0>, <Reaction RHEA_40795 at 0x7f362c6c6280>, <Reaction RHEA_40799 at 0x7f362c6c6340>, <Reaction RHEA_40807 at 0x7f362c6c6400>, <Reaction RHEA_40811 at 0x7f362c6c64c0>, <Reaction RHEA_40815 at 0x7f362c6c6580>, <Reaction RHEA_40819 at 0x7f362c6c6640>, <Reaction RHEA_40823 at 0x7f362c6c6700>, <Reaction RHEA_40831 at 0x7f362c6c6880>, <Reaction RHEA_40879 at 0x7f362c6c6940>, <Reaction RHEA_40887 at 0x7f362c6c6a00>, <Reaction RHEA_40891 at 0x7f362c6c6ac0>, <Reaction RHEA_40895 at 0x7f362c6c6b80>, <Reaction RHEA_40899 at 0x7f362c6c6c40>, <Reaction RHEA_40903 at 0x7f362c6c6d00>, <Reaction RHEA_40907 at 0x7f362c6c6dc0>, <Reaction RHEA_40911 at 0x7f362c6c6e80>, <Reaction RHEA_40915 at 0x7f362c6c6f40>, <Reaction RHEA_40919 at 0x7f362c6c6fd0>, <Reaction RHEA_40923 at 0x7f362c6c6100>, <Reaction RHEA_40927 at 0x7f362c6cc1c0>, <Reaction RHEA_40943 at 0x7f362c6cc280>, <Reaction RHEA_40959 at 0x7f362c6cc340>, <Reaction RHEA_40971 at 0x7f362c6cc400>, <Reaction RHEA_40975 at 0x7f362c6cc4c0>, <Reaction RHEA_40979 at 0x7f362c6cc580>, <Reaction RHEA_40999 at 0x7f362c6cc700>, <Reaction RHEA_41003 at 0x7f362c6cc7c0>, <Reaction RHEA_41063 at 0x7f362c6cc880>, <Reaction RHEA_41067 at 0x7f362c6cc940>, <Reaction RHEA_41075 at 0x7f362c6ccac0>, <Reaction RHEA_41079 at 0x7f362c6ccb80>, <Reaction RHEA_41091 at 0x7f362c6ccd00>, <Reaction RHEA_41095 at 0x7f362c6ccdc0>, <Reaction RHEA_41099 at 0x7f362c6cce80>, <Reaction RHEA_41119 at 0x7f362c6d3280>, <Reaction RHEA_41123 at 0x7f362c6d3340>, <Reaction RHEA_41139 at 0x7f362c6d3640>, <Reaction RHEA_41183 at 0x7f362c6d3b80>, <Reaction RHEA_41203 at 0x7f362c6d3f40>, <Reaction RHEA_41215 at 0x7f362c6d3fd0>, <Reaction RHEA_41219 at 0x7f362c6d3100>, <Reaction RHEA_41223 at 0x7f362c6da1c0>, <Reaction RHEA_41231 at 0x7f362c6da280>, <Reaction RHEA_41255 at 0x7f362c6da400>, <Reaction RHEA_41275 at 0x7f362c6da700>, <Reaction RHEA_41279 at 0x7f362c6da7c0>, <Reaction RHEA_41283 at 0x7f362c6da880>, <Reaction RHEA_41336 at 0x7f362c6e11c0>, <Reaction RHEA_41348 at 0x7f362c6e1400>, <Reaction RHEA_41408 at 0x7f362c6e1880>, <Reaction RHEA_41412 at 0x7f362c6e1940>, <Reaction RHEA_41416 at 0x7f362c6e1a00>, <Reaction RHEA_41436 at 0x7f362c6e1ac0>, <Reaction RHEA_41484 at 0x7f362c6e1b80>, <Reaction RHEA_41672 at 0x7f362c6ea400>, <Reaction RHEA_41676 at 0x7f362c6ea4c0>, <Reaction RHEA_41704 at 0x7f362c6ea940>, <Reaction RHEA_41752 at 0x7f362c6eac40>, <Reaction RHEA_41992 at 0x7f362c6ea100>, <Reaction RHEA_42028 at 0x7f362c6f1640>, <Reaction RHEA_42036 at 0x7f362c6f1700>, <Reaction RHEA_42052 at 0x7f362c6f17c0>, <Reaction RHEA_42056 at 0x7f362c6f1880>, <Reaction RHEA_42060 at 0x7f362c6f1940>, <Reaction RHEA_42064 at 0x7f362c6f1a00>, <Reaction RHEA_42080 at 0x7f362c6f1ac0>, <Reaction RHEA_42088 at 0x7f362c6f1c40>, <Reaction RHEA_42108 at 0x7f362c6f1dc0>, <Reaction RHEA_42112 at 0x7f362c6f1e80>, <Reaction RHEA_42116 at 0x7f362c6f1f40>, <Reaction RHEA_42120 at 0x7f362c6f1fd0>, <Reaction RHEA_42124 at 0x7f362c6f1100>, <Reaction RHEA_42156 at 0x7f362c6f61c0>, <Reaction RHEA_42184 at 0x7f362c6f6340>, <Reaction RHEA_42188 at 0x7f362c6f6400>, <Reaction RHEA_42200 at 0x7f362c6f64c0>, <Reaction RHEA_42204 at 0x7f362c6f6580>, <Reaction RHEA_42284 at 0x7f362c6f6880>, <Reaction RHEA_42312 at 0x7f362c6f6ac0>, <Reaction RHEA_42588 at 0x7f362c6f6d00>, <Reaction RHEA_42592 at 0x7f362c6f6dc0>, <Reaction RHEA_42604 at 0x7f362c6f6f40>, <Reaction RHEA_42796 at 0x7f362c6f6100>, <Reaction RHEA_42816 at 0x7f362c6ff280>, <Reaction RHEA_42860 at 0x7f362c6ff400>, <Reaction RHEA_43236 at 0x7f362c6ff7c0>, <Reaction RHEA_43240 at 0x7f362c6ff880>, <Reaction RHEA_43244 at 0x7f362c6ff940>, <Reaction RHEA_43248 at 0x7f362c6ffa00>, <Reaction RHEA_43260 at 0x7f362c6ffc40>, <Reaction RHEA_43280 at 0x7f362c6ffdc0>, <Reaction RHEA_43288 at 0x7f362c6fff40>, <Reaction RHEA_43292 at 0x7f362c6fffd0>, <Reaction RHEA_43296 at 0x7f362c6ff100>, <Reaction RHEA_43308 at 0x7f362c6871c0>, <Reaction RHEA_43316 at 0x7f362c687340>, <Reaction RHEA_43328 at 0x7f362c687400>, <Reaction RHEA_43348 at 0x7f362c6874c0>, <Reaction RHEA_43352 at 0x7f362c687580>, <Reaction RHEA_43356 at 0x7f362c687640>, <Reaction RHEA_43388 at 0x7f362c687700>, <Reaction RHEA_43392 at 0x7f362c6877c0>, <Reaction RHEA_43416 at 0x7f362c687ac0>, <Reaction RHEA_43424 at 0x7f362c687c40>, <Reaction RHEA_43428 at 0x7f362c687d00>, <Reaction RHEA_43440 at 0x7f362c687dc0>, <Reaction RHEA_43448 at 0x7f362c687f40>, <Reaction RHEA_43464 at 0x7f362c687100>, <Reaction RHEA_43552 at 0x7f362c68d580>, <Reaction RHEA_43672 at 0x7f362c68d7c0>, <Reaction RHEA_43740 at 0x7f362c68da00>, <Reaction RHEA_43748 at 0x7f362c68dac0>, <Reaction RHEA_43764 at 0x7f362c68db80>, <Reaction RHEA_43816 at 0x7f362c68dd00>, <Reaction RHEA_43856 at 0x7f362c68de80>, <Reaction RHEA_43860 at 0x7f362c68df40>, <Reaction RHEA_43864 at 0x7f362c68dfd0>, <Reaction RHEA_43904 at 0x7f362c6951c0>, <Reaction RHEA_43924 at 0x7f362c695340>, <Reaction RHEA_43928 at 0x7f362c695400>, <Reaction RHEA_43932 at 0x7f362c6954c0>, <Reaction RHEA_43936 at 0x7f362c695580>, <Reaction RHEA_43968 at 0x7f362c695640>, <Reaction RHEA_44100 at 0x7f362c695c40>, <Reaction RHEA_44312 at 0x7f362c695100>, <Reaction RHEA_44316 at 0x7f362c69c1c0>, <Reaction RHEA_44528 at 0x7f362c69c940>, <Reaction RHEA_44552 at 0x7f362c69cac0>, <Reaction RHEA_44728 at 0x7f362c69cdc0>, <Reaction RHEA_44872 at 0x7f362c6a4580>, <Reaction RHEA_44932 at 0x7f362c6a47c0>, <Reaction RHEA_44952 at 0x7f362c6a4940>, <Reaction RHEA_44956 at 0x7f362c6a4a00>, <Reaction RHEA_44960 at 0x7f362c6a4ac0>, <Reaction RHEA_44964 at 0x7f362c6a4b80>, <Reaction RHEA_44968 at 0x7f362c6a4c40>, <Reaction RHEA_44976 at 0x7f362c6a4dc0>, <Reaction RHEA_44980 at 0x7f362c6a4e80>, <Reaction RHEA_45008 at 0x7f362c6ab400>, <Reaction RHEA_45060 at 0x7f362c6ab4c0>, <Reaction RHEA_45064 at 0x7f362c6ab580>, <Reaction RHEA_45128 at 0x7f362c6ab940>, <Reaction RHEA_45132 at 0x7f362c6aba00>, <Reaction RHEA_45164 at 0x7f362c6abac0>, <Reaction RHEA_45176 at 0x7f362c6abc40>, <Reaction RHEA_45248 at 0x7f362c6abf40>, <Reaction RHEA_45256 at 0x7f362c6ab100>, <Reaction RHEA_45260 at 0x7f362c6b21c0>, <Reaction RHEA_45264 at 0x7f362c6b2280>, <Reaction RHEA_45284 at 0x7f362c6b2580>, <Reaction RHEA_45304 at 0x7f362c6b2700>, <Reaction RHEA_45312 at 0x7f362c6b2880>, <Reaction RHEA_45372 at 0x7f362c6b2fd0>, <Reaction RHEA_45384 at 0x7f362c6b8280>, <Reaction RHEA_45396 at 0x7f362c6b84c0>, <Reaction RHEA_45400 at 0x7f362c6b8580>, <Reaction RHEA_45424 at 0x7f362c6b8880>, <Reaction RHEA_45428 at 0x7f362c6b8940>, <Reaction RHEA_45432 at 0x7f362c6b8a00>, <Reaction RHEA_45436 at 0x7f362c6b8ac0>, <Reaction RHEA_45472 at 0x7f362c6b8f40>, <Reaction RHEA_45476 at 0x7f362c6b8fd0>, <Reaction RHEA_45528 at 0x7f362c6b8100>, <Reaction RHEA_45532 at 0x7f362c5411c0>, <Reaction RHEA_45536 at 0x7f362c541280>, <Reaction RHEA_45540 at 0x7f362c541340>, <Reaction RHEA_45544 at 0x7f362c541400>, <Reaction RHEA_45644 at 0x7f362c541dc0>, <Reaction RHEA_45680 at 0x7f362c5484c0>, <Reaction RHEA_45720 at 0x7f362c548640>, <Reaction RHEA_45832 at 0x7f362c548940>, <Reaction RHEA_45992 at 0x7f362c548a00>, <Reaction RHEA_46040 at 0x7f362c548ac0>, <Reaction RHEA_46112 at 0x7f362c54e280>, <Reaction RHEA_46124 at 0x7f362c54e400>, <Reaction RHEA_46132 at 0x7f362c54e580>, <Reaction RHEA_46140 at 0x7f362c54e640>, <Reaction RHEA_46172 at 0x7f362c54e7c0>, <Reaction RHEA_46176 at 0x7f362c54e880>, <Reaction RHEA_46208 at 0x7f362c54ed00>, <Reaction RHEA_46220 at 0x7f362c54ee80>, <Reaction RHEA_46308 at 0x7f362c5571c0>, <Reaction RHEA_46340 at 0x7f362c557280>, <Reaction RHEA_46380 at 0x7f362c557400>, <Reaction RHEA_46488 at 0x7f362c557dc0>, <Reaction RHEA_46492 at 0x7f362c557e80>, <Reaction RHEA_46496 at 0x7f362c557f40>, <Reaction RHEA_46588 at 0x7f362c55f280>, <Reaction RHEA_46628 at 0x7f362c55f580>, <Reaction RHEA_46680 at 0x7f362c55fdc0>, <Reaction RHEA_46828 at 0x7f362c565340>, <Reaction RHEA_46848 at 0x7f362c5654c0>, <Reaction RHEA_47100 at 0x7f362c565880>, <Reaction RHEA_47160 at 0x7f362c565dc0>, <Reaction RHEA_47164 at 0x7f362c565e80>, <Reaction RHEA_47168 at 0x7f362c565f40>, <Reaction RHEA_47172 at 0x7f362c565fd0>, <Reaction RHEA_47224 at 0x7f362c56f640>, <Reaction RHEA_47232 at 0x7f362c56f7c0>, <Reaction RHEA_47240 at 0x7f362c56f940>, <Reaction RHEA_47264 at 0x7f362c56fc40>, <Reaction RHEA_47296 at 0x7f362c56f100>, <Reaction RHEA_47540 at 0x7f362c575dc0>, <Reaction RHEA_47724 at 0x7f362c575f40>, <Reaction RHEA_47992 at 0x7f362c57b280>, <Reaction RHEA_48176 at 0x7f362c57b700>, <Reaction RHEA_48180 at 0x7f362c57b7c0>, <Reaction RHEA_48428 at 0x7f362c503340>, <Reaction RHEA_48616 at 0x7f362c503580>, <Reaction RHEA_48636 at 0x7f362c503880>, <Reaction RHEA_48868 at 0x7f362c50c880>, <Reaction RHEA_49064 at 0x7f362c50cb80>, <Reaction RHEA_49068 at 0x7f362c50cc40>, <Reaction RHEA_49092 at 0x7f362c50cd00>, <Reaction RHEA_49196 at 0x7f362c50cf40>, <Reaction RHEA_49612 at 0x7f362c5127c0>, <Reaction RHEA_49784 at 0x7f362c512a00>, <Reaction RHEA_49856 at 0x7f362c512dc0>, <Reaction RHEA_49860 at 0x7f362c512e80>, <Reaction RHEA_49876 at 0x7f362c512f40>, <Reaction RHEA_49880 at 0x7f362c512fd0>, <Reaction RHEA_49908 at 0x7f362c51a1c0>, <Reaction RHEA_49912 at 0x7f362c51a280>, <Reaction RHEA_49916 at 0x7f362c51a340>, <Reaction RHEA_50048 at 0x7f362c51af40>, <Reaction RHEA_50052 at 0x7f362c51afd0>, <Reaction RHEA_50056 at 0x7f362c51a100>, <Reaction RHEA_50060 at 0x7f35c68fb910>, <Reaction RHEA_50064 at 0x7f362c5221c0>, <Reaction RHEA_50068 at 0x7f362c522280>, <Reaction RHEA_50072 at 0x7f362c522100>, <Reaction RHEA_50080 at 0x7f362c5224c0>, <Reaction RHEA_50084 at 0x7f362c522550>, <Reaction RHEA_50152 at 0x7f362c5228b0>, <Reaction RHEA_50208 at 0x7f362c522ee0>, <Reaction RHEA_50236 at 0x7f362c52b0d0>, <Reaction RHEA_50244 at 0x7f362c52b160>, <Reaction RHEA_50248 at 0x7f362c52b1f0>, <Reaction RHEA_50256 at 0x7f362c52b280>, <Reaction RHEA_50816 at 0x7f362c5338b0>, <Reaction RHEA_50924 at 0x7f362c533d30>, <Reaction RHEA_50932 at 0x7f362c533e50>, <Reaction RHEA_50976 at 0x7f362c533ee0>, <Reaction RHEA_50988 at 0x7f362c53c0d0>, <Reaction RHEA_50992 at 0x7f362c53c160>, <Reaction RHEA_51168 at 0x7f362c53c790>, <Reaction RHEA_51216 at 0x7f362c53c9d0>, <Reaction RHEA_51272 at 0x7f362c53cb80>, <Reaction RHEA_51364 at 0x7f362c53cf70>, <Reaction RHEA_51908 at 0x7f362c4c7550>, <Reaction RHEA_52048 at 0x7f362c4c7940>, <Reaction RHEA_52052 at 0x7f362c4c79d0>, <Reaction RHEA_52068 at 0x7f362c4c7c10>, <Reaction RHEA_52300 at 0x7f362c4d18b0>, <Reaction RHEA_52372 at 0x7f362c4d1c10>, <Reaction RHEA_52464 at 0x7f362c4d1ee0>, <Reaction RHEA_52812 at 0x7f362c4da4c0>, <Reaction RHEA_52856 at 0x7f362c4da550>, <Reaction RHEA_53168 at 0x7f362c4e3d30>, <Reaction RHEA_53172 at 0x7f362c4e3dc0>, <Reaction RHEA_53248 at 0x7f362c4ed700>, <Reaction RHEA_53448 at 0x7f362c4edd30>, <Reaction RHEA_53456 at 0x7f362c4eddc0>, <Reaction RHEA_53472 at 0x7f362c4ed040>, <Reaction RHEA_53480 at 0x7f362c4f7160>, <Reaction RHEA_53484 at 0x7f362c4f71f0>, <Reaction RHEA_53488 at 0x7f362c4f7280>, <Reaction RHEA_53592 at 0x7f362c4f7ca0>, <Reaction RHEA_53596 at 0x7f362c4f7d30>, <Reaction RHEA_53600 at 0x7f362c4f7dc0>, <Reaction RHEA_53604 at 0x7f362c4f7e50>, <Reaction RHEA_53820 at 0x7f362c480550>, <Reaction RHEA_53976 at 0x7f362c480820>, <Reaction RHEA_53980 at 0x7f362c4808b0>, <Reaction RHEA_53984 at 0x7f362c480940>, <Reaction RHEA_53992 at 0x7f362c4809d0>, <Reaction RHEA_54000 at 0x7f362c480af0>, <Reaction RHEA_54004 at 0x7f362c480b80>, <Reaction RHEA_54232 at 0x7f362c480dc0>, <Reaction RHEA_54236 at 0x7f362c480e50>, <Reaction RHEA_54240 at 0x7f362c480ee0>, <Reaction RHEA_54244 at 0x7f362c480f70>, <Reaction RHEA_54248 at 0x7f362c480040>, <Reaction RHEA_54252 at 0x7f362c4890d0>, <Reaction RHEA_54332 at 0x7f362c489310>, <Reaction RHEA_54344 at 0x7f362c4894c0>, <Reaction RHEA_54348 at 0x7f362c489550>, <Reaction RHEA_54408 at 0x7f362c489940>, <Reaction RHEA_54912 at 0x7f362c492940>, <Reaction RHEA_54916 at 0x7f362c4929d0>, <Reaction RHEA_54920 at 0x7f362c492a60>, <Reaction RHEA_55248 at 0x7f362c492040>, <Reaction RHEA_55252 at 0x7f362c49d0d0>, <Reaction RHEA_55256 at 0x7f362c49d160>, <Reaction RHEA_55260 at 0x7f362c49d1f0>, <Reaction RHEA_55300 at 0x7f362c49d5e0>, <Reaction RHEA_55304 at 0x7f362c49d670>, <Reaction RHEA_55348 at 0x7f362c49da60>, <Reaction RHEA_55352 at 0x7f362c49daf0>, <Reaction RHEA_55356 at 0x7f362c49db80>, <Reaction RHEA_55360 at 0x7f362c49dc10>, <Reaction RHEA_55632 at 0x7f362c49dd30>, <Reaction RHEA_55924 at 0x7f362c4a6550>, <Reaction RHEA_55964 at 0x7f362c4a6790>, <Reaction RHEA_55976 at 0x7f362c4a6820>, <Reaction RHEA_55992 at 0x7f362c4a68b0>, <Reaction RHEA_56432 at 0x7f362c4a6c10>, <Reaction RHEA_56436 at 0x7f362c4a6ca0>, <Reaction RHEA_56440 at 0x7f362c4a6d30>, <Reaction RHEA_56444 at 0x7f362c4a6dc0>, <Reaction RHEA_56448 at 0x7f362c4a6e50>, <Reaction RHEA_56460 at 0x7f362c4a6ee0>, <Reaction RHEA_56504 at 0x7f362c4a6040>, <Reaction RHEA_56736 at 0x7f362c4ae280>, <Reaction RHEA_56916 at 0x7f362c4ae3a0>, <Reaction RHEA_57108 at 0x7f362c4ae5e0>, <Reaction RHEA_57116 at 0x7f362c4ae670>, <Reaction RHEA_57120 at 0x7f362c4ae700>, <Reaction RHEA_57140 at 0x7f362c4ae820>, <Reaction RHEA_57148 at 0x7f362c4ae940>, <Reaction RHEA_57840 at 0x7f362c4aeee0>, <Reaction RHEA_58316 at 0x7f362c4b90d0>, <Reaction RHEA_58340 at 0x7f362c4b9310>, <Reaction RHEA_58416 at 0x7f362c4b94c0>, <Reaction RHEA_58424 at 0x7f362c4b95e0>, <Reaction RHEA_58484 at 0x7f362c4b9820>, <Reaction RHEA_58544 at 0x7f362c4b9a60>, <Reaction RHEA_58600 at 0x7f362c4b9c10>, <Reaction RHEA_58632 at 0x7f362c4b9f70>, <Reaction RHEA_58636 at 0x7f362c4b9040>, <Reaction RHEA_58808 at 0x7f362c4435e0>, <Reaction RHEA_59104 at 0x7f362c443670>, <Reaction RHEA_59360 at 0x7f362c443a60>, <Reaction RHEA_59408 at 0x7f362c443ca0>, <Reaction RHEA_59420 at 0x7f362c443e50>, <Reaction RHEA_59520 at 0x7f362c443f70>, <Reaction RHEA_59568 at 0x7f362c44d0d0>, <Reaction RHEA_59572 at 0x7f362c44d160>, <Reaction RHEA_59904 at 0x7f362c44d5e0>, <Reaction RHEA_59908 at 0x7f362c44d670>, <Reaction RHEA_59912 at 0x7f362c44d700>, <Reaction RHEA_59916 at 0x7f362c44d790>, <Reaction RHEA_59920 at 0x7f362c44d820>, <Reaction RHEA_60128 at 0x7f362c44daf0>, <Reaction RHEA_60140 at 0x7f362c44db80>, <Reaction RHEA_60364 at 0x7f362c44dca0>, <Reaction RHEA_60368 at 0x7f362c44dd30>, <Reaction RHEA_60372 at 0x7f362c44ddc0>, <Reaction RHEA_60376 at 0x7f362c44de50>, <Reaction RHEA_60380 at 0x7f362c44dee0>, <Reaction RHEA_60460 at 0x7f362c44df70>, <Reaction RHEA_60464 at 0x7f362c44d040>, <Reaction RHEA_60468 at 0x7f362c4560d0>, <Reaction RHEA_60644 at 0x7f362c456280>, <Reaction RHEA_60664 at 0x7f362c4563a0>, <Reaction RHEA_60820 at 0x7f362c456430>, <Reaction RHEA_60976 at 0x7f362c456550>, <Reaction RHEA_60988 at 0x7f362c456700>, <Reaction RHEA_61240 at 0x7f362c456790>, <Reaction RHEA_61244 at 0x7f362c456820>, <Reaction RHEA_61248 at 0x7f362c4568b0>, <Reaction RHEA_61336 at 0x7f362c4569d0>, <Reaction RHEA_61340 at 0x7f362c456a60>, <Reaction RHEA_61348 at 0x7f362c456af0>, <Reaction RHEA_61352 at 0x7f362c456b80>, <Reaction RHEA_61356 at 0x7f362c456c10>, <Reaction RHEA_61364 at 0x7f362c456d30>, <Reaction RHEA_61436 at 0x7f362c45f0d0>, <Reaction RHEA_61984 at 0x7f362c45f550>, <Reaction RHEA_62064 at 0x7f362c45f820>, <Reaction RHEA_62068 at 0x7f362c45f8b0>, <Reaction RHEA_62072 at 0x7f362c45f940>, <Reaction RHEA_62076 at 0x7f362c45f9d0>, <Reaction RHEA_62252 at 0x7f362c45fc10>, <Reaction RHEA_62256 at 0x7f362c45fca0>, <Reaction RHEA_62260 at 0x7f362c45fd30>, <Reaction RHEA_62264 at 0x7f362c45fdc0>, <Reaction RHEA_62368 at 0x7f362c45fee0>, <Reaction RHEA_62464 at 0x7f362c45ff70>, <Reaction RHEA_62472 at 0x7f362c45f040>, <Reaction RHEA_62608 at 0x7f362c4673a0>, <Reaction RHEA_62960 at 0x7f362c467a60>, <Reaction RHEA_62992 at 0x7f362c467ca0>, <Reaction RHEA_63116 at 0x7f362c4721f0>, <Reaction RHEA_63124 at 0x7f362c472310>, <Reaction RHEA_63180 at 0x7f362c472790>, <Reaction RHEA_63304 at 0x7f362c472af0>, <Reaction RHEA_63324 at 0x7f362c472c10>, <Reaction RHEA_63328 at 0x7f362c472ca0>, <Reaction RHEA_63368 at 0x7f362c472d30>, <Reaction RHEA_63476 at 0x7f362c472f70>, <Reaction RHEA_63492 at 0x7f362c47b0d0>, <Reaction RHEA_63760 at 0x7f362c4040d0>, <Reaction RHEA_63764 at 0x7f362c404160>, <Reaction RHEA_63768 at 0x7f362c4041f0>, <Reaction RHEA_63776 at 0x7f362c404280>, <Reaction RHEA_63788 at 0x7f362c404310>, <Reaction RHEA_63996 at 0x7f362c4044c0>, <Reaction RHEA_64108 at 0x7f362c4045e0>, <Reaction RHEA_64252 at 0x7f362c404dc0>, <Reaction RHEA_64404 at 0x7f362c40e3a0>, <Reaction RHEA_64720 at 0x7f362c40e9d0>, <Reaction RHEA_64876 at 0x7f362c40ed30>, <Reaction RHEA_64880 at 0x7f362c40edc0>, <Reaction RHEA_64896 at 0x7f362c40ee50>, <Reaction RHEA_64900 at 0x7f362c40eee0>, <Reaction RHEA_64904 at 0x7f362c40ef70>, <Reaction RHEA_64908 at 0x7f362c40e040>, <Reaction RHEA_64988 at 0x7f362c4170d0>, <Reaction RHEA_65056 at 0x7f362c4171f0>, <Reaction RHEA_65060 at 0x7f362c417280>, <Reaction RHEA_65408 at 0x7f362c417790>, <Reaction RHEA_65424 at 0x7f362c417820>, <Reaction RHEA_65560 at 0x7f362c4179d0>, <Reaction RHEA_65580 at 0x7f362c417b80>, <Reaction RHEA_65664 at 0x7f362c417c10>, <Reaction RHEA_65700 at 0x7f362c417ca0>, <Reaction RHEA_65840 at 0x7f362c417dc0>, <Reaction RHEA_65844 at 0x7f362c417e50>, <Reaction RHEA_65896 at 0x7f362c417ee0>, <Reaction RHEA_66016 at 0x7f362c417040>, <Reaction RHEA_66044 at 0x7f362c4210d0>, <Reaction RHEA_66060 at 0x7f362c4211f0>, <Reaction RHEA_66068 at 0x7f362c421280>, <Reaction RHEA_66076 at 0x7f362c421310>, <Reaction RHEA_66092 at 0x7f362c4213a0>, <Reaction RHEA_66172 at 0x7f362c421430>, <Reaction RHEA_66180 at 0x7f362c421550>, <Reaction RHEA_66184 at 0x7f362c4215e0>, <Reaction RHEA_66188 at 0x7f362c421670>, <Reaction RHEA_66192 at 0x7f362c421700>, <Reaction RHEA_66320 at 0x7f362c421790>, <Reaction RHEA_66324 at 0x7f362c421820>, <Reaction RHEA_66328 at 0x7f362c4218b0>, <Reaction RHEA_66332 at 0x7f362c421940>, <Reaction RHEA_66336 at 0x7f362c4219d0>, <Reaction RHEA_66340 at 0x7f362c421a60>, <Reaction RHEA_66372 at 0x7f362c421af0>, <Reaction RHEA_66380 at 0x7f362c421b80>, <Reaction RHEA_66388 at 0x7f362c421c10>, <Reaction RHEA_66392 at 0x7f362c421ca0>, <Reaction RHEA_66396 at 0x7f362c421d30>, <Reaction RHEA_66400 at 0x7f362c421dc0>, <Reaction RHEA_66404 at 0x7f362c421e50>, <Reaction RHEA_66408 at 0x7f362c421ee0>, <Reaction RHEA_66412 at 0x7f362c421f70>, <Reaction RHEA_66416 at 0x7f362c421040>, <Reaction RHEA_66420 at 0x7f362c42a0d0>, <Reaction RHEA_66424 at 0x7f362c42a160>, <Reaction RHEA_66616 at 0x7f362c42a310>, <Reaction RHEA_66656 at 0x7f362c42a3a0>, <Reaction RHEA_66664 at 0x7f362c42a430>, <Reaction RHEA_66680 at 0x7f362c42a4c0>, <Reaction RHEA_66720 at 0x7f362c42a5e0>, <Reaction RHEA_66724 at 0x7f362c42a670>, <Reaction RHEA_66728 at 0x7f362c42a700>, <Reaction RHEA_66732 at 0x7f362c42a790>, <Reaction RHEA_66736 at 0x7f362c42a820>, <Reaction RHEA_66740 at 0x7f362c42a8b0>, <Reaction RHEA_66744 at 0x7f362c42a940>, <Reaction RHEA_66764 at 0x7f362c42ab80>, <Reaction RHEA_66816 at 0x7f362c42adc0>, <Reaction RHEA_66820 at 0x7f362c42ae50>, <Reaction RHEA_67088 at 0x7f362c433430>, <Reaction RHEA_67248 at 0x7f362c433670>, <Reaction RHEA_67276 at 0x7f362c433820>, <Reaction RHEA_67700 at 0x7f362c43d700>, <Reaction RHEA_67712 at 0x7f362c43d8b0>, <Reaction RHEA_67724 at 0x7f362c43d940>, <Reaction RHEA_67752 at 0x7f362c43d9d0>, <Reaction RHEA_67848 at 0x7f362c43da60>, <Reaction RHEA_67916 at 0x7f362c43ddc0>, <Reaction RHEA_67932 at 0x7f362c43de50>, <Reaction RHEA_68104 at 0x7f361ddc7310>, <Reaction RHEA_68228 at 0x7f361ddc73a0>, <Reaction RHEA_68232 at 0x7f361ddc7430>, <Reaction RHEA_68236 at 0x7f361ddc74c0>, <Reaction RHEA_68240 at 0x7f361ddc7550>, <Reaction RHEA_68244 at 0x7f361ddc75e0>, <Reaction RHEA_68248 at 0x7f361ddc7670>, <Reaction RHEA_68252 at 0x7f361ddc7700>, <Reaction RHEA_68424 at 0x7f361ddc79d0>, <Reaction RHEA_68428 at 0x7f361ddc7a60>, <Reaction RHEA_68432 at 0x7f361ddc7af0>, <Reaction RHEA_68436 at 0x7f361ddc7b80>, <Reaction RHEA_68572 at 0x7f361ddc7ee0>, <Reaction RHEA_68616 at 0x7f361ddd00d0>, <Reaction RHEA_68656 at 0x7f361ddd0160>, <Reaction RHEA_68976 at 0x7f361ddd0c10>, <Reaction RHEA_68980 at 0x7f361ddd0ca0>, <Reaction RHEA_68988 at 0x7f361ddd0d30>, <Reaction RHEA_69076 at 0x7f361ddd0f70>, <Reaction RHEA_69096 at 0x7f361ddd9280>, <Reaction RHEA_69104 at 0x7f361ddd9310>, <Reaction RHEA_69112 at 0x7f361ddd93a0>, <Reaction RHEA_69116 at 0x7f361ddd9430>, <Reaction RHEA_69120 at 0x7f361ddd94c0>, <Reaction RHEA_69124 at 0x7f361ddd9550>, <Reaction RHEA_69128 at 0x7f361ddd95e0>, <Reaction RHEA_69180 at 0x7f361ddd9790>, <Reaction RHEA_69368 at 0x7f361ddd9820>, <Reaction RHEA_69404 at 0x7f361ddd98b0>, <Reaction RHEA_69408 at 0x7f361ddd9940>, <Reaction RHEA_69416 at 0x7f361ddd9a60>, <Reaction RHEA_69420 at 0x7f361ddd9af0>, <Reaction RHEA_69556 at 0x7f361ddd9dc0>, <Reaction RHEA_69572 at 0x7f361ddd9e50>, <Reaction RHEA_69580 at 0x7f361ddd9ee0>, <Reaction RHEA_69584 at 0x7f361ddd9f70>, <Reaction RHEA_69588 at 0x7f361ddd9040>, <Reaction RHEA_69592 at 0x7f361dde30d0>, <Reaction RHEA_69596 at 0x7f361dde3160>, <Reaction RHEA_69695 at 0x7f361dde3940>, <Reaction RHEA_69699 at 0x7f361dde39d0>, <Reaction RHEA_69819 at 0x7f361dde3d30>, <Reaction RHEA_69883 at 0x7f361dde3dc0>, <Reaction RHEA_69887 at 0x7f361dde3e50>, <Reaction RHEA_69891 at 0x7f361dde3ee0>, <Reaction RHEA_69895 at 0x7f361dde3f70>, <Reaction RHEA_69911 at 0x7f361dde3040>, <Reaction RHEA_69915 at 0x7f361dded0d0>, <Reaction RHEA_69919 at 0x7f361dded160>, <Reaction RHEA_69955 at 0x7f361dded1f0>, <Reaction RHEA_69967 at 0x7f361dded280>, <Reaction RHEA_69999 at 0x7f361dded310>, <Reaction RHEA_70023 at 0x7f361dded3a0>, <Reaction RHEA_70047 at 0x7f361dded430>, <Reaction RHEA_70159 at 0x7f361dded4c0>, <Reaction RHEA_70163 at 0x7f361dded550>, <Reaction RHEA_70167 at 0x7f361dded5e0>, <Reaction RHEA_70223 at 0x7f361dded8b0>, <Reaction RHEA_70259 at 0x7f361ddedaf0>, <Reaction RHEA_70263 at 0x7f361ddedb80>, <Reaction RHEA_70267 at 0x7f361ddedc10>, <Reaction RHEA_70271 at 0x7f361ddedca0>, <Reaction RHEA_70319 at 0x7f361ddf7160>, <Reaction RHEA_70495 at 0x7f361ddf73a0>, <Reaction RHEA_70499 at 0x7f361ddf7430>, <Reaction RHEA_70579 at 0x7f361ddf75e0>, <Reaction RHEA_70587 at 0x7f361ddf7670>, <Reaction RHEA_70591 at 0x7f361ddf7700>, <Reaction RHEA_70619 at 0x7f361ddf7820>, <Reaction RHEA_70623 at 0x7f361ddf78b0>, <Reaction RHEA_70647 at 0x7f361ddf79d0>, <Reaction RHEA_70655 at 0x7f361ddf7a60>, <Reaction RHEA_70659 at 0x7f361ddf7af0>, <Reaction RHEA_70663 at 0x7f361ddf7b80>, <Reaction RHEA_70687 at 0x7f361ddf7d30>, <Reaction RHEA_70691 at 0x7f361ddf7dc0>, <Reaction RHEA_70699 at 0x7f361ddf7e50>, <Reaction RHEA_70715 at 0x7f361ddf7ee0>, <Reaction RHEA_70719 at 0x7f361ddf7f70>, <Reaction RHEA_70723 at 0x7f361ddf7040>, <Reaction RHEA_70735 at 0x7f361dd800d0>, <Reaction RHEA_70783 at 0x7f361dd80670>, <Reaction RHEA_70787 at 0x7f361dd80700>, <Reaction RHEA_70791 at 0x7f361dd80790>, <Reaction RHEA_70795 at 0x7f361dd80820>, <Reaction RHEA_70799 at 0x7f361dd808b0>, <Reaction RHEA_70815 at 0x7f361dd80940>, <Reaction RHEA_70827 at 0x7f361dd80a60>, <Reaction RHEA_70831 at 0x7f361dd80af0>, <Reaction RHEA_70835 at 0x7f361dd80b80>, <Reaction RHEA_70839 at 0x7f361dd80c10>, <Reaction RHEA_70843 at 0x7f361dd80ca0>, <Reaction RHEA_70847 at 0x7f361dd80d30>, <Reaction RHEA_70851 at 0x7f361dd80dc0>, <Reaction RHEA_70855 at 0x7f361dd80e50>, <Reaction RHEA_70859 at 0x7f361dd80ee0>, <Reaction RHEA_70863 at 0x7f361dd80f70>, <Reaction RHEA_70867 at 0x7f361dd80040>, <Reaction RHEA_70871 at 0x7f361dd880d0>, <Reaction RHEA_70875 at 0x7f361dd88160>, <Reaction RHEA_70883 at 0x7f361dd881f0>, <Reaction RHEA_70911 at 0x7f361dd88430>, <Reaction RHEA_70919 at 0x7f361dd884c0>, <Reaction RHEA_70923 at 0x7f361dd88550>, <Reaction RHEA_70935 at 0x7f361dd885e0>, <Reaction RHEA_70939 at 0x7f361dd88670>, <Reaction RHEA_70943 at 0x7f361dd88700>, <Reaction RHEA_70947 at 0x7f361dd88790>, <Reaction RHEA_70955 at 0x7f361dd88820>, <Reaction RHEA_70967 at 0x7f361dd888b0>, <Reaction RHEA_70975 at 0x7f361dd88940>, <Reaction RHEA_70995 at 0x7f361dd889d0>, <Reaction RHEA_71003 at 0x7f361dd88a60>, <Reaction RHEA_71007 at 0x7f361dd88af0>, <Reaction RHEA_71011 at 0x7f361dd88b80>, <Reaction RHEA_71019 at 0x7f361dd88c10>, <Reaction RHEA_71023 at 0x7f361dd88ca0>, <Reaction RHEA_71027 at 0x7f361dd88d30>, <Reaction RHEA_71031 at 0x7f361dd88dc0>, <Reaction RHEA_71035 at 0x7f361dd88e50>, <Reaction RHEA_71039 at 0x7f361dd88ee0>, <Reaction RHEA_71043 at 0x7f361dd88f70>, <Reaction RHEA_71047 at 0x7f361dd88040>, <Reaction RHEA_71051 at 0x7f361dd910d0>, <Reaction RHEA_71055 at 0x7f361dd91160>, <Reaction RHEA_71059 at 0x7f361dd911f0>, <Reaction RHEA_71063 at 0x7f361dd91280>, <Reaction RHEA_71067 at 0x7f361dd91310>, <Reaction RHEA_71071 at 0x7f361dd913a0>, <Reaction RHEA_71075 at 0x7f361dd91430>, <Reaction RHEA_71083 at 0x7f361dd914c0>, <Reaction RHEA_71087 at 0x7f361dd91550>, <Reaction RHEA_71091 at 0x7f361dd915e0>, <Reaction RHEA_71095 at 0x7f361dd91670>, <Reaction RHEA_71103 at 0x7f361dd91790>, <Reaction RHEA_71107 at 0x7f361dd91820>, <Reaction RHEA_71111 at 0x7f361dd918b0>, <Reaction RHEA_71127 at 0x7f361dd91940>, <Reaction RHEA_71131 at 0x7f361dd919d0>, <Reaction RHEA_71135 at 0x7f361dd91a60>, <Reaction RHEA_71159 at 0x7f361dd91af0>, <Reaction RHEA_71163 at 0x7f361dd91b80>, <Reaction RHEA_71167 at 0x7f361dd91c10>, <Reaction RHEA_71171 at 0x7f361dd91ca0>, <Reaction RHEA_71199 at 0x7f361dd91d30>, <Reaction RHEA_71203 at 0x7f361dd91dc0>, <Reaction RHEA_71207 at 0x7f361dd91e50>, <Reaction RHEA_71211 at 0x7f361dd91ee0>, <Reaction RHEA_71215 at 0x7f361dd91f70>, <Reaction RHEA_71219 at 0x7f361dd91040>, <Reaction RHEA_71223 at 0x7f361dd9a0d0>, <Reaction RHEA_71227 at 0x7f361dd9a160>, <Reaction RHEA_71243 at 0x7f361dd9a1f0>, <Reaction RHEA_71247 at 0x7f361dd9a280>, <Reaction RHEA_71255 at 0x7f361dd9a310>, <Reaction RHEA_71263 at 0x7f361dd9a3a0>, <Reaction RHEA_71267 at 0x7f361dd9a430>, <Reaction RHEA_71271 at 0x7f361dd9a4c0>, <Reaction RHEA_71275 at 0x7f361dd9a550>, <Reaction RHEA_71279 at 0x7f361dd9a5e0>, <Reaction RHEA_71283 at 0x7f361dd9a670>, <Reaction RHEA_71287 at 0x7f361dd9a700>, <Reaction RHEA_71291 at 0x7f361dd9a790>, <Reaction RHEA_71295 at 0x7f361dd9a820>, <Reaction RHEA_71299 at 0x7f361dd9a8b0>, <Reaction RHEA_71303 at 0x7f361dd9a940>, <Reaction RHEA_71307 at 0x7f361dd9a9d0>, <Reaction RHEA_71311 at 0x7f361dd9aa60>, <Reaction RHEA_71315 at 0x7f361dd9aaf0>, <Reaction RHEA_71319 at 0x7f361dd9ab80>, <Reaction RHEA_71323 at 0x7f361dd9ac10>, <Reaction RHEA_71327 at 0x7f361dd9aca0>, <Reaction RHEA_71331 at 0x7f361dd9ad30>, <Reaction RHEA_71335 at 0x7f361dd9adc0>, <Reaction RHEA_71339 at 0x7f361dd9ae50>, <Reaction RHEA_71343 at 0x7f361dd9aee0>, <Reaction RHEA_71347 at 0x7f361dd9af70>, <Reaction RHEA_71351 at 0x7f361dd9a040>, <Reaction RHEA_71383 at 0x7f361dda44c0>, <Reaction RHEA_71387 at 0x7f361dda4550>, <Reaction RHEA_71391 at 0x7f361dda45e0>, <Reaction RHEA_71395 at 0x7f361dda4670>, <Reaction RHEA_71439 at 0x7f361dda4700>, <Reaction RHEA_71519 at 0x7f361dda4e50>, <Reaction RHEA_71523 at 0x7f361dda4ee0>, <Reaction RHEA_71527 at 0x7f361dda4f70>, <Reaction RHEA_71531 at 0x7f361dda4040>, <Reaction RHEA_71535 at 0x7f361ddac0d0>, <Reaction RHEA_71539 at 0x7f361ddac160>, <Reaction RHEA_71583 at 0x7f361ddac280>, <Reaction RHEA_71587 at 0x7f361ddac310>, <Reaction RHEA_71591 at 0x7f361ddac3a0>, <Reaction RHEA_71595 at 0x7f361ddac430>, <Reaction RHEA_71599 at 0x7f361ddac4c0>, <Reaction RHEA_71603 at 0x7f361ddac550>, <Reaction RHEA_71607 at 0x7f361ddac5e0>, <Reaction RHEA_71611 at 0x7f361ddac670>, <Reaction RHEA_71615 at 0x7f361ddac700>, <Reaction RHEA_71623 at 0x7f361ddac790>, <Reaction RHEA_71627 at 0x7f361ddac820>, <Reaction RHEA_71631 at 0x7f361ddac8b0>, <Reaction RHEA_71667 at 0x7f361ddac940>, <Reaction RHEA_71703 at 0x7f361ddace50>, <Reaction RHEA_71739 at 0x7f361ddb71f0>, <Reaction RHEA_71747 at 0x7f361ddb7310>, <Reaction RHEA_71751 at 0x7f361ddb73a0>, <Reaction RHEA_71763 at 0x7f361ddb7550>, <Reaction RHEA_71767 at 0x7f361ddb75e0>, <Reaction RHEA_71771 at 0x7f361ddb7670>, <Reaction RHEA_71775 at 0x7f361ddb7700>, <Reaction RHEA_71779 at 0x7f361ddb7790>, <Reaction RHEA_71783 at 0x7f361ddb7820>, <Reaction RHEA_71795 at 0x7f361ddb78b0>, <Reaction RHEA_71803 at 0x7f361ddb7940>, <Reaction RHEA_71811 at 0x7f361ddb79d0>, <Reaction RHEA_71819 at 0x7f361ddb7af0>, <Reaction RHEA_71831 at 0x7f361ddb7c10>, <Reaction RHEA_71835 at 0x7f361ddb7ca0>, <Reaction RHEA_71839 at 0x7f361ddb7d30>, <Reaction RHEA_71843 at 0x7f361ddb7dc0>, <Reaction RHEA_71847 at 0x7f361ddb7e50>, <Reaction RHEA_71851 at 0x7f361ddb7ee0>, <Reaction RHEA_71855 at 0x7f361ddb7f70>, <Reaction RHEA_71859 at 0x7f361ddb7040>, <Reaction RHEA_71863 at 0x7f361dd400d0>, <Reaction RHEA_71867 at 0x7f361dd40160>, <Reaction RHEA_71871 at 0x7f361dd401f0>, <Reaction RHEA_71875 at 0x7f361dd40280>, <Reaction RHEA_71911 at 0x7f361dd40310>, <Reaction RHEA_71919 at 0x7f361dd40430>, <Reaction RHEA_71923 at 0x7f361dd404c0>, <Reaction RHEA_71927 at 0x7f361dd40550>, <Reaction RHEA_71931 at 0x7f361dd405e0>, <Reaction RHEA_71935 at 0x7f361dd40670>, <Reaction RHEA_71939 at 0x7f361dd40700>, <Reaction RHEA_71947 at 0x7f361dd40790>, <Reaction RHEA_71951 at 0x7f361dd40820>, <Reaction RHEA_71955 at 0x7f361dd408b0>, <Reaction RHEA_72003 at 0x7f361dd40940>, <Reaction RHEA_72007 at 0x7f361dd409d0>, <Reaction RHEA_72011 at 0x7f361dd40a60>, <Reaction RHEA_72023 at 0x7f361dd40af0>, <Reaction RHEA_72035 at 0x7f361dd40b80>, <Reaction RHEA_72039 at 0x7f361dd40c10>, <Reaction RHEA_72043 at 0x7f361dd40ca0>, <Reaction RHEA_72051 at 0x7f361dd40d30>, <Reaction RHEA_72079 at 0x7f361dd40ee0>, <Reaction RHEA_72087 at 0x7f361dd40f70>, <Reaction RHEA_72091 at 0x7f361dd40040>, <Reaction RHEA_72099 at 0x7f361dd4b160>, <Reaction RHEA_72103 at 0x7f361dd4b1f0>, <Reaction RHEA_72115 at 0x7f361dd4b310>, <Reaction RHEA_72119 at 0x7f361dd4b3a0>, <Reaction RHEA_72123 at 0x7f361dd4b430>, <Reaction RHEA_72127 at 0x7f361dd4b4c0>, <Reaction RHEA_72131 at 0x7f361dd4b550>, <Reaction RHEA_72135 at 0x7f361dd4b5e0>, <Reaction RHEA_72139 at 0x7f361dd4b670>, <Reaction RHEA_72151 at 0x7f361dd4b700>, <Reaction RHEA_72155 at 0x7f361dd4b790>, <Reaction RHEA_72159 at 0x7f361dd4b820>, <Reaction RHEA_72163 at 0x7f361dd4b8b0>, <Reaction RHEA_72183 at 0x7f361dd4bb80>, <Reaction RHEA_72199 at 0x7f361dd4bca0>, <Reaction RHEA_72203 at 0x7f361dd4bd30>, <Reaction RHEA_72227 at 0x7f361dd4bdc0>, <Reaction RHEA_72239 at 0x7f361dd4bf70>, <Reaction RHEA_72263 at 0x7f361dd4b040>, <Reaction RHEA_72267 at 0x7f361dd540d0>, <Reaction RHEA_72271 at 0x7f361dd54160>, <Reaction RHEA_72275 at 0x7f361dd541f0>, <Reaction RHEA_72299 at 0x7f361dd54430>, <Reaction RHEA_72303 at 0x7f361dd544c0>, <Reaction RHEA_72307 at 0x7f361dd54550>, <Reaction RHEA_72319 at 0x7f361dd545e0>, <Reaction RHEA_72323 at 0x7f361dd54670>, <Reaction RHEA_72351 at 0x7f361dd54700>, <Reaction RHEA_72355 at 0x7f361dd54790>, <Reaction RHEA_72359 at 0x7f361dd54820>, <Reaction RHEA_72375 at 0x7f361dd548b0>, <Reaction RHEA_72379 at 0x7f361dd54940>, <Reaction RHEA_72383 at 0x7f361dd549d0>, <Reaction RHEA_72387 at 0x7f361dd54a60>, <Reaction RHEA_72391 at 0x7f361dd54af0>, <Reaction RHEA_72395 at 0x7f361dd54b80>, <Reaction RHEA_72399 at 0x7f361dd54c10>, <Reaction RHEA_72403 at 0x7f361dd54ca0>, <Reaction RHEA_72407 at 0x7f361dd54d30>, <Reaction RHEA_72415 at 0x7f361dd54dc0>, <Reaction RHEA_72427 at 0x7f361dd54e50>, <Reaction RHEA_72483 at 0x7f361dd54040>, <Reaction RHEA_72487 at 0x7f361dd5c0d0>, <Reaction RHEA_72491 at 0x7f361dd5c160>, <Reaction RHEA_72495 at 0x7f361dd5c1f0>, <Reaction RHEA_72499 at 0x7f361dd5c280>, <Reaction RHEA_72503 at 0x7f361dd5c310>, <Reaction RHEA_72507 at 0x7f361dd5c3a0>, <Reaction RHEA_72511 at 0x7f361dd5c430>, <Reaction RHEA_72515 at 0x7f361dd5c4c0>, <Reaction RHEA_72543 at 0x7f361dd5c550>, <Reaction RHEA_72547 at 0x7f361dd5c5e0>, <Reaction RHEA_72551 at 0x7f361dd5c670>, <Reaction RHEA_72559 at 0x7f361dd5c790>, <Reaction RHEA_72563 at 0x7f361dd5c820>, <Reaction RHEA_72567 at 0x7f361dd5c8b0>, <Reaction RHEA_72571 at 0x7f361dd5c940>, <Reaction RHEA_72591 at 0x7f361dd5c9d0>, <Reaction RHEA_72599 at 0x7f361dd5ca60>, <Reaction RHEA_72631 at 0x7f361dd5cc10>, <Reaction RHEA_72691 at 0x7f361dd5cca0>, <Reaction RHEA_72695 at 0x7f361dd5cd30>, <Reaction RHEA_72707 at 0x7f361dd5ce50>, <Reaction RHEA_72723 at 0x7f361dd5cee0>, <Reaction RHEA_72727 at 0x7f361dd5cf70>, <Reaction RHEA_72731 at 0x7f361dd5c040>, <Reaction RHEA_72735 at 0x7f361dd650d0>, <Reaction RHEA_72739 at 0x7f361dd65160>, <Reaction RHEA_72743 at 0x7f361dd651f0>, <Reaction RHEA_72747 at 0x7f361dd65280>, <Reaction RHEA_72791 at 0x7f361dd65310>, <Reaction RHEA_72795 at 0x7f361dd653a0>, <Reaction RHEA_72799 at 0x7f361dd65430>, <Reaction RHEA_72803 at 0x7f361dd654c0>, <Reaction RHEA_72807 at 0x7f361dd65550>, <Reaction RHEA_72811 at 0x7f361dd655e0>, <Reaction RHEA_72815 at 0x7f361dd65670>, <Reaction RHEA_72819 at 0x7f361dd65700>, <Reaction RHEA_72839 at 0x7f361dd65790>, <Reaction RHEA_72843 at 0x7f361dd65820>, <Reaction RHEA_72847 at 0x7f361dd658b0>, <Reaction RHEA_72851 at 0x7f361dd65940>, <Reaction RHEA_72855 at 0x7f361dd659d0>, <Reaction RHEA_72891 at 0x7f361dd65a60>, <Reaction RHEA_72907 at 0x7f361dd65af0>, <Reaction RHEA_72935 at 0x7f361dd65c10>, <Reaction RHEA_72939 at 0x7f361dd65ca0>, <Reaction RHEA_72943 at 0x7f361dd65d30>, <Reaction RHEA_72947 at 0x7f361dd65dc0>, <Reaction RHEA_72951 at 0x7f361dd65e50>, <Reaction RHEA_72955 at 0x7f361dd65ee0>, <Reaction RHEA_72959 at 0x7f361dd65f70>, <Reaction RHEA_72963 at 0x7f361dd65040>, <Reaction RHEA_72967 at 0x7f361dd6e0d0>, <Reaction RHEA_72971 at 0x7f361dd6e160>, <Reaction RHEA_72987 at 0x7f361dd6e1f0>, <Reaction RHEA_73011 at 0x7f361dd6e310>, <Reaction RHEA_73023 at 0x7f361dd6e430>, <Reaction RHEA_73031 at 0x7f361dd6e4c0>, <Reaction RHEA_73035 at 0x7f361dd6e550>, <Reaction RHEA_73039 at 0x7f361dd6e5e0>, <Reaction RHEA_73043 at 0x7f361dd6e670>, <Reaction RHEA_73055 at 0x7f361dd6e790>, <Reaction RHEA_73059 at 0x7f361dd6e820>, <Reaction RHEA_73087 at 0x7f361dd6e8b0>, <Reaction RHEA_73091 at 0x7f361dd6e940>, <Reaction RHEA_73095 at 0x7f361dd6e9d0>, <Reaction RHEA_73099 at 0x7f361dd6ea60>, <Reaction RHEA_73143 at 0x7f361dd6eb80>, <Reaction RHEA_73147 at 0x7f361dd6ec10>, <Reaction RHEA_73151 at 0x7f361dd6eca0>, <Reaction RHEA_73155 at 0x7f361dd6ed30>, <Reaction RHEA_73159 at 0x7f361dd6edc0>, <Reaction RHEA_73163 at 0x7f361dd6ee50>, <Reaction RHEA_73167 at 0x7f361dd6eee0>, <Reaction RHEA_73171 at 0x7f361dd6ef70>, <Reaction RHEA_73175 at 0x7f361dd6e040>, <Reaction RHEA_73183 at 0x7f361dd790d0>, <Reaction RHEA_73195 at 0x7f361dd79160>, <Reaction RHEA_73207 at 0x7f361dd79280>, <Reaction RHEA_73215 at 0x7f361dd79310>, <Reaction RHEA_73299 at 0x7f361dd794c0>, <Reaction RHEA_73303 at 0x7f361dd79550>, <Reaction RHEA_73307 at 0x7f361dd795e0>, <Reaction RHEA_73387 at 0x7f361dd79a60>, <Reaction RHEA_73391 at 0x7f361dd79af0>, <Reaction RHEA_73395 at 0x7f361dd79b80>, <Reaction RHEA_73399 at 0x7f361dd79c10>, <Reaction RHEA_73411 at 0x7f361dd79dc0>, <Reaction RHEA_73419 at 0x7f361dd79e50>, <Reaction RHEA_73423 at 0x7f361dd79ee0>, <Reaction RHEA_73447 at 0x7f361dd79f70>, <Reaction RHEA_73451 at 0x7f361dd79040>, <Reaction RHEA_73491 at 0x7f361dd01310>, <Reaction RHEA_73515 at 0x7f361dd013a0>, <Reaction RHEA_73519 at 0x7f361dd01430>, <Reaction RHEA_73523 at 0x7f361dd014c0>, <Reaction RHEA_73527 at 0x7f361dd01550>, <Reaction RHEA_73535 at 0x7f361dd01670>, <Reaction RHEA_73547 at 0x7f361dd01820>, <Reaction RHEA_73551 at 0x7f361dd018b0>, <Reaction RHEA_73559 at 0x7f361dd01940>, <Reaction RHEA_73563 at 0x7f361dd019d0>, <Reaction RHEA_73567 at 0x7f361dd01a60>, <Reaction RHEA_73583 at 0x7f361dd01af0>, <Reaction RHEA_73587 at 0x7f361dd01b80>, <Reaction RHEA_73591 at 0x7f361dd01c10>, <Reaction RHEA_73595 at 0x7f361dd01ca0>, <Reaction RHEA_73599 at 0x7f361dd01d30>, <Reaction RHEA_73603 at 0x7f361dd01dc0>, <Reaction RHEA_73607 at 0x7f361dd01e50>, <Reaction RHEA_73611 at 0x7f361dd01ee0>, <Reaction RHEA_73615 at 0x7f361dd01f70>, <Reaction RHEA_73619 at 0x7f361dd01040>, <Reaction RHEA_73623 at 0x7f361dd0a0d0>, <Reaction RHEA_73627 at 0x7f361dd0a160>, <Reaction RHEA_73631 at 0x7f361dd0a1f0>, <Reaction RHEA_73635 at 0x7f361dd0a280>, <Reaction RHEA_73639 at 0x7f361dd0a310>, <Reaction RHEA_73647 at 0x7f361dd0a430>, <Reaction RHEA_73651 at 0x7f361dd0a4c0>, <Reaction RHEA_73659 at 0x7f361dd0a550>, <Reaction RHEA_73671 at 0x7f361dd0a5e0>, <Reaction RHEA_73675 at 0x7f361dd0a670>, <Reaction RHEA_73679 at 0x7f361dd0a700>, <Reaction RHEA_73687 at 0x7f361dd0a790>, <Reaction RHEA_73691 at 0x7f361dd0a820>, <Reaction RHEA_73695 at 0x7f361dd0a8b0>, <Reaction RHEA_73699 at 0x7f361dd0a940>, <Reaction RHEA_73703 at 0x7f361dd0a9d0>, <Reaction RHEA_73707 at 0x7f361dd0aa60>, <Reaction RHEA_73711 at 0x7f361dd0aaf0>, <Reaction RHEA_73715 at 0x7f361dd0ab80>, <Reaction RHEA_73739 at 0x7f361dd0ac10>, <Reaction RHEA_73743 at 0x7f361dd0aca0>, <Reaction RHEA_73747 at 0x7f361dd0ad30>, <Reaction RHEA_73755 at 0x7f361dd0adc0>, <Reaction RHEA_73811 at 0x7f361dd0ae50>, <Reaction RHEA_73819 at 0x7f361dd0aee0>, <Reaction RHEA_73859 at 0x7f361dd0af70>, <Reaction RHEA_73863 at 0x7f361dd0a040>, <Reaction RHEA_73867 at 0x7f361dd140d0>, <Reaction RHEA_73871 at 0x7f361dd14160>, <Reaction RHEA_73875 at 0x7f361dd141f0>, <Reaction RHEA_73879 at 0x7f361dd14280>, <Reaction RHEA_73883 at 0x7f361dd14310>, <Reaction RHEA_73887 at 0x7f361dd143a0>, <Reaction RHEA_74019 at 0x7f361dd144c0>, <Reaction RHEA_74023 at 0x7f361dd14550>, <Reaction RHEA_74027 at 0x7f361dd145e0>, <Reaction RHEA_74031 at 0x7f361dd14670>, <Reaction RHEA_74035 at 0x7f361dd14700>, <Reaction RHEA_74039 at 0x7f361dd14790>, <Reaction RHEA_74043 at 0x7f361dd14820>, <Reaction RHEA_74047 at 0x7f361dd148b0>, <Reaction RHEA_74059 at 0x7f361dd14a60>, <Reaction RHEA_74111 at 0x7f361dd14dc0>, <Reaction RHEA_74163 at 0x7f361dd14ee0>, <Reaction RHEA_74263 at 0x7f361dd14f70>, <Reaction RHEA_74267 at 0x7f361dd14040>, <Reaction RHEA_74319 at 0x7f361dd1d160>, <Reaction RHEA_74363 at 0x7f361dd1d280>, <Reaction RHEA_74375 at 0x7f361dd1d3a0>, <Reaction RHEA_74379 at 0x7f361dd1d430>, <Reaction RHEA_74383 at 0x7f361dd1d4c0>, <Reaction RHEA_74387 at 0x7f361dd1d550>, <Reaction RHEA_74391 at 0x7f361dd1d5e0>, <Reaction RHEA_74395 at 0x7f361dd1d670>, <Reaction RHEA_74399 at 0x7f361dd1d700>, <Reaction RHEA_74403 at 0x7f361dd1d790>, <Reaction RHEA_74407 at 0x7f361dd1d820>, <Reaction RHEA_74411 at 0x7f361dd1d8b0>, <Reaction RHEA_74415 at 0x7f361dd1d940>, <Reaction RHEA_74423 at 0x7f361dd1da60>, <Reaction RHEA_74427 at 0x7f361dd1daf0>, <Reaction RHEA_74451 at 0x7f361dd1dc10>, <Reaction RHEA_74539 at 0x7f361dd1dd30>, <Reaction RHEA_74555 at 0x7f361dd1ddc0>, <Reaction RHEA_74599 at 0x7f361dd1dee0>, <Reaction RHEA_74603 at 0x7f361dd1df70>, <Reaction RHEA_74607 at 0x7f361dd1d040>, <Reaction RHEA_74611 at 0x7f361dd260d0>, <Reaction RHEA_74619 at 0x7f361dd26160>, <Reaction RHEA_74623 at 0x7f361dd261f0>, <Reaction RHEA_74643 at 0x7f361dd26310>, <Reaction RHEA_74663 at 0x7f361dd263a0>, <Reaction RHEA_74799 at 0x7f361dd26790>, <Reaction RHEA_74803 at 0x7f361dd26820>, <Reaction RHEA_74807 at 0x7f361dd268b0>, <Reaction RHEA_74811 at 0x7f361dd26940>, <Reaction RHEA_74815 at 0x7f361dd269d0>, <Reaction RHEA_74819 at 0x7f361dd26a60>, <Reaction RHEA_74831 at 0x7f361dd26b80>, <Reaction RHEA_74835 at 0x7f361dd26c10>, <Reaction RHEA_74887 at 0x7f361dd26ca0>, <Reaction RHEA_74891 at 0x7f361dd26d30>, <Reaction RHEA_74963 at 0x7f361dd26dc0>, <Reaction RHEA_74971 at 0x7f361dd26e50>, <Reaction RHEA_75011 at 0x7f361dd26ee0>, <Reaction RHEA_75015 at 0x7f361dd26f70>, <Reaction RHEA_75027 at 0x7f361dd2f160>, <Reaction RHEA_75031 at 0x7f361dd2f1f0>, <Reaction RHEA_75035 at 0x7f361dd2f280>, <Reaction RHEA_75039 at 0x7f361dd2f310>, <Reaction RHEA_75047 at 0x7f361dd2f3a0>, <Reaction RHEA_75051 at 0x7f361dd2f430>, <Reaction RHEA_75059 at 0x7f361dd2f4c0>, <Reaction RHEA_75063 at 0x7f361dd2f550>, <Reaction RHEA_75067 at 0x7f361dd2f5e0>, <Reaction RHEA_75071 at 0x7f361dd2f670>, <Reaction RHEA_75091 at 0x7f361dd2f8b0>, <Reaction RHEA_75207 at 0x7f361dd2fb80>, <Reaction RHEA_75211 at 0x7f361dd2fc10>, <Reaction RHEA_75307 at 0x7f361dd2fca0>, <Reaction RHEA_75311 at 0x7f361dd2fd30>, <Reaction RHEA_75335 at 0x7f361dd2fdc0>, <Reaction RHEA_75339 at 0x7f361dd2fe50>, <Reaction RHEA_75343 at 0x7f361dd2fee0>, <Reaction RHEA_75347 at 0x7f361dd2ff70>, <Reaction RHEA_75363 at 0x7f361dd2f040>, <Reaction RHEA_75367 at 0x7f361dd380d0>, <Reaction RHEA_75371 at 0x7f361dd38160>, <Reaction RHEA_75375 at 0x7f361dd381f0>, <Reaction RHEA_75383 at 0x7f361dd38280>, <Reaction RHEA_75443 at 0x7f361dd38430>, <Reaction RHEA_75467 at 0x7f361dd384c0>, <Reaction RHEA_75471 at 0x7f361dd38550>, <Reaction RHEA_75479 at 0x7f361dd385e0>, <Reaction RHEA_75487 at 0x7f361dd38670>, <Reaction RHEA_75499 at 0x7f361dd38790>, <Reaction RHEA_75503 at 0x7f361dd38820>, <Reaction RHEA_75507 at 0x7f361dd388b0>, <Reaction RHEA_75687 at 0x7f361dd38940>, <Reaction RHEA_75691 at 0x7f361dd389d0>, <Reaction RHEA_75695 at 0x7f361dd38a60>, <Reaction RHEA_75783 at 0x7f361dd38af0>, <Reaction RHEA_75787 at 0x7f361dd38b80>, <Reaction RHEA_75839 at 0x7f361dd38c10>, <Reaction RHEA_75843 at 0x7f361dd38ca0>, <Reaction RHEA_75931 at 0x7f361dd38040>, <Reaction RHEA_75939 at 0x7f361dcc3160>, <Reaction RHEA_75943 at 0x7f361dcc31f0>, <Reaction RHEA_75947 at 0x7f361dcc3280>, <Reaction RHEA_75999 at 0x7f361dcc3430>, <Reaction RHEA_76063 at 0x7f361dcc35e0>, <Reaction RHEA_76139 at 0x7f361dcc3670>, <Reaction RHEA_76159 at 0x7f361dcc3790>, <Reaction RHEA_76195 at 0x7f361dcc3940>, <Reaction RHEA_76199 at 0x7f361dcc39d0>, <Reaction RHEA_76207 at 0x7f361dcc3af0>, <Reaction RHEA_76211 at 0x7f361dcc3b80>, <Reaction RHEA_76215 at 0x7f361dcc3c10>, <Reaction RHEA_76219 at 0x7f361dcc3ca0>, <Reaction RHEA_76223 at 0x7f361dcc3d30>, <Reaction RHEA_76231 at 0x7f361dcc3dc0>, <Reaction RHEA_76251 at 0x7f361dcc3e50>, <Reaction RHEA_76263 at 0x7f361dcc3ee0>, <Reaction RHEA_76267 at 0x7f361dcc3f70>, <Reaction RHEA_76271 at 0x7f361dcc3040>, <Reaction RHEA_76279 at 0x7f361dccd0d0>, <Reaction RHEA_76299 at 0x7f361dccd160>, <Reaction RHEA_76303 at 0x7f361dccd1f0>, <Reaction RHEA_76307 at 0x7f361dccd280>, <Reaction RHEA_76311 at 0x7f361dccd310>, <Reaction RHEA_76315 at 0x7f361dccd3a0>, <Reaction RHEA_76319 at 0x7f361dccd430>, <Reaction RHEA_76323 at 0x7f361dccd4c0>, <Reaction RHEA_76327 at 0x7f361dccd550>, <Reaction RHEA_76331 at 0x7f361dccd5e0>, <Reaction RHEA_76335 at 0x7f361dccd670>, <Reaction RHEA_76379 at 0x7f361dccd790>, <Reaction RHEA_76411 at 0x7f361dccd8b0>, <Reaction RHEA_76415 at 0x7f361dccd940>, <Reaction RHEA_76431 at 0x7f361dccd9d0>, <Reaction RHEA_76443 at 0x7f361dccda60>, <Reaction RHEA_76535 at 0x7f361dccdb80>, <Reaction RHEA_76591 at 0x7f361dccdc10>, <Reaction RHEA_76615 at 0x7f361dccdca0>, <Reaction RHEA_76691 at 0x7f361dccdee0>, <Reaction RHEA_76695 at 0x7f361dccdf70>, <Reaction RHEA_77103 at 0x7f361dcd5700>, <Reaction RHEA_77111 at 0x7f361dcd5820>, <Reaction RHEA_77115 at 0x7f361dcd58b0>, <Reaction RHEA_77119 at 0x7f361dcd5940>, <Reaction RHEA_77123 at 0x7f361dcd59d0>, <Reaction RHEA_77127 at 0x7f361dcd5a60>, <Reaction RHEA_77131 at 0x7f361dcd5af0>, <Reaction RHEA_77135 at 0x7f361dcd5b80>, <Reaction RHEA_77139 at 0x7f361dcd5c10>, <Reaction RHEA_77143 at 0x7f361dcd5ca0>, <Reaction RHEA_77147 at 0x7f361dcd5d30>, <Reaction RHEA_77155 at 0x7f361dcd5dc0>, <Reaction RHEA_77267 at 0x7f361dcde0d0>, <Reaction RHEA_77275 at 0x7f361dcde1f0>, <Reaction RHEA_77279 at 0x7f361dcde280>, <Reaction RHEA_77283 at 0x7f361dcde310>, <Reaction RHEA_77287 at 0x7f361dcde3a0>, <Reaction RHEA_77291 at 0x7f361dcde430>, <Reaction RHEA_77303 at 0x7f361dcde4c0>, <Reaction RHEA_77307 at 0x7f361dcde550>, <Reaction RHEA_77311 at 0x7f361dcde5e0>, <Reaction RHEA_77315 at 0x7f361dcde670>, <Reaction RHEA_77319 at 0x7f361dcde700>, <Reaction RHEA_77323 at 0x7f361dcde790>, <Reaction RHEA_77327 at 0x7f361dcde820>, <Reaction RHEA_77331 at 0x7f361dcde8b0>, <Reaction RHEA_77339 at 0x7f361dcde940>, <Reaction RHEA_77343 at 0x7f361dcde9d0>, <Reaction RHEA_77347 at 0x7f361dcdea60>, <Reaction RHEA_77351 at 0x7f361dcdeaf0>, <Reaction RHEA_77355 at 0x7f361dcdeb80>, <Reaction RHEA_77359 at 0x7f361dcdec10>, <Reaction RHEA_77363 at 0x7f361dcdeca0>, <Reaction RHEA_77547 at 0x7f361dcdef70>, <Reaction RHEA_77639 at 0x7f361dce98b0>, <Reaction RHEA_77643 at 0x7f361dce9940>, <Reaction RHEA_77711 at 0x7f361dce99d0>, <Reaction RHEA_77735 at 0x7f361dce9a60>, <Reaction RHEA_78091 at 0x7f361dce9af0>, <Reaction EX_CHEBI_30089 at 0x7f361dce9ca0>, <Reaction EX_CHEBI_15361 at 0x7f361dce9d30>, <Reaction EX_CHEBI_16452 at 0x7f361dce9dc0>, <Reaction EX_CHEBI_30031 at 0x7f361dce9e50>, <Reaction EX_CHEBI_16810 at 0x7f361dce9ee0>, <Reaction EX_CHEBI_15075 at 0x7f361dcf2280>, <Reaction EX_CHEBI_15343 at 0x7f361dcf23a0>, <Reaction EX_CHEBI_15377 at 0x7f361dcf2430>, <Reaction EX_CHEBI_15378 at 0x7f361dcf24c0>, <Reaction EX_CHEBI_15379 at 0x7f361dcf2550>, <Reaction EX_CHEBI_15740 at 0x7f361dcf2700>, <Reaction EX_CHEBI_15858 at 0x7f361dcf2820>, <Reaction EX_CHEBI_16007 at 0x7f361dcf2940>, <Reaction EX_CHEBI_16144 at 0x7f361dcf29d0>, <Reaction EX_CHEBI_16189 at 0x7f361dcf2b80>, <Reaction EX_CHEBI_16199 at 0x7f361dcf2c10>, <Reaction EX_CHEBI_16223 at 0x7f361dcf2d30>, <Reaction EX_CHEBI_16236 at 0x7f361dcf2dc0>, <Reaction EX_CHEBI_16240 at 0x7f361dcf2e50>, <Reaction EX_CHEBI_16301 at 0x7f361dcf2f70>, <Reaction EX_CHEBI_16382 at 0x7f361dcf2040>, <Reaction EX_CHEBI_16397 at 0x7f361dcfc0d0>, <Reaction EX_CHEBI_16480 at 0x7f361dcfc160>, <Reaction EX_CHEBI_16526 at 0x7f361dcfc280>, <Reaction EX_CHEBI_16698 at 0x7f361dcfc3a0>, <Reaction EX_CHEBI_16842 at 0x7f361dcfc4c0>, <Reaction EX_CHEBI_17051 at 0x7f361dcfc5e0>, <Reaction EX_CHEBI_17359 at 0x7f361dcfc820>, <Reaction EX_CHEBI_17544 at 0x7f361dcfc9d0>, <Reaction EX_CHEBI_17606 at 0x7f361dcfca60>, <Reaction EX_CHEBI_17632 at 0x7f361dcfcaf0>, <Reaction EX_CHEBI_17826 at 0x7f361dcfcc10>, <Reaction EX_CHEBI_17996 at 0x7f361dcfcca0>, <Reaction EX_CHEBI_18022 at 0x7f361dcfcdc0>, <Reaction EX_CHEBI_18212 at 0x7f361dc860d0>, <Reaction EX_CHEBI_18407 at 0x7f361dc861f0>, <Reaction EX_CHEBI_18420 at 0x7f361dc86280>, <Reaction EX_CHEBI_18421 at 0x7f361dc86310>, <Reaction EX_CHEBI_24757 at 0x7f361dc865e0>, <Reaction EX_CHEBI_25941 at 0x7f361dc86700>, <Reaction EX_CHEBI_28938 at 0x7f361dc869d0>, <Reaction EX_CHEBI_29033 at 0x7f361dc86a60>, <Reaction EX_CHEBI_29035 at 0x7f361dc86b80>, <Reaction EX_CHEBI_29036 at 0x7f361dc86c10>, <Reaction EX_CHEBI_29101 at 0x7f361dc86d30>, <Reaction EX_CHEBI_29103 at 0x7f361dc86dc0>, <Reaction EX_CHEBI_29105 at 0x7f361dc86e50>, <Reaction EX_CHEBI_29108 at 0x7f361dc86ee0>, <Reaction EX_CHEBI_29232 at 0x7f361dc90160>, <Reaction EX_CHEBI_29250 at 0x7f361dc90280>, <Reaction EX_CHEBI_29317 at 0x7f361dc90310>, <Reaction EX_CHEBI_29445 at 0x7f361dc90430>, <Reaction EX_CHEBI_29805 at 0x7f361dc904c0>, <Reaction EX_CHEBI_29919 at 0x7f361dc90550>, <Reaction EX_CHEBI_30087 at 0x7f361dc90790>, <Reaction EX_CHEBI_30623 at 0x7f361dc90940>, <Reaction EX_CHEBI_33019 at 0x7f361dc90af0>, <Reaction EX_CHEBI_33409 at 0x7f361dc90b80>, <Reaction EX_CHEBI_33542 at 0x7f361dc90c10>, <Reaction EX_CHEBI_33737 at 0x7f361dc90dc0>, <Reaction EX_CHEBI_33738 at 0x7f361dc90e50>, <Reaction EX_CHEBI_36655 at 0x7f361dc9b280>, <Reaction EX_CHEBI_41132 at 0x7f361dc9b430>, <Reaction EX_CHEBI_43474 at 0x7f361dc9b550>, <Reaction EX_CHEBI_48775 at 0x7f361dc9b940>, <Reaction EX_CHEBI_48828 at 0x7f361dc9b9d0>, <Reaction EX_CHEBI_49468 at 0x7f361dc9ba60>, <Reaction EX_CHEBI_49547 at 0x7f361dc9bb80>, <Reaction EX_CHEBI_49552 at 0x7f361dc9bc10>, <Reaction EX_CHEBI_49709 at 0x7f361dc9bca0>, <Reaction EX_CHEBI_49713 at 0x7f361dc9bd30>, <Reaction EX_CHEBI_49786 at 0x7f361dc9bdc0>, <Reaction EX_CHEBI_49847 at 0x7f361dc9bee0>, <Reaction EX_CHEBI_57305 at 0x7f361dc9bf70>, <Reaction EX_CHEBI_57603 at 0x7f361dca61f0>, <Reaction EX_CHEBI_57853 at 0x7f361dca63a0>, <Reaction EX_CHEBI_58029 at 0x7f361dca6430>, <Reaction EX_CHEBI_58040 at 0x7f361dca6550>, <Reaction EX_CHEBI_58190 at 0x7f361dca65e0>, <Reaction EX_CHEBI_58228 at 0x7f361dca6700>, <Reaction EX_CHEBI_59338 at 0x7f361dca6b80>, <Reaction EX_CHEBI_133907 at 0x7f361dcaf700>]\n"
     ]
    }
   ],
   "source": [
    "consistent_human_model = flux_analysis.fastcc(rhea_human_model.model)\n",
    "print('Number of consistent reactions according to FASTCC', len(consistent_human_model.reactions))"
   ]
  },
  {
   "cell_type": "markdown",
   "id": "dd3f98de",
   "metadata": {},
   "source": [
    "## Use cobra to find the value of the flux for the objective reaction"
   ]
  },
  {
   "cell_type": "code",
   "execution_count": 14,
   "id": "2d77cb3c",
   "metadata": {},
   "outputs": [],
   "source": [
    "rhea_human_model.model.objective = 'RHEA_13065' # ATP maintenance"
   ]
  },
  {
   "cell_type": "code",
   "execution_count": 15,
   "id": "30465eec",
   "metadata": {},
   "outputs": [
    {
     "data": {
      "text/plain": [
       "1000.0"
      ]
     },
     "execution_count": 15,
     "metadata": {},
     "output_type": "execute_result"
    }
   ],
   "source": [
    "rhea_human_model.model.optimize().objective_value"
   ]
  },
  {
   "cell_type": "markdown",
   "id": "6e89660f",
   "metadata": {},
   "source": [
    "# Repeat analysis for the whole RheaDB"
   ]
  },
  {
   "cell_type": "code",
   "execution_count": 16,
   "id": "35ffe4a3",
   "metadata": {},
   "outputs": [
    {
     "name": "stdout",
     "output_type": "stream",
     "text": [
      "Your Rhea DB version is 132\n",
      "Using previously downloaded Rhea version\n",
      "Adding reactions to model\n"
     ]
    },
    {
     "name": "stderr",
     "output_type": "stream",
     "text": [
      "100%|████████████████████████████████████| 12420/12420 [01:40<00:00, 123.70it/s]\n"
     ]
    },
    {
     "name": "stdout",
     "output_type": "stream",
     "text": [
      "Total boundary metabolites: 197\n",
      "Added 477 exchanges:\n"
     ]
    }
   ],
   "source": [
    "rdb_all = RheaDB('/scratch/')\n",
    "rhea_all_model = RheaCobraModel('rhea_all_model', rdb_all)"
   ]
  },
  {
   "cell_type": "code",
   "execution_count": 17,
   "id": "b1ae79f8",
   "metadata": {},
   "outputs": [
    {
     "name": "stdout",
     "output_type": "stream",
     "text": [
      "12617 reactions\n",
      "10133 metabolites\n",
      "25234 variables\n"
     ]
    }
   ],
   "source": [
    "rhea_all_model.inspect_model()"
   ]
  },
  {
   "cell_type": "code",
   "execution_count": 18,
   "id": "5080eec9",
   "metadata": {},
   "outputs": [
    {
     "name": "stdout",
     "output_type": "stream",
     "text": [
      "5778 blocked reactions\n",
      "CPU times: user 565 ms, sys: 280 ms, total: 845 ms\n",
      "Wall time: 2min 8s\n"
     ]
    }
   ],
   "source": [
    "%%time\n",
    "blocked_reactions=flux_analysis.find_blocked_reactions(rhea_all_model.model)\n",
    "print(len(blocked_reactions), 'blocked reactions')"
   ]
  },
  {
   "cell_type": "code",
   "execution_count": null,
   "id": "46816502",
   "metadata": {},
   "outputs": [],
   "source": [
    "%%time\n",
    "consistent_all_model = flux_analysis.fastcc(rhea_all_model.model)\n",
    "print('Number of consistent reactions according to FASTCC', len(consistent_model.reactions))"
   ]
  },
  {
   "cell_type": "markdown",
   "id": "67fb159c",
   "metadata": {},
   "source": [
    "# Gapfill rhea_human_model with rhea_all_model"
   ]
  },
  {
   "cell_type": "markdown",
   "id": "a146a19c",
   "metadata": {},
   "source": [
    "Exclude human model reactions from all rhea model to have a clean gapfill"
   ]
  },
  {
   "cell_type": "code",
   "execution_count": null,
   "id": "addadd62",
   "metadata": {},
   "outputs": [],
   "source": [
    "for i in [i.id for i in rhea_human_model.model.reactions]:\n",
    "    try:\n",
    "        reaction = rhea_all_model.model.reactions.get_by_id(i)\n",
    "        rhea_all_model.model.remove_reactions([reaction])\n",
    "    except Exception as e:\n",
    "        print(e)"
   ]
  },
  {
   "cell_type": "markdown",
   "id": "1ab80c44",
   "metadata": {},
   "source": [
    "Gapfill"
   ]
  },
  {
   "cell_type": "code",
   "execution_count": 19,
   "id": "fcc50630",
   "metadata": {},
   "outputs": [
    {
     "name": "stdout",
     "output_type": "stream",
     "text": [
      "Read LP format model from file /tmp/tmppl4dpbqe.lp\n",
      "Reading time = 0.02 seconds\n",
      ": 3250 rows, 7890 columns, 32378 nonzeros\n",
      "Read LP format model from file /tmp/tmp0ui93pr3.lp\n",
      "Reading time = 0.05 seconds\n",
      ": 10133 rows, 25234 columns, 114914 nonzeros\n"
     ]
    }
   ],
   "source": [
    "solution = flux_analysis.gapfill(rhea_human_model.model, rhea_all_model.model, demand_reactions=False)\n",
    "for reaction in solution[0]:\n",
    "    print(reaction.id)"
   ]
  },
  {
   "cell_type": "code",
   "execution_count": 20,
   "id": "bc7366b0",
   "metadata": {
    "scrolled": false
   },
   "outputs": [
    {
     "data": {
      "text/plain": [
       "[]"
      ]
     },
     "execution_count": 20,
     "metadata": {},
     "output_type": "execute_result"
    }
   ],
   "source": [
    "solution[0]"
   ]
  },
  {
   "cell_type": "code",
   "execution_count": null,
   "id": "a1b61fe5",
   "metadata": {},
   "outputs": [],
   "source": [
    "stop"
   ]
  },
  {
   "cell_type": "markdown",
   "id": "c75c5d50",
   "metadata": {},
   "source": [
    "We can also instead of using the original objective, specify a given metabolite that we want the model to be able to produce."
   ]
  },
  {
   "cell_type": "code",
   "execution_count": null,
   "id": "07887edb",
   "metadata": {},
   "outputs": [],
   "source": [
    "w = open(os.path.join('cache', 'reactions_results.tsv'),'w')\n",
    "for query_reaction in rhea_human_model.model.reactions:\n",
    "    print(query_reaction)\n",
    "    temp_model = rhea_human_model.model.copy()\n",
    "    with temp_model:\n",
    "        try:\n",
    "            temp_model.objective = query_reaction\n",
    "            solution = flux_analysis.gapfill(temp_model, rhea_all_model.model)\n",
    "            w.write(f\"{query_reaction.id}\\t{';'.join([reaction.id for reaction in solution[0]])}\\n\")\n",
    "            for reaction in solution[0]:\n",
    "                print(reaction.id)\n",
    "                \n",
    "        except Exception as e:\n",
    "            w.write(f\"{query_reaction.id}\\t{e}\\n\")\n",
    "    print()\n",
    "w.close()"
   ]
  },
  {
   "cell_type": "code",
   "execution_count": null,
   "id": "0d05593a",
   "metadata": {},
   "outputs": [],
   "source": []
  }
 ],
 "metadata": {
  "kernelspec": {
   "display_name": "Python [conda env:root] *",
   "language": "python",
   "name": "conda-root-py"
  },
  "language_info": {
   "codemirror_mode": {
    "name": "ipython",
    "version": 3
   },
   "file_extension": ".py",
   "mimetype": "text/x-python",
   "name": "python",
   "nbconvert_exporter": "python",
   "pygments_lexer": "ipython3",
   "version": "3.9.13"
  }
 },
 "nbformat": 4,
 "nbformat_minor": 5
}
