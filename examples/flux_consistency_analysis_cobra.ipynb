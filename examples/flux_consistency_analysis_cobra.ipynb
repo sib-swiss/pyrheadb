{
 "cells": [
  {
   "cell_type": "markdown",
   "id": "0e827e5b",
   "metadata": {},
   "source": [
    "# Modeling human metabolism based on Rhea reactions"
   ]
  },
  {
   "cell_type": "markdown",
   "id": "e1db1f96",
   "metadata": {},
   "source": [
    "Rhea was not designed for modeling purposes, however, since it is the reference reaction vocabulary for SwissProt and UniProt, it is possible to build draft models based on combination of Rhea data processing and SPARQL query to Rhea and UniProt"
   ]
  },
  {
   "cell_type": "markdown",
   "id": "9f1c3ff5",
   "metadata": {},
   "source": [
    "1. Install pyrheadb package"
   ]
  },
  {
   "cell_type": "code",
   "execution_count": null,
   "id": "d096a134",
   "metadata": {},
   "outputs": [],
   "source": [
    "#!pip install -e ../"
   ]
  },
  {
   "cell_type": "markdown",
   "id": "076cfbfe",
   "metadata": {},
   "source": [
    "2. Import necessary modules of pyrheadb"
   ]
  },
  {
   "cell_type": "code",
   "execution_count": null,
   "id": "0992562c",
   "metadata": {
    "scrolled": true
   },
   "outputs": [],
   "source": [
    "import os\n",
    "import pandas as pd\n",
    "from pyrheadb.RheaDB import RheaDB\n",
    "from pyrheadb.RheaCobraModel import RheaCobraModel\n",
    "from pyrheadb import RheaSPARQL"
   ]
  },
  {
   "cell_type": "markdown",
   "id": "0a5cd94e",
   "metadata": {},
   "source": [
    "3. Request only the reactions of human"
   ]
  },
  {
   "cell_type": "code",
   "execution_count": null,
   "id": "83c948c5",
   "metadata": {},
   "outputs": [],
   "source": [
    "os.makedirs('cache', exist_ok=True)"
   ]
  },
  {
   "cell_type": "code",
   "execution_count": null,
   "id": "6de33453",
   "metadata": {},
   "outputs": [],
   "source": [
    "file_human_reactions = os.path.join('cache', 'df_human_reactions.tsv')\n",
    "if not os.path.exists(file_human_reactions):\n",
    "    df_human_reactions = RheaSPARQL.get_all_human_reactions()\n",
    "    df_human_reactions.to_csv(file_human_reactions, sep='\\t', index=False)\n",
    "df_human_reactions = pd.read_csv(file_human_reactions, sep='\\t')\n",
    "df_human_reactions"
   ]
  },
  {
   "cell_type": "markdown",
   "id": "aee20088",
   "metadata": {},
   "source": [
    "4. Filter RheaDB (rdb) table used in this analysis to keep only the human reactions"
   ]
  },
  {
   "cell_type": "code",
   "execution_count": null,
   "id": "5a97ca29",
   "metadata": {},
   "outputs": [],
   "source": [
    "df_human_reactions.drop_duplicates(subset=['MASTER_ID'], inplace=True)\n",
    "rdb_human = RheaDB()\n",
    "rdb_human.df_smiles_master_id = \\\n",
    "                rdb_human.df_smiles_master_id.merge(df_human_reactions['MASTER_ID'], how='inner', on='MASTER_ID')"
   ]
  },
  {
   "cell_type": "code",
   "execution_count": null,
   "id": "9a032d2a",
   "metadata": {
    "scrolled": true
   },
   "outputs": [],
   "source": [
    "rhea_human_model = RheaCobraModel('rhea_human_model', rdb_human)"
   ]
  },
  {
   "cell_type": "code",
   "execution_count": null,
   "id": "3771e6e9",
   "metadata": {},
   "outputs": [],
   "source": [
    "rhea_human_model.inspect_model()"
   ]
  },
  {
   "cell_type": "code",
   "execution_count": null,
   "id": "94950989",
   "metadata": {},
   "outputs": [],
   "source": [
    "# # Write down model reactions if you want to inspect it in more detail\n",
    "# with open(os.path.join('cache','model_reactions.txt'), 'w') as w:\n",
    "#     for r in rhea_model.model.reactions:\n",
    "#         w.write(f\"{r}\\n\")"
   ]
  },
  {
   "cell_type": "markdown",
   "id": "560445e4",
   "metadata": {},
   "source": [
    "# Use cobra to analyse consistency of fluxes\n",
    "Text extract added from cobra doc for clarity (https://cobrapy.readthedocs.io/en/latest/consistency.html)"
   ]
  },
  {
   "cell_type": "code",
   "execution_count": null,
   "id": "e9e1d730",
   "metadata": {},
   "outputs": [],
   "source": [
    "from cobra import flux_analysis"
   ]
  },
  {
   "cell_type": "markdown",
   "id": "94616b69",
   "metadata": {},
   "source": [
    "## Using FVA\n",
    "\n",
    "The first approach we can follow is to use FVA (Flux Variability Analysis) which among many other applications, is used to detect blocked reactions. The cobra.flux_analysis.find_blocked_reactions() function will return a list of all the blocked reactions obtained using FVA."
   ]
  },
  {
   "cell_type": "code",
   "execution_count": null,
   "id": "93273c34",
   "metadata": {},
   "outputs": [],
   "source": [
    "%time\n",
    "blocked_reactions=flux_analysis.find_blocked_reactions(rhea_human_model.model)"
   ]
  },
  {
   "cell_type": "code",
   "execution_count": null,
   "id": "5bb6ed03",
   "metadata": {},
   "outputs": [],
   "source": [
    "print(len(blocked_reactions), 'blocked reactions')"
   ]
  },
  {
   "cell_type": "markdown",
   "id": "e6ad506d",
   "metadata": {},
   "source": [
    "## Using FASTCC\n",
    "The second approach to obtaining consistent network in cobrapy is to use FASTCC. Using this method,\n",
    "you can expect to efficiently obtain an accurate consistent network. For more details regarding the algorithm,\n",
    "please see Vlassis N, Pacheco MP, Sauter T (2014)."
   ]
  },
  {
   "cell_type": "code",
   "execution_count": null,
   "id": "88611ac9",
   "metadata": {},
   "outputs": [],
   "source": [
    "consistent_human_model = flux_analysis.fastcc(rhea_human_model.model)\n",
    "print('Number of consistent reactions according to FASTCC', len(consistent_human_model.reactions))"
   ]
  },
  {
   "cell_type": "markdown",
   "id": "dd3f98de",
   "metadata": {},
   "source": [
    "## Use cobra to find the value of the flux for the objective reaction"
   ]
  },
  {
   "cell_type": "code",
   "execution_count": null,
   "id": "2d77cb3c",
   "metadata": {},
   "outputs": [],
   "source": [
    "rhea_human_model.model.objective = 'RHEA_13065' # ATP maintenance"
   ]
  },
  {
   "cell_type": "code",
   "execution_count": null,
   "id": "30465eec",
   "metadata": {},
   "outputs": [],
   "source": [
    "rhea_human_model.model.optimize().objective_value"
   ]
  },
  {
   "cell_type": "markdown",
   "id": "6e89660f",
   "metadata": {},
   "source": [
    "# Repeat analysis for the whole RheaDB"
   ]
  },
  {
   "cell_type": "code",
   "execution_count": null,
   "id": "35ffe4a3",
   "metadata": {},
   "outputs": [],
   "source": [
    "rdb_all = RheaDB()\n",
    "rhea_all_model = RheaCobraModel('rhea_all_model', rdb_all)"
   ]
  },
  {
   "cell_type": "code",
   "execution_count": null,
   "id": "b1ae79f8",
   "metadata": {},
   "outputs": [],
   "source": [
    "rhea_all_model.inspect_model()"
   ]
  },
  {
   "cell_type": "code",
   "execution_count": null,
   "id": "5080eec9",
   "metadata": {},
   "outputs": [],
   "source": [
    "%%time\n",
    "blocked_reactions=flux_analysis.find_blocked_reactions(rhea_all_model.model)\n",
    "print(len(blocked_reactions), 'blocked reactions')"
   ]
  },
  {
   "cell_type": "code",
   "execution_count": null,
   "id": "46816502",
   "metadata": {},
   "outputs": [],
   "source": [
    "%%time\n",
    "consistent_all_model = flux_analysis.fastcc(rhea_all_model.model)\n",
    "print('Number of consistent reactions according to FASTCC', len(consistent_all_model.reactions))"
   ]
  },
  {
   "cell_type": "markdown",
   "id": "67fb159c",
   "metadata": {},
   "source": [
    "# Gapfill rhea_human_model with rhea_all_model"
   ]
  },
  {
   "cell_type": "markdown",
   "id": "a146a19c",
   "metadata": {},
   "source": [
    "Exclude human model reactions from all rhea model to have a clean gapfill"
   ]
  },
  {
   "cell_type": "code",
   "execution_count": null,
   "id": "addadd62",
   "metadata": {},
   "outputs": [],
   "source": [
    "for i in [i.id for i in rhea_human_model.model.reactions]:\n",
    "    try:\n",
    "        reaction = rhea_all_model.model.reactions.get_by_id(i)\n",
    "        rhea_all_model.model.remove_reactions([reaction])\n",
    "    except Exception as e:\n",
    "        print(e)"
   ]
  },
  {
   "cell_type": "markdown",
   "id": "1ab80c44",
   "metadata": {},
   "source": [
    "Gapfill"
   ]
  },
  {
   "cell_type": "code",
   "execution_count": null,
   "id": "fcc50630",
   "metadata": {},
   "outputs": [],
   "source": [
    "solution = flux_analysis.gapfill(rhea_human_model.model, rhea_all_model.model, demand_reactions=False)\n",
    "for reaction in solution[0]:\n",
    "    print(reaction.id)"
   ]
  },
  {
   "cell_type": "markdown",
   "id": "07fe22a0-a06d-41d3-b58d-d3c5eb5cd578",
   "metadata": {},
   "source": [
    "The resulting solution for Rhea reactions for ATP maintenance should be empty, since rhea human modelalready had everything necessary for ATP maintenance"
   ]
  },
  {
   "cell_type": "code",
   "execution_count": null,
   "id": "bc7366b0",
   "metadata": {},
   "outputs": [],
   "source": [
    "solution[0]"
   ]
  },
  {
   "cell_type": "code",
   "execution_count": null,
   "id": "a1b61fe5",
   "metadata": {},
   "outputs": [],
   "source": [
    "stop # it is not a correct python command but I put it here to not proceed if running all cells "
   ]
  },
  {
   "cell_type": "markdown",
   "id": "c75c5d50",
   "metadata": {},
   "source": [
    "We can also instead of using the original objective, specify a given metabolite that we want the model to be able to produce -->"
   ]
  },
  {
   "cell_type": "markdown",
   "id": "1b45fe9c-c3f4-4e87-bba0-15c827b4e7c3",
   "metadata": {},
   "source": [
    "## Notion: the following cell is only for the purpose of explaining analysis logic.\n",
    "If attempted to run on a normal laptop without multiprocessing over cores, it can take >150h to execute.\n",
    "Please, do not execute this cell without computing time and/or capabilities."
   ]
  },
  {
   "cell_type": "code",
   "execution_count": null,
   "id": "07887edb",
   "metadata": {},
   "outputs": [],
   "source": [
    "w = open(os.path.join('cache', 'reactions_results.tsv'),'w')\n",
    "for query_reaction in rhea_human_model.model.reactions:\n",
    "    print(query_reaction)\n",
    "    temp_model = rhea_human_model.model.copy()\n",
    "    with temp_model:\n",
    "        try:\n",
    "            temp_model.objective = query_reaction\n",
    "            solution = flux_analysis.gapfill(temp_model, rhea_all_model.model)\n",
    "            w.write(f\"{query_reaction.id}\\t{';'.join([reaction.id for reaction in solution[0]])}\\n\")\n",
    "            for reaction in solution[0]:\n",
    "                print(reaction.id)\n",
    "                \n",
    "        except Exception as e:\n",
    "            w.write(f\"{query_reaction.id}\\t{e}\\n\")\n",
    "    print()\n",
    "w.close()"
   ]
  },
  {
   "cell_type": "code",
   "execution_count": null,
   "id": "0d05593a",
   "metadata": {},
   "outputs": [],
   "source": []
  }
 ],
 "metadata": {
  "kernelspec": {
   "display_name": "pyrheadbenv",
   "language": "python",
   "name": "pyrheadbenv"
  },
  "language_info": {
   "codemirror_mode": {
    "name": "ipython",
    "version": 3
   },
   "file_extension": ".py",
   "mimetype": "text/x-python",
   "name": "python",
   "nbconvert_exporter": "python",
   "pygments_lexer": "ipython3",
   "version": "3.9.13"
  }
 },
 "nbformat": 4,
 "nbformat_minor": 5
}
