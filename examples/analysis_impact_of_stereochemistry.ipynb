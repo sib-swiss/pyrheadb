{
 "cells": [
  {
   "cell_type": "code",
   "execution_count": null,
   "id": "9d9caf70-791f-441e-856b-b0f36c377ac9",
   "metadata": {},
   "outputs": [],
   "source": [
    "import pandas as pd\n",
    "import os\n",
    "from pyrheadb.RheaDB import RheaDB\n",
    "from pyrheadb.ReactionNetwork import ReactionNetwork\n",
    "rdb = RheaDB()"
   ]
  },
  {
   "cell_type": "code",
   "execution_count": null,
   "id": "78e33b1c-e554-4205-b576-24b0e5bd2ba0",
   "metadata": {},
   "outputs": [],
   "source": [
    "from rdkit import Chem"
   ]
  },
  {
   "cell_type": "code",
   "execution_count": null,
   "id": "64d20d06-d074-4785-b027-749da09c6e8c",
   "metadata": {},
   "outputs": [],
   "source": [
    "def get_inchikey(smiles):\n",
    "    if type(smiles)==float:\n",
    "        return None\n",
    "    mol = Chem.MolFromSmiles(smiles)\n",
    "    if mol:\n",
    "        return Chem.MolToInchiKey(mol)\n",
    "    return None"
   ]
  },
  {
   "cell_type": "code",
   "execution_count": null,
   "id": "db720c18-1b4c-47cf-bbd0-87b2fe089ea3",
   "metadata": {},
   "outputs": [],
   "source": [
    "rdb.df_chebi_cmpname['Inchikey']=rdb.df_chebi_cmpname['smiles'].apply(get_inchikey)"
   ]
  },
  {
   "cell_type": "code",
   "execution_count": null,
   "id": "bfc709c6-e9fa-48b9-9871-5c8d9df34129",
   "metadata": {},
   "outputs": [],
   "source": [
    "rdb.df_chebi_cmpname.drop(columns=['smiles'], inplace=True)\n",
    "rhea_reaction_long_format_smiles_chebi = rdb.rhea_reaction_long_format_smiles_chebi.merge(rdb.df_chebi_cmpname, on='chebiid')"
   ]
  },
  {
   "cell_type": "code",
   "execution_count": null,
   "id": "315c5347-ba56-4858-b592-4283444c0fe6",
   "metadata": {},
   "outputs": [],
   "source": [
    "def build_network_from_long_format_table(long_format_reaction_participant_table, hub_compounds_from='from_count', idgroup='chebiid'):\n",
    "    \"\"\"\n",
    "    Removes hub compounds and creates a networkx graph\n",
    "    :param long_format_reaction_participant_table: table that contains information about which participant is in which reaction\n",
    "    :param hub_compounds_from: 'from_count' or 'from_list'\n",
    "    :return: adds reaction graph to self\n",
    "    \"\"\"\n",
    "    counts_chebiids = long_format_reaction_participant_table['chebiid'].value_counts().rename_axis('chebiid').reset_index(name='counts')\n",
    "    \n",
    "    # identify non hub compounds\n",
    "    # by count\n",
    "    if hub_compounds_from == 'from_count':\n",
    "        df_non_hubs = pd.DataFrame(counts_chebiids[counts_chebiids['counts']<100]['chebiid'])\n",
    "    elif hub_compounds_from == 'from_list':\n",
    "        # by manual list of hub compounds\n",
    "        filepath = os.path.dirname(__file__)\n",
    "        with open(os.path.join(filepath, 'biochemical_assumptions', 'rhea_chebi_hub.tsv')) as f:\n",
    "            hub_compounds = ['CHEBI:'+i.strip() for i in f.readlines() if i]\n",
    "        df_non_hubs = pd.DataFrame(counts_chebiids[~counts_chebiids['chebiid'].isin(hub_compounds)]['chebiid'])\n",
    "    \n",
    "    # Remove hub compounds from the network\n",
    "    long_format_reaction_participant_table = long_format_reaction_participant_table.merge(df_non_hubs, on='chebiid', how='inner')\n",
    "    # create chebiid to chebiid table\n",
    "    df_m = long_format_reaction_participant_table.merge(long_format_reaction_participant_table, on='MASTER_ID')\n",
    "\n",
    "    # Drop transports\n",
    "    df_m = df_m[df_m['reaction_side_x'] != df_m['reaction_side_y']]\n",
    "    df_m[f'{idgroup}pair'] = df_m.apply(lambda row: '.'.join(sorted([row[f'{idgroup}_x'], row[f'{idgroup}_y']])), axis=1)\n",
    "    df_m.drop(columns=['reaction_side_x', f'{idgroup}_x', 'smiles_x',\n",
    "    'reaction_side_y', f'{idgroup}_y', 'smiles_y'], inplace=True)\n",
    "    grouped = df_m.groupby(f'{idgroup}pair', as_index=False, dropna=False).agg(lambda x: set(list(x)))\n",
    "    grouped[f'{idgroup}1']=grouped[f'{idgroup}pair'].apply(lambda x: x.split('.')[0])\n",
    "    grouped[f'{idgroup}2']=grouped[f'{idgroup}pair'].apply(lambda x: x.split('.')[1])\n",
    "\n",
    "    return grouped"
   ]
  },
  {
   "cell_type": "code",
   "execution_count": null,
   "id": "0e3aea4f-88b2-4b95-98c4-a541cb9f4b29",
   "metadata": {},
   "outputs": [],
   "source": [
    "rhea_reaction_long_format_smiles_chebi['Inchikey14l']=rhea_reaction_long_format_smiles_chebi['Inchikey'].apply(lambda x: x.split('-')[0])"
   ]
  },
  {
   "cell_type": "code",
   "execution_count": null,
   "id": "3224ac79-b560-4de9-87dc-1f6e049fbb68",
   "metadata": {},
   "outputs": [],
   "source": [
    "grouped = build_network_from_long_format_table(rhea_reaction_long_format_smiles_chebi, idgroup='Inchikey')"
   ]
  },
  {
   "cell_type": "code",
   "execution_count": null,
   "id": "e171e953-1792-4190-b077-d69ed981d2c8",
   "metadata": {},
   "outputs": [],
   "source": [
    "grouped.head()"
   ]
  },
  {
   "cell_type": "code",
   "execution_count": null,
   "id": "69ec8057-99ea-4ea5-be37-464995022eec",
   "metadata": {},
   "outputs": [],
   "source": [
    "grouped.dropna(subset=['Inchikey1', 'Inchikey2'], inplace=True)"
   ]
  },
  {
   "cell_type": "code",
   "execution_count": null,
   "id": "6a850ae6-c7ec-481a-b09e-b2cb8407ca51",
   "metadata": {},
   "outputs": [],
   "source": [
    "import networkx as nx"
   ]
  },
  {
   "cell_type": "code",
   "execution_count": null,
   "id": "e9be3e9a-163e-49dd-9961-14f3b4b1fac9",
   "metadata": {},
   "outputs": [],
   "source": [
    "participants_graph = nx.from_pandas_edgelist(grouped, 'Inchikey1', 'Inchikey2', ['MASTER_ID'])"
   ]
  },
  {
   "cell_type": "code",
   "execution_count": null,
   "id": "97ef07d6-0dfa-4076-bede-781d712e1eec",
   "metadata": {},
   "outputs": [],
   "source": [
    "print('nodes:', len(participants_graph.nodes()))\n",
    "print('edges:', len(participants_graph.edges()))"
   ]
  },
  {
   "cell_type": "code",
   "execution_count": null,
   "id": "f694590a-470a-4fc8-beea-b7ed829d8bc2",
   "metadata": {},
   "outputs": [],
   "source": [
    "grouped14l = build_network_from_long_format_table(rhea_reaction_long_format_smiles_chebi, idgroup='Inchikey14l')"
   ]
  },
  {
   "cell_type": "code",
   "execution_count": null,
   "id": "eb002d39-179a-475f-a722-debd6fcbf31d",
   "metadata": {},
   "outputs": [],
   "source": [
    "grouped14l.dropna(subset=['Inchikey14l1', 'Inchikey14l2'], inplace=True)"
   ]
  },
  {
   "cell_type": "code",
   "execution_count": null,
   "id": "f4842b97-04da-491e-b006-3b51595d290f",
   "metadata": {},
   "outputs": [],
   "source": [
    "participants_graph_14l = nx.from_pandas_edgelist(grouped14l, 'Inchikey14l1', 'Inchikey14l2', ['MASTER_ID'])\n",
    "print('nodes:', len(participants_graph_14l.nodes()))\n",
    "print('edges:', len(participants_graph_14l.edges()))"
   ]
  },
  {
   "cell_type": "code",
   "execution_count": null,
   "id": "82a6d732-d970-44ef-9312-84c83ebc7304",
   "metadata": {},
   "outputs": [],
   "source": [
    "def connected_in_graph(row, G = nx.Graph, idtype='Inchikey'):\n",
    "    nodefrom = row['from']#[f'{idtype}_x']\n",
    "    nodeto = row['to']#[f'{idtype}_y']\n",
    "    try: \n",
    "        path=nx.shortest_path(G, nodefrom, nodeto)\n",
    "        if path:\n",
    "            return True\n",
    "    except Exception:\n",
    "        return None\n"
   ]
  },
  {
   "cell_type": "code",
   "execution_count": null,
   "id": "e97e0aef-5ea2-4d9c-b355-1618e0934828",
   "metadata": {
    "scrolled": true
   },
   "outputs": [],
   "source": [
    "import itertools\n",
    "chebis = rdb.df_chebi_cmpname['chebiid'].to_list()\n",
    "chebis_combs = list(itertools.product(chebis, chebis))\n",
    "len(chebis_combs)"
   ]
  },
  {
   "cell_type": "code",
   "execution_count": null,
   "id": "893e679d-d400-4c3e-9b84-e5dfdcf094bd",
   "metadata": {},
   "outputs": [],
   "source": []
  },
  {
   "cell_type": "code",
   "execution_count": null,
   "id": "eb8a26ff-231d-4e2a-90ea-1339722bf4ba",
   "metadata": {},
   "outputs": [],
   "source": [
    "inchikeys = set(rdb.df_chebi_cmpname['Inchikey'].to_list())\n",
    "inchikeys_combs = list(itertools.product(inchikeys, inchikeys))\n",
    "len(inchikeys_combs)"
   ]
  },
  {
   "cell_type": "code",
   "execution_count": null,
   "id": "695e7b5d-2847-40c3-acad-c2c5ce66cf77",
   "metadata": {},
   "outputs": [],
   "source": []
  },
  {
   "cell_type": "code",
   "execution_count": null,
   "id": "20f05eb3-ab05-4be2-be30-7a67f59ec701",
   "metadata": {},
   "outputs": [],
   "source": [
    "from tqdm import tqdm\n",
    "tqdm.pandas()"
   ]
  },
  {
   "cell_type": "code",
   "execution_count": null,
   "id": "3e02aa44-8dbf-4cf8-83ab-3604e61668b4",
   "metadata": {},
   "outputs": [],
   "source": [
    "df_combs = pd.DataFrame(inchikeys_combs, columns=['from', 'to'])"
   ]
  },
  {
   "cell_type": "code",
   "execution_count": null,
   "id": "31006b6c-fb64-42c4-b471-84b007772162",
   "metadata": {},
   "outputs": [],
   "source": [
    "df_combs['connected']=df_combs.progress_apply(connected_in_graph,axis=1, G=participants_graph , idtype='Inchikey')"
   ]
  },
  {
   "cell_type": "code",
   "execution_count": null,
   "id": "1882f96f-acf3-45fe-a55c-eca5ac5b6b69",
   "metadata": {},
   "outputs": [],
   "source": [
    "def get_inchikey14l_pair(row):\n",
    "    listinchikeys14l=[row['from'].split('-')[0], row['to'].split('-')[0]]\n",
    "    listinchikeys14l.sort()\n",
    "    if not all(listinchikeys14l):\n",
    "        return False\n",
    "    listinchikeys14l = ';'.join(listinchikeys14l)\n",
    "    return listinchikeys14l\n",
    "\n",
    "df_combs.dropna(subset=['from', 'to'], inplace=True)\n",
    "df_combs = df_combs[df_combs['connected']==True]\n",
    "df_combs['pair']=df_combs.progress_apply(get_inchikey14l_pair, axis=1)\n",
    "df_combs = df_combs[df_combs['pair']!=False]\n",
    "df_combs.to_csv('inchis_connected.tsv', sep='\\t')\n",
    "len(df_combs)"
   ]
  },
  {
   "cell_type": "code",
   "execution_count": null,
   "id": "563c4d3b-5779-415a-a6d7-425ed6e42a45",
   "metadata": {},
   "outputs": [],
   "source": [
    "rdb.df_chebi_cmpname.dropna(subset=['Inchikey'], inplace=True)\n",
    "rdb.df_chebi_cmpname['Inchikey14l']=rdb.df_chebi_cmpname['Inchikey'].apply(lambda x: x.split('-')[0])\n",
    "inchikeys = set(rdb.df_chebi_cmpname['Inchikey14l'].to_list())\n",
    "inchikeys14l_combs = list(itertools.product(inchikeys, inchikeys))\n",
    "len(inchikeys14l_combs)"
   ]
  },
  {
   "cell_type": "code",
   "execution_count": null,
   "id": "058ccf1c-48a4-4086-8216-d68c58a92d6d",
   "metadata": {},
   "outputs": [],
   "source": [
    "df_combs_14l = pd.DataFrame(inchikeys14l_combs, columns=['from', 'to'])\n",
    "df_combs_14l['connected']=df_combs_14l.progress_apply(connected_in_graph, axis=1, G=participants_graph_14l , idtype='Inchikey14l')\n",
    "df_combs_14l = df_combs_14l[df_combs_14l['connected']==True]\n",
    "df_combs_14l['pair']=df_combs_14l.progress_apply(get_inchikey14l_pair, axis=1)\n",
    "df_combs_14l = df_combs_14l[df_combs_14l['pair']!=False]\n",
    "df_combs_14l.to_csv('inchikey14l_connected.tsv', sep='\\t')\n",
    "len(df_combs_14l)"
   ]
  },
  {
   "cell_type": "code",
   "execution_count": null,
   "id": "ef083a8d-477d-4d52-ba79-82ad7615a59c",
   "metadata": {},
   "outputs": [],
   "source": [
    "print(len(set(df_combs_14l['pair'].to_list())-set(df_combs['pair'].to_list())))\n",
    "print(len(set(df_combs['pair'].to_list())-set(df_combs_14l['pair'].to_list())))\n",
    "print(len(set(df_combs['pair'].to_list()).intersection(set(df_combs_14l['pair'].to_list()))))"
   ]
  },
  {
   "cell_type": "code",
   "execution_count": null,
   "id": "8a8ee8b2-fdcf-4d0f-9fa6-a6b6e6fd7d46",
   "metadata": {},
   "outputs": [],
   "source": [
    "set(df_combs_14l['pair'].to_list())-set(df_combs['pair'].to_list())"
   ]
  },
  {
   "cell_type": "code",
   "execution_count": null,
   "id": "0f173415-cca4-4a7b-8ae7-4856dad8f5e9",
   "metadata": {},
   "outputs": [],
   "source": [
    "nx.shortest_path(participants_graph_14l, 'NJOIWWRMLFSDTM', 'YNPGYMZVNLIZLD')"
   ]
  },
  {
   "cell_type": "code",
   "execution_count": null,
   "id": "0a4a56ba-6edd-4a9e-8089-4c9fcdc85e1f",
   "metadata": {},
   "outputs": [],
   "source": []
  }
 ],
 "metadata": {
  "kernelspec": {
   "display_name": "pyrheadbenv",
   "language": "python",
   "name": "pyrheadbenv"
  },
  "language_info": {
   "codemirror_mode": {
    "name": "ipython",
    "version": 3
   },
   "file_extension": ".py",
   "mimetype": "text/x-python",
   "name": "python",
   "nbconvert_exporter": "python",
   "pygments_lexer": "ipython3",
   "version": "3.13.2"
  }
 },
 "nbformat": 4,
 "nbformat_minor": 5
}
